{
 "cells": [
  {
   "cell_type": "code",
   "execution_count": 0,
   "metadata": {
    "colab": {},
    "colab_type": "code",
    "id": "LyujUiDQAHHt"
   },
   "outputs": [],
   "source": [
    "!sudo apt-get install build-essential swig\n",
    "!curl https://raw.githubusercontent.com/automl/auto-sklearn/master/requirements.txt | xargs -n 1 -L 1 pip install\n",
    "!pip install auto-sklearn"
   ]
  },
  {
   "cell_type": "code",
   "execution_count": 15,
   "metadata": {
    "colab": {
     "base_uri": "https://localhost:8080/",
     "height": 34
    },
    "colab_type": "code",
    "id": "A_ZqFweNBKcc",
    "outputId": "feec5c41-6004-4bc3-ac18-2ae6cc6868d9"
   },
   "outputs": [
    {
     "data": {
      "text/plain": [
       "'/usr/bin/python3'"
      ]
     },
     "execution_count": 15,
     "metadata": {
      "tags": []
     },
     "output_type": "execute_result"
    }
   ],
   "source": [
    "import sys; sys.executable\n",
    "import autosklearn.classification"
   ]
  },
  {
   "cell_type": "markdown",
   "metadata": {
    "colab_type": "text",
    "id": "jqvim91gHtxJ"
   },
   "source": [
    "**autosklearn.classification.AutoSklearnClassifier**\n",
    "Parameters: https://github.com/automl/auto-sklearn/blob/master/autosklearn/estimators.py#L49-L210"
   ]
  },
  {
   "cell_type": "code",
   "execution_count": 0,
   "metadata": {
    "colab": {},
    "colab_type": "code",
    "id": "M7Ji-44bDJTb"
   },
   "outputs": [],
   "source": [
    "import sklearn.model_selection\n",
    "import sklearn.datasets\n",
    "import sklearn.metrics\n",
    "\n",
    "X, y = sklearn.datasets.load_digits(return_X_y=True)\n",
    "X_train, X_test, y_train, y_test = sklearn.model_selection.train_test_split(X, y, random_state=1)"
   ]
  },
  {
   "cell_type": "code",
   "execution_count": 0,
   "metadata": {
    "colab": {},
    "colab_type": "code",
    "id": "zjcp2zWGENmX"
   },
   "outputs": [],
   "source": [
    "automl = autosklearn.classification.AutoSklearnClassifier(\n",
    "        time_left_for_this_task=120,\n",
    "        per_run_time_limit=30,\n",
    "        # 'holdout' with 'train_size'=0.67 is the default argument setting\n",
    "        # for AutoSklearnClassifier. It is explicitly specified in this example\n",
    "        # for demonstrational purpose.\n",
    "        resampling_strategy='holdout',\n",
    "        resampling_strategy_arguments={'train_size': 0.67}\n",
    "    )"
   ]
  },
  {
   "cell_type": "code",
   "execution_count": 0,
   "metadata": {
    "colab": {},
    "colab_type": "code",
    "id": "plmjltBuKKPM"
   },
   "outputs": [],
   "source": [
    "automl.fit(X_train, y_train, metric = autosklearn.metrics.accuracy, dataset_name='digits')"
   ]
  },
  {
   "cell_type": "code",
   "execution_count": 0,
   "metadata": {
    "colab": {},
    "colab_type": "code",
    "id": "z0TQZxofEOMW"
   },
   "outputs": [],
   "source": [
    " # Print the final ensemble constructed by auto-sklearn.\n",
    "print(automl.show_models())\n",
    "predictions = automl.predict(X_test)\n",
    "# Print statistics about the auto-sklearn run such as number of\n",
    "# iterations, number of models failed with a time out.\n",
    "print(automl.sprint_statistics())\n",
    "print(\"Accuracy score\", sklearn.metrics.accuracy_score(y_test, predictions))"
   ]
  },
  {
   "cell_type": "markdown",
   "metadata": {
    "colab_type": "text",
    "id": "wUXY6GC3GmfX"
   },
   "source": [
    "Cross Validation with Auto Sklearn"
   ]
  },
  {
   "cell_type": "code",
   "execution_count": 0,
   "metadata": {
    "colab": {},
    "colab_type": "code",
    "id": "ngQ2wCS-EtYz"
   },
   "outputs": [],
   "source": [
    "automl = autosklearn.classification.AutoSklearnClassifier(\n",
    "        time_left_for_this_task=120,\n",
    "        per_run_time_limit=30,\n",
    "        resampling_strategy='cv',\n",
    "        resampling_strategy_arguments={'folds': 5},\n",
    "    )\n",
    "\n",
    "# fit() changes the data in place, but refit needs the original data. We\n",
    "# therefore copy the data. In practice, one should reload the data\n",
    "automl.fit(X_train.copy(), y_train.copy(), dataset_name='digits')\n",
    "# During fit(), models are fit on individual cross-validation folds. To use\n",
    "# all available data, we call refit() which trains all models in the\n",
    "# final ensemble on the whole dataset.\n",
    "automl.refit(X_train.copy(), y_train.copy())\n",
    "\n",
    "print(automl.show_models())\n",
    "\n",
    "predictions = automl.predict(X_test)\n",
    "print(\"Accuracy score\", sklearn.metrics.accuracy_score(y_test, predictions))\n"
   ]
  },
  {
   "cell_type": "code",
   "execution_count": 0,
   "metadata": {
    "colab": {},
    "colab_type": "code",
    "id": "pofO44yuRXRy"
   },
   "outputs": [],
   "source": [
    "import pandas as pd\n",
    "pd.DataFrame(automl.cv_results_)"
   ]
  },
  {
   "cell_type": "code",
   "execution_count": 0,
   "metadata": {
    "colab": {},
    "colab_type": "code",
    "id": "MlumlUBnS1Kg"
   },
   "outputs": [],
   "source": [
    "print(automl.sprint_statistics())"
   ]
  },
  {
   "cell_type": "markdown",
   "metadata": {
    "colab_type": "text",
    "id": "YSXqinh7Glcl"
   },
   "source": [
    "**Regression with Auto sklearn**"
   ]
  },
  {
   "cell_type": "code",
   "execution_count": 0,
   "metadata": {
    "colab": {},
    "colab_type": "code",
    "id": "K0j-R5CzGwPr"
   },
   "outputs": [],
   "source": [
    "import autosklearn.regression\n",
    "\n",
    "\n",
    "X, y = sklearn.datasets.load_boston(return_X_y=True)\n",
    "feature_types = (['numerical'] * 3) + ['categorical'] + (['numerical'] * 9)\n",
    "X_train, X_test, y_train, y_test = \\\n",
    "    sklearn.model_selection.train_test_split(X, y, random_state=1)\n",
    "\n",
    "automl = autosklearn.regression.AutoSklearnRegressor(\n",
    "    time_left_for_this_task=120,\n",
    "    per_run_time_limit=30,\n",
    "    tmp_folder='/tmp/autosklearn_regression_example_tmp',\n",
    "    output_folder='/tmp/autosklearn_regression_example_out',\n",
    ")\n",
    "automl.fit(X_train, y_train, dataset_name='boston',\n",
    "           feat_type=feature_types)\n",
    "\n",
    "print(automl.show_models())\n",
    "predictions = automl.predict(X_test)\n",
    "print(\"R2 score:\", sklearn.metrics.r2_score(y_test, predictions))\n"
   ]
  },
  {
   "cell_type": "markdown",
   "metadata": {
    "colab_type": "text",
    "id": "TCj1yG28Nqr7"
   },
   "source": [
    "**Build your own evaluation metric**\n",
    "\n",
    "Available built-in metrics: [https://github.com/automl/auto-sklearn/blob/master/autosklearn/metrics/__init__.py#L185-L231]"
   ]
  },
  {
   "cell_type": "code",
   "execution_count": 0,
   "metadata": {
    "colab": {},
    "colab_type": "code",
    "id": "usPaP96-Nvfp"
   },
   "outputs": [],
   "source": [
    "import numpy as np"
   ]
  },
  {
   "cell_type": "code",
   "execution_count": 0,
   "metadata": {
    "colab": {},
    "colab_type": "code",
    "id": "r9n1l7bpN5ce"
   },
   "outputs": [],
   "source": [
    "print(\"Available CLASSIFICATION metrics autosklearn.metrics.*:\")\n",
    "print(\"\\t*\" + \"\\n\\t*\".join(autosklearn.metrics.CLASSIFICATION_METRICS))\n"
   ]
  },
  {
   "cell_type": "code",
   "execution_count": 0,
   "metadata": {
    "colab": {},
    "colab_type": "code",
    "id": "MdrMtUhsN5ug"
   },
   "outputs": [],
   "source": [
    "print(\"Available REGRESSION autosklearn.metrics.*:\")\n",
    "print(\"\\t*\" + \"\\n\\t*\".join(autosklearn.metrics.REGRESSION_METRICS))\n"
   ]
  },
  {
   "cell_type": "code",
   "execution_count": 0,
   "metadata": {
    "colab": {},
    "colab_type": "code",
    "id": "ZeVKHScnOABw"
   },
   "outputs": [],
   "source": [
    "def accuracy(solution, prediction):\n",
    "    # custom function defining accuracy\n",
    "    return np.mean(solution == prediction)\n"
   ]
  },
  {
   "cell_type": "code",
   "execution_count": 0,
   "metadata": {
    "colab": {},
    "colab_type": "code",
    "id": "z4-1bltvOZY_"
   },
   "outputs": [],
   "source": [
    "# Use own accuracy metric\n",
    "X, y = sklearn.datasets.load_digits(return_X_y=True)\n",
    "X_train, X_test, y_train, y_test = sklearn.model_selection.train_test_split(X, y, random_state=1)\n",
    "\n",
    "print(\"#\"*80)\n",
    "print(\"Use self defined accuracy metric\")\n",
    "\n",
    "accuracy_scorer = autosklearn.metrics.make_scorer(\n",
    "    name=\"accu\",\n",
    "    score_func=accuracy,\n",
    "    optimum=1,\n",
    "    greater_is_better=True,\n",
    "    needs_proba=False,\n",
    "    needs_threshold=False,\n",
    ")\n",
    "\n",
    "\n",
    "cls = autosklearn.classification.AutoSklearnClassifier(\n",
    "    time_left_for_this_task=60,\n",
    "    per_run_time_limit=30,\n",
    "    seed=1,\n",
    ")\n",
    "cls.fit(X_train, y_train, metric=accuracy_scorer)\n",
    "\n",
    "predictions = cls.predict(X_test)\n",
    "print(cls.sprint_statistics())\n",
    "print(sklearn.metrics.accuracy_score(y_test, predictions))\n"
   ]
  },
  {
   "cell_type": "markdown",
   "metadata": {
    "colab_type": "text",
    "id": "hp03fhxwTKic"
   },
   "source": [
    "**TPOT**\n",
    "\n",
    "http://automl.info/tpot/\n"
   ]
  },
  {
   "cell_type": "code",
   "execution_count": 0,
   "metadata": {
    "colab": {},
    "colab_type": "code",
    "id": "Yzi78vrp3CTg"
   },
   "outputs": [],
   "source": [
    "!pip install TPOT"
   ]
  },
  {
   "cell_type": "code",
   "execution_count": 0,
   "metadata": {
    "colab": {},
    "colab_type": "code",
    "id": "VkfW9L8g2kNp"
   },
   "outputs": [],
   "source": [
    "from tpot import TPOTClassifier\n",
    "from sklearn.datasets import load_digits\n",
    "from sklearn.model_selection import train_test_split\n"
   ]
  },
  {
   "cell_type": "code",
   "execution_count": 0,
   "metadata": {
    "colab": {},
    "colab_type": "code",
    "id": "n-jFKDm-3ObL"
   },
   "outputs": [],
   "source": [
    "digits = load_digits()\n",
    "X_train, X_test, y_train, y_test = train_test_split(digits.data, digits.target,\n",
    "                                                    train_size=0.75, test_size=0.25)\n",
    "X_train.shape, X_test.shape, y_train.shape, y_test.shape"
   ]
  },
  {
   "cell_type": "code",
   "execution_count": 0,
   "metadata": {
    "colab": {},
    "colab_type": "code",
    "id": "H83c2iSt3fbb"
   },
   "outputs": [],
   "source": [
    "tpot = TPOTClassifier(verbosity=2, max_time_mins=5, population_size=40)\n",
    "tpot.fit(X_train, y_train)\n",
    "print(tpot.score(X_test, y_test))"
   ]
  }
 ],
 "metadata": {
  "colab": {
   "collapsed_sections": [],
   "name": "Auto-ML.ipynb",
   "provenance": [],
   "version": "0.3.2"
  },
  "kernelspec": {
   "display_name": "Python 3",
   "language": "python",
   "name": "python3"
  },
  "language_info": {
   "codemirror_mode": {
    "name": "ipython",
    "version": 3
   },
   "file_extension": ".py",
   "mimetype": "text/x-python",
   "name": "python",
   "nbconvert_exporter": "python",
   "pygments_lexer": "ipython3",
   "version": "3.7.1"
  }
 },
 "nbformat": 4,
 "nbformat_minor": 1
}
