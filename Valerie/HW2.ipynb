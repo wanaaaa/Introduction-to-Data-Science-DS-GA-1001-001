{
 "cells": [
  {
   "cell_type": "markdown",
   "metadata": {},
   "source": [
    "# Looking at the data"
   ]
  },
  {
   "cell_type": "code",
   "execution_count": 1,
   "metadata": {},
   "outputs": [],
   "source": [
    "import numpy as np\n",
    "import pandas as pd\n",
    "import csv"
   ]
  },
  {
   "cell_type": "code",
   "execution_count": 2,
   "metadata": {},
   "outputs": [],
   "source": [
    "filename = 'train.csv'\n",
    "df = pd.read_csv(filename, header = 0, delimiter = ',')"
   ]
  },
  {
   "cell_type": "code",
   "execution_count": 3,
   "metadata": {},
   "outputs": [
    {
     "data": {
      "text/plain": [
       "(18000, 12)"
      ]
     },
     "execution_count": 3,
     "metadata": {},
     "output_type": "execute_result"
    }
   ],
   "source": [
    "df.shape"
   ]
  },
  {
   "cell_type": "code",
   "execution_count": 4,
   "metadata": {},
   "outputs": [
    {
     "data": {
      "text/html": [
       "<div>\n",
       "<style scoped>\n",
       "    .dataframe tbody tr th:only-of-type {\n",
       "        vertical-align: middle;\n",
       "    }\n",
       "\n",
       "    .dataframe tbody tr th {\n",
       "        vertical-align: top;\n",
       "    }\n",
       "\n",
       "    .dataframe thead th {\n",
       "        text-align: right;\n",
       "    }\n",
       "</style>\n",
       "<table border=\"1\" class=\"dataframe\">\n",
       "  <thead>\n",
       "    <tr style=\"text-align: right;\">\n",
       "      <th></th>\n",
       "      <th>COLLEGE</th>\n",
       "      <th>INCOME</th>\n",
       "      <th>OVERAGE</th>\n",
       "      <th>LEFTOVER</th>\n",
       "      <th>HOUSE</th>\n",
       "      <th>HANDSET_PRICE</th>\n",
       "      <th>OVER_15MINS_CALLS_PER_MONTH</th>\n",
       "      <th>AVERAGE_CALL_DURATION</th>\n",
       "      <th>REPORTED_SATISFACTION</th>\n",
       "      <th>REPORTED_USAGE_LEVEL</th>\n",
       "      <th>CONSIDERING_CHANGE_OF_PLAN</th>\n",
       "      <th>LEAVE</th>\n",
       "    </tr>\n",
       "  </thead>\n",
       "  <tbody>\n",
       "    <tr>\n",
       "      <th>0</th>\n",
       "      <td>zero</td>\n",
       "      <td>28987</td>\n",
       "      <td>191</td>\n",
       "      <td>20</td>\n",
       "      <td>175953</td>\n",
       "      <td>217</td>\n",
       "      <td>28</td>\n",
       "      <td>5</td>\n",
       "      <td>unsat</td>\n",
       "      <td>very_little</td>\n",
       "      <td>considering</td>\n",
       "      <td>1</td>\n",
       "    </tr>\n",
       "    <tr>\n",
       "      <th>1</th>\n",
       "      <td>zero</td>\n",
       "      <td>45201</td>\n",
       "      <td>0</td>\n",
       "      <td>0</td>\n",
       "      <td>841177</td>\n",
       "      <td>160</td>\n",
       "      <td>1</td>\n",
       "      <td>15</td>\n",
       "      <td>unsat</td>\n",
       "      <td>avg</td>\n",
       "      <td>actively_looking_into_it</td>\n",
       "      <td>0</td>\n",
       "    </tr>\n",
       "    <tr>\n",
       "      <th>2</th>\n",
       "      <td>one</td>\n",
       "      <td>110663</td>\n",
       "      <td>0</td>\n",
       "      <td>0</td>\n",
       "      <td>902611</td>\n",
       "      <td>529</td>\n",
       "      <td>1</td>\n",
       "      <td>13</td>\n",
       "      <td>very_unsat</td>\n",
       "      <td>high</td>\n",
       "      <td>perhaps</td>\n",
       "      <td>0</td>\n",
       "    </tr>\n",
       "    <tr>\n",
       "      <th>3</th>\n",
       "      <td>zero</td>\n",
       "      <td>40646</td>\n",
       "      <td>169</td>\n",
       "      <td>71</td>\n",
       "      <td>772903</td>\n",
       "      <td>146</td>\n",
       "      <td>24</td>\n",
       "      <td>2</td>\n",
       "      <td>very_unsat</td>\n",
       "      <td>little</td>\n",
       "      <td>considering</td>\n",
       "      <td>1</td>\n",
       "    </tr>\n",
       "    <tr>\n",
       "      <th>4</th>\n",
       "      <td>one</td>\n",
       "      <td>132530</td>\n",
       "      <td>0</td>\n",
       "      <td>10</td>\n",
       "      <td>196535</td>\n",
       "      <td>559</td>\n",
       "      <td>0</td>\n",
       "      <td>6</td>\n",
       "      <td>very_unsat</td>\n",
       "      <td>avg</td>\n",
       "      <td>perhaps</td>\n",
       "      <td>0</td>\n",
       "    </tr>\n",
       "  </tbody>\n",
       "</table>\n",
       "</div>"
      ],
      "text/plain": [
       "  COLLEGE  INCOME  OVERAGE  LEFTOVER   HOUSE  HANDSET_PRICE  \\\n",
       "0    zero   28987      191        20  175953            217   \n",
       "1    zero   45201        0         0  841177            160   \n",
       "2     one  110663        0         0  902611            529   \n",
       "3    zero   40646      169        71  772903            146   \n",
       "4     one  132530        0        10  196535            559   \n",
       "\n",
       "   OVER_15MINS_CALLS_PER_MONTH  AVERAGE_CALL_DURATION REPORTED_SATISFACTION  \\\n",
       "0                           28                      5                 unsat   \n",
       "1                            1                     15                 unsat   \n",
       "2                            1                     13            very_unsat   \n",
       "3                           24                      2            very_unsat   \n",
       "4                            0                      6            very_unsat   \n",
       "\n",
       "  REPORTED_USAGE_LEVEL CONSIDERING_CHANGE_OF_PLAN  LEAVE  \n",
       "0          very_little                considering      1  \n",
       "1                  avg   actively_looking_into_it      0  \n",
       "2                 high                    perhaps      0  \n",
       "3               little                considering      1  \n",
       "4                  avg                    perhaps      0  "
      ]
     },
     "execution_count": 4,
     "metadata": {},
     "output_type": "execute_result"
    }
   ],
   "source": [
    "df.head()"
   ]
  },
  {
   "cell_type": "code",
   "execution_count": 5,
   "metadata": {},
   "outputs": [
    {
     "name": "stdout",
     "output_type": "stream",
     "text": [
      "<class 'pandas.core.frame.DataFrame'>\n",
      "RangeIndex: 18000 entries, 0 to 17999\n",
      "Data columns (total 12 columns):\n",
      "COLLEGE                        18000 non-null object\n",
      "INCOME                         18000 non-null int64\n",
      "OVERAGE                        18000 non-null int64\n",
      "LEFTOVER                       18000 non-null int64\n",
      "HOUSE                          18000 non-null int64\n",
      "HANDSET_PRICE                  18000 non-null int64\n",
      "OVER_15MINS_CALLS_PER_MONTH    18000 non-null int64\n",
      "AVERAGE_CALL_DURATION          18000 non-null int64\n",
      "REPORTED_SATISFACTION          18000 non-null object\n",
      "REPORTED_USAGE_LEVEL           18000 non-null object\n",
      "CONSIDERING_CHANGE_OF_PLAN     18000 non-null object\n",
      "LEAVE                          18000 non-null int64\n",
      "dtypes: int64(8), object(4)\n",
      "memory usage: 1.6+ MB\n"
     ]
    }
   ],
   "source": [
    "df.info()"
   ]
  },
  {
   "cell_type": "code",
   "execution_count": 6,
   "metadata": {},
   "outputs": [
    {
     "data": {
      "text/plain": [
       "COLLEGE                        object\n",
       "INCOME                          int64\n",
       "OVERAGE                         int64\n",
       "LEFTOVER                        int64\n",
       "HOUSE                           int64\n",
       "HANDSET_PRICE                   int64\n",
       "OVER_15MINS_CALLS_PER_MONTH     int64\n",
       "AVERAGE_CALL_DURATION           int64\n",
       "REPORTED_SATISFACTION          object\n",
       "REPORTED_USAGE_LEVEL           object\n",
       "CONSIDERING_CHANGE_OF_PLAN     object\n",
       "LEAVE                           int64\n",
       "dtype: object"
      ]
     },
     "execution_count": 6,
     "metadata": {},
     "output_type": "execute_result"
    }
   ],
   "source": [
    "df.dtypes"
   ]
  },
  {
   "cell_type": "code",
   "execution_count": 7,
   "metadata": {},
   "outputs": [
    {
     "data": {
      "text/plain": [
       "COLLEGE                        False\n",
       "INCOME                         False\n",
       "OVERAGE                        False\n",
       "LEFTOVER                       False\n",
       "HOUSE                          False\n",
       "HANDSET_PRICE                  False\n",
       "OVER_15MINS_CALLS_PER_MONTH    False\n",
       "AVERAGE_CALL_DURATION          False\n",
       "REPORTED_SATISFACTION          False\n",
       "REPORTED_USAGE_LEVEL           False\n",
       "CONSIDERING_CHANGE_OF_PLAN     False\n",
       "LEAVE                          False\n",
       "dtype: bool"
      ]
     },
     "execution_count": 7,
     "metadata": {},
     "output_type": "execute_result"
    }
   ],
   "source": [
    "df.isnull().any()"
   ]
  },
  {
   "cell_type": "code",
   "execution_count": 8,
   "metadata": {},
   "outputs": [
    {
     "data": {
      "text/plain": [
       "(18000, 12)"
      ]
     },
     "execution_count": 8,
     "metadata": {},
     "output_type": "execute_result"
    }
   ],
   "source": [
    "df.shape"
   ]
  },
  {
   "cell_type": "code",
   "execution_count": 9,
   "metadata": {},
   "outputs": [],
   "source": [
    "#test.describe()"
   ]
  },
  {
   "cell_type": "code",
   "execution_count": 10,
   "metadata": {},
   "outputs": [
    {
     "data": {
      "text/html": [
       "<div>\n",
       "<style scoped>\n",
       "    .dataframe tbody tr th:only-of-type {\n",
       "        vertical-align: middle;\n",
       "    }\n",
       "\n",
       "    .dataframe tbody tr th {\n",
       "        vertical-align: top;\n",
       "    }\n",
       "\n",
       "    .dataframe thead th {\n",
       "        text-align: right;\n",
       "    }\n",
       "</style>\n",
       "<table border=\"1\" class=\"dataframe\">\n",
       "  <thead>\n",
       "    <tr style=\"text-align: right;\">\n",
       "      <th></th>\n",
       "      <th>COLLEGE</th>\n",
       "      <th>INCOME</th>\n",
       "      <th>OVERAGE</th>\n",
       "      <th>LEFTOVER</th>\n",
       "      <th>HOUSE</th>\n",
       "      <th>HANDSET_PRICE</th>\n",
       "      <th>OVER_15MINS_CALLS_PER_MONTH</th>\n",
       "      <th>AVERAGE_CALL_DURATION</th>\n",
       "      <th>REPORTED_SATISFACTION</th>\n",
       "      <th>REPORTED_USAGE_LEVEL</th>\n",
       "      <th>CONSIDERING_CHANGE_OF_PLAN</th>\n",
       "      <th>LEAVE</th>\n",
       "    </tr>\n",
       "  </thead>\n",
       "  <tbody>\n",
       "    <tr>\n",
       "      <th>8498</th>\n",
       "      <td>zero</td>\n",
       "      <td>92956</td>\n",
       "      <td>-2</td>\n",
       "      <td>0</td>\n",
       "      <td>816777</td>\n",
       "      <td>274</td>\n",
       "      <td>4</td>\n",
       "      <td>2</td>\n",
       "      <td>very_unsat</td>\n",
       "      <td>very_high</td>\n",
       "      <td>considering</td>\n",
       "      <td>0</td>\n",
       "    </tr>\n",
       "  </tbody>\n",
       "</table>\n",
       "</div>"
      ],
      "text/plain": [
       "     COLLEGE  INCOME  OVERAGE  LEFTOVER   HOUSE  HANDSET_PRICE  \\\n",
       "8498    zero   92956       -2         0  816777            274   \n",
       "\n",
       "      OVER_15MINS_CALLS_PER_MONTH  AVERAGE_CALL_DURATION  \\\n",
       "8498                            4                      2   \n",
       "\n",
       "     REPORTED_SATISFACTION REPORTED_USAGE_LEVEL CONSIDERING_CHANGE_OF_PLAN  \\\n",
       "8498            very_unsat            very_high                considering   \n",
       "\n",
       "      LEAVE  \n",
       "8498      0  "
      ]
     },
     "execution_count": 10,
     "metadata": {},
     "output_type": "execute_result"
    }
   ],
   "source": [
    "df.loc[df['OVERAGE'] == -2]"
   ]
  },
  {
   "cell_type": "code",
   "execution_count": 11,
   "metadata": {},
   "outputs": [
    {
     "data": {
      "text/html": [
       "<div>\n",
       "<style scoped>\n",
       "    .dataframe tbody tr th:only-of-type {\n",
       "        vertical-align: middle;\n",
       "    }\n",
       "\n",
       "    .dataframe tbody tr th {\n",
       "        vertical-align: top;\n",
       "    }\n",
       "\n",
       "    .dataframe thead th {\n",
       "        text-align: right;\n",
       "    }\n",
       "</style>\n",
       "<table border=\"1\" class=\"dataframe\">\n",
       "  <thead>\n",
       "    <tr style=\"text-align: right;\">\n",
       "      <th></th>\n",
       "      <th>COLLEGE</th>\n",
       "      <th>INCOME</th>\n",
       "      <th>OVERAGE</th>\n",
       "      <th>LEFTOVER</th>\n",
       "      <th>HOUSE</th>\n",
       "      <th>HANDSET_PRICE</th>\n",
       "      <th>OVER_15MINS_CALLS_PER_MONTH</th>\n",
       "      <th>AVERAGE_CALL_DURATION</th>\n",
       "      <th>REPORTED_SATISFACTION</th>\n",
       "      <th>REPORTED_USAGE_LEVEL</th>\n",
       "      <th>CONSIDERING_CHANGE_OF_PLAN</th>\n",
       "      <th>LEAVE</th>\n",
       "    </tr>\n",
       "  </thead>\n",
       "  <tbody>\n",
       "    <tr>\n",
       "      <th>8498</th>\n",
       "      <td>zero</td>\n",
       "      <td>92956</td>\n",
       "      <td>-2</td>\n",
       "      <td>0</td>\n",
       "      <td>816777</td>\n",
       "      <td>274</td>\n",
       "      <td>4</td>\n",
       "      <td>2</td>\n",
       "      <td>very_unsat</td>\n",
       "      <td>very_high</td>\n",
       "      <td>considering</td>\n",
       "      <td>0</td>\n",
       "    </tr>\n",
       "  </tbody>\n",
       "</table>\n",
       "</div>"
      ],
      "text/plain": [
       "     COLLEGE  INCOME  OVERAGE  LEFTOVER   HOUSE  HANDSET_PRICE  \\\n",
       "8498    zero   92956       -2         0  816777            274   \n",
       "\n",
       "      OVER_15MINS_CALLS_PER_MONTH  AVERAGE_CALL_DURATION  \\\n",
       "8498                            4                      2   \n",
       "\n",
       "     REPORTED_SATISFACTION REPORTED_USAGE_LEVEL CONSIDERING_CHANGE_OF_PLAN  \\\n",
       "8498            very_unsat            very_high                considering   \n",
       "\n",
       "      LEAVE  \n",
       "8498      0  "
      ]
     },
     "execution_count": 11,
     "metadata": {},
     "output_type": "execute_result"
    }
   ],
   "source": [
    "test = df\n",
    "test.loc[test['OVERAGE'] == -2]\n",
    "\n"
   ]
  },
  {
   "cell_type": "code",
   "execution_count": 12,
   "metadata": {},
   "outputs": [],
   "source": [
    "#test = test.drop(index=8498, axis =0)"
   ]
  },
  {
   "cell_type": "code",
   "execution_count": 13,
   "metadata": {},
   "outputs": [],
   "source": [
    "#test.iloc[8498]"
   ]
  },
  {
   "cell_type": "code",
   "execution_count": 14,
   "metadata": {},
   "outputs": [],
   "source": [
    "#df.iloc[8498]"
   ]
  },
  {
   "cell_type": "code",
   "execution_count": 15,
   "metadata": {},
   "outputs": [],
   "source": [
    "#df = test\n",
    "#df.info()"
   ]
  },
  {
   "cell_type": "code",
   "execution_count": 16,
   "metadata": {},
   "outputs": [
    {
     "data": {
      "text/plain": [
       "0    9106\n",
       "1    8894\n",
       "Name: LEAVE, dtype: int64"
      ]
     },
     "execution_count": 16,
     "metadata": {},
     "output_type": "execute_result"
    }
   ],
   "source": [
    "df['LEAVE'].value_counts()"
   ]
  },
  {
   "cell_type": "code",
   "execution_count": 17,
   "metadata": {},
   "outputs": [
    {
     "data": {
      "text/html": [
       "<div>\n",
       "<style scoped>\n",
       "    .dataframe tbody tr th:only-of-type {\n",
       "        vertical-align: middle;\n",
       "    }\n",
       "\n",
       "    .dataframe tbody tr th {\n",
       "        vertical-align: top;\n",
       "    }\n",
       "\n",
       "    .dataframe thead th {\n",
       "        text-align: right;\n",
       "    }\n",
       "</style>\n",
       "<table border=\"1\" class=\"dataframe\">\n",
       "  <thead>\n",
       "    <tr style=\"text-align: right;\">\n",
       "      <th></th>\n",
       "      <th>INCOME</th>\n",
       "      <th>OVERAGE</th>\n",
       "      <th>LEFTOVER</th>\n",
       "      <th>HOUSE</th>\n",
       "      <th>HANDSET_PRICE</th>\n",
       "      <th>OVER_15MINS_CALLS_PER_MONTH</th>\n",
       "      <th>AVERAGE_CALL_DURATION</th>\n",
       "    </tr>\n",
       "    <tr>\n",
       "      <th>LEAVE</th>\n",
       "      <th></th>\n",
       "      <th></th>\n",
       "      <th></th>\n",
       "      <th></th>\n",
       "      <th></th>\n",
       "      <th></th>\n",
       "      <th></th>\n",
       "    </tr>\n",
       "  </thead>\n",
       "  <tbody>\n",
       "    <tr>\n",
       "      <th>0</th>\n",
       "      <td>76316.473534</td>\n",
       "      <td>65.756424</td>\n",
       "      <td>22.261146</td>\n",
       "      <td>546953.57852</td>\n",
       "      <td>370.648693</td>\n",
       "      <td>6.203931</td>\n",
       "      <td>6.049418</td>\n",
       "    </tr>\n",
       "    <tr>\n",
       "      <th>1</th>\n",
       "      <td>84604.298403</td>\n",
       "      <td>106.852822</td>\n",
       "      <td>25.580391</td>\n",
       "      <td>438319.60434</td>\n",
       "      <td>410.641444</td>\n",
       "      <td>9.853047</td>\n",
       "      <td>5.961660</td>\n",
       "    </tr>\n",
       "  </tbody>\n",
       "</table>\n",
       "</div>"
      ],
      "text/plain": [
       "             INCOME     OVERAGE   LEFTOVER         HOUSE  HANDSET_PRICE  \\\n",
       "LEAVE                                                                     \n",
       "0      76316.473534   65.756424  22.261146  546953.57852     370.648693   \n",
       "1      84604.298403  106.852822  25.580391  438319.60434     410.641444   \n",
       "\n",
       "       OVER_15MINS_CALLS_PER_MONTH  AVERAGE_CALL_DURATION  \n",
       "LEAVE                                                      \n",
       "0                         6.203931               6.049418  \n",
       "1                         9.853047               5.961660  "
      ]
     },
     "execution_count": 17,
     "metadata": {},
     "output_type": "execute_result"
    }
   ],
   "source": [
    "df.groupby('LEAVE').mean()"
   ]
  },
  {
   "cell_type": "code",
   "execution_count": 18,
   "metadata": {},
   "outputs": [],
   "source": [
    "df['COLLEGE'] = df['COLLEGE'].astype(str)"
   ]
  },
  {
   "cell_type": "code",
   "execution_count": 19,
   "metadata": {},
   "outputs": [
    {
     "data": {
      "text/html": [
       "<div>\n",
       "<style scoped>\n",
       "    .dataframe tbody tr th:only-of-type {\n",
       "        vertical-align: middle;\n",
       "    }\n",
       "\n",
       "    .dataframe tbody tr th {\n",
       "        vertical-align: top;\n",
       "    }\n",
       "\n",
       "    .dataframe thead th {\n",
       "        text-align: right;\n",
       "    }\n",
       "</style>\n",
       "<table border=\"1\" class=\"dataframe\">\n",
       "  <thead>\n",
       "    <tr style=\"text-align: right;\">\n",
       "      <th></th>\n",
       "      <th>INCOME</th>\n",
       "      <th>OVERAGE</th>\n",
       "      <th>LEFTOVER</th>\n",
       "      <th>HOUSE</th>\n",
       "      <th>HANDSET_PRICE</th>\n",
       "      <th>OVER_15MINS_CALLS_PER_MONTH</th>\n",
       "      <th>AVERAGE_CALL_DURATION</th>\n",
       "    </tr>\n",
       "    <tr>\n",
       "      <th>LEAVE</th>\n",
       "      <th></th>\n",
       "      <th></th>\n",
       "      <th></th>\n",
       "      <th></th>\n",
       "      <th></th>\n",
       "      <th></th>\n",
       "      <th></th>\n",
       "    </tr>\n",
       "  </thead>\n",
       "  <tbody>\n",
       "    <tr>\n",
       "      <th>0</th>\n",
       "      <td>76316.473534</td>\n",
       "      <td>65.756424</td>\n",
       "      <td>22.261146</td>\n",
       "      <td>546953.57852</td>\n",
       "      <td>370.648693</td>\n",
       "      <td>6.203931</td>\n",
       "      <td>6.049418</td>\n",
       "    </tr>\n",
       "    <tr>\n",
       "      <th>1</th>\n",
       "      <td>84604.298403</td>\n",
       "      <td>106.852822</td>\n",
       "      <td>25.580391</td>\n",
       "      <td>438319.60434</td>\n",
       "      <td>410.641444</td>\n",
       "      <td>9.853047</td>\n",
       "      <td>5.961660</td>\n",
       "    </tr>\n",
       "  </tbody>\n",
       "</table>\n",
       "</div>"
      ],
      "text/plain": [
       "             INCOME     OVERAGE   LEFTOVER         HOUSE  HANDSET_PRICE  \\\n",
       "LEAVE                                                                     \n",
       "0      76316.473534   65.756424  22.261146  546953.57852     370.648693   \n",
       "1      84604.298403  106.852822  25.580391  438319.60434     410.641444   \n",
       "\n",
       "       OVER_15MINS_CALLS_PER_MONTH  AVERAGE_CALL_DURATION  \n",
       "LEAVE                                                      \n",
       "0                         6.203931               6.049418  \n",
       "1                         9.853047               5.961660  "
      ]
     },
     "execution_count": 19,
     "metadata": {},
     "output_type": "execute_result"
    }
   ],
   "source": [
    "df.groupby('LEAVE').mean()"
   ]
  },
  {
   "cell_type": "markdown",
   "metadata": {},
   "source": [
    "for x in df['COLLEGE']:\n",
    "    if x is 'one':\n",
    "        df['COLLEGE'].str.replace('one','1')\n",
    "    else: \n",
    "        df['COLLEGE'].str.replace('zero','0')"
   ]
  },
  {
   "cell_type": "code",
   "execution_count": 20,
   "metadata": {},
   "outputs": [
    {
     "data": {
      "text/html": [
       "<div>\n",
       "<style scoped>\n",
       "    .dataframe tbody tr th:only-of-type {\n",
       "        vertical-align: middle;\n",
       "    }\n",
       "\n",
       "    .dataframe tbody tr th {\n",
       "        vertical-align: top;\n",
       "    }\n",
       "\n",
       "    .dataframe thead th {\n",
       "        text-align: right;\n",
       "    }\n",
       "</style>\n",
       "<table border=\"1\" class=\"dataframe\">\n",
       "  <thead>\n",
       "    <tr style=\"text-align: right;\">\n",
       "      <th></th>\n",
       "      <th>INCOME</th>\n",
       "      <th>OVERAGE</th>\n",
       "      <th>LEFTOVER</th>\n",
       "      <th>HOUSE</th>\n",
       "      <th>HANDSET_PRICE</th>\n",
       "      <th>OVER_15MINS_CALLS_PER_MONTH</th>\n",
       "      <th>AVERAGE_CALL_DURATION</th>\n",
       "      <th>LEAVE</th>\n",
       "    </tr>\n",
       "    <tr>\n",
       "      <th>REPORTED_SATISFACTION</th>\n",
       "      <th></th>\n",
       "      <th></th>\n",
       "      <th></th>\n",
       "      <th></th>\n",
       "      <th></th>\n",
       "      <th></th>\n",
       "      <th></th>\n",
       "      <th></th>\n",
       "    </tr>\n",
       "  </thead>\n",
       "  <tbody>\n",
       "    <tr>\n",
       "      <th>avg</th>\n",
       "      <td>79727.667035</td>\n",
       "      <td>84.640487</td>\n",
       "      <td>23.596792</td>\n",
       "      <td>499801.858960</td>\n",
       "      <td>390.062500</td>\n",
       "      <td>7.637168</td>\n",
       "      <td>6.055310</td>\n",
       "      <td>0.476770</td>\n",
       "    </tr>\n",
       "    <tr>\n",
       "      <th>sat</th>\n",
       "      <td>82011.881210</td>\n",
       "      <td>85.597192</td>\n",
       "      <td>24.424406</td>\n",
       "      <td>479487.074514</td>\n",
       "      <td>404.425486</td>\n",
       "      <td>7.820734</td>\n",
       "      <td>5.910367</td>\n",
       "      <td>0.461123</td>\n",
       "    </tr>\n",
       "    <tr>\n",
       "      <th>unsat</th>\n",
       "      <td>80104.956010</td>\n",
       "      <td>87.032222</td>\n",
       "      <td>23.908378</td>\n",
       "      <td>483439.400392</td>\n",
       "      <td>387.047913</td>\n",
       "      <td>8.112076</td>\n",
       "      <td>6.016251</td>\n",
       "      <td>0.509106</td>\n",
       "    </tr>\n",
       "    <tr>\n",
       "      <th>very_sat</th>\n",
       "      <td>80260.010577</td>\n",
       "      <td>83.657779</td>\n",
       "      <td>24.135963</td>\n",
       "      <td>494286.926620</td>\n",
       "      <td>391.094094</td>\n",
       "      <td>7.859850</td>\n",
       "      <td>5.948215</td>\n",
       "      <td>0.490965</td>\n",
       "    </tr>\n",
       "    <tr>\n",
       "      <th>very_unsat</th>\n",
       "      <td>80626.246403</td>\n",
       "      <td>87.522978</td>\n",
       "      <td>23.758067</td>\n",
       "      <td>497675.340411</td>\n",
       "      <td>389.926247</td>\n",
       "      <td>8.165386</td>\n",
       "      <td>6.037575</td>\n",
       "      <td>0.497276</td>\n",
       "    </tr>\n",
       "  </tbody>\n",
       "</table>\n",
       "</div>"
      ],
      "text/plain": [
       "                             INCOME    OVERAGE   LEFTOVER          HOUSE  \\\n",
       "REPORTED_SATISFACTION                                                      \n",
       "avg                    79727.667035  84.640487  23.596792  499801.858960   \n",
       "sat                    82011.881210  85.597192  24.424406  479487.074514   \n",
       "unsat                  80104.956010  87.032222  23.908378  483439.400392   \n",
       "very_sat               80260.010577  83.657779  24.135963  494286.926620   \n",
       "very_unsat             80626.246403  87.522978  23.758067  497675.340411   \n",
       "\n",
       "                       HANDSET_PRICE  OVER_15MINS_CALLS_PER_MONTH  \\\n",
       "REPORTED_SATISFACTION                                               \n",
       "avg                       390.062500                     7.637168   \n",
       "sat                       404.425486                     7.820734   \n",
       "unsat                     387.047913                     8.112076   \n",
       "very_sat                  391.094094                     7.859850   \n",
       "very_unsat                389.926247                     8.165386   \n",
       "\n",
       "                       AVERAGE_CALL_DURATION     LEAVE  \n",
       "REPORTED_SATISFACTION                                   \n",
       "avg                                 6.055310  0.476770  \n",
       "sat                                 5.910367  0.461123  \n",
       "unsat                               6.016251  0.509106  \n",
       "very_sat                            5.948215  0.490965  \n",
       "very_unsat                          6.037575  0.497276  "
      ]
     },
     "execution_count": 20,
     "metadata": {},
     "output_type": "execute_result"
    }
   ],
   "source": [
    "df.groupby('REPORTED_SATISFACTION').mean()"
   ]
  },
  {
   "cell_type": "code",
   "execution_count": 21,
   "metadata": {},
   "outputs": [
    {
     "data": {
      "text/html": [
       "<div>\n",
       "<style scoped>\n",
       "    .dataframe tbody tr th:only-of-type {\n",
       "        vertical-align: middle;\n",
       "    }\n",
       "\n",
       "    .dataframe tbody tr th {\n",
       "        vertical-align: top;\n",
       "    }\n",
       "\n",
       "    .dataframe thead th {\n",
       "        text-align: right;\n",
       "    }\n",
       "</style>\n",
       "<table border=\"1\" class=\"dataframe\">\n",
       "  <thead>\n",
       "    <tr style=\"text-align: right;\">\n",
       "      <th></th>\n",
       "      <th>INCOME</th>\n",
       "      <th>OVERAGE</th>\n",
       "      <th>LEFTOVER</th>\n",
       "      <th>HOUSE</th>\n",
       "      <th>HANDSET_PRICE</th>\n",
       "      <th>OVER_15MINS_CALLS_PER_MONTH</th>\n",
       "      <th>AVERAGE_CALL_DURATION</th>\n",
       "      <th>LEAVE</th>\n",
       "    </tr>\n",
       "    <tr>\n",
       "      <th>COLLEGE</th>\n",
       "      <th></th>\n",
       "      <th></th>\n",
       "      <th></th>\n",
       "      <th></th>\n",
       "      <th></th>\n",
       "      <th></th>\n",
       "      <th></th>\n",
       "      <th></th>\n",
       "    </tr>\n",
       "  </thead>\n",
       "  <tbody>\n",
       "    <tr>\n",
       "      <th>one</th>\n",
       "      <td>80917.668319</td>\n",
       "      <td>85.720864</td>\n",
       "      <td>23.744657</td>\n",
       "      <td>492915.042300</td>\n",
       "      <td>392.611919</td>\n",
       "      <td>7.946464</td>\n",
       "      <td>6.00727</td>\n",
       "      <td>0.501322</td>\n",
       "    </tr>\n",
       "    <tr>\n",
       "      <th>zero</th>\n",
       "      <td>79896.642569</td>\n",
       "      <td>86.410334</td>\n",
       "      <td>24.060525</td>\n",
       "      <td>493643.924344</td>\n",
       "      <td>388.168684</td>\n",
       "      <td>8.068594</td>\n",
       "      <td>6.00482</td>\n",
       "      <td>0.486774</td>\n",
       "    </tr>\n",
       "  </tbody>\n",
       "</table>\n",
       "</div>"
      ],
      "text/plain": [
       "               INCOME    OVERAGE   LEFTOVER          HOUSE  HANDSET_PRICE  \\\n",
       "COLLEGE                                                                     \n",
       "one      80917.668319  85.720864  23.744657  492915.042300     392.611919   \n",
       "zero     79896.642569  86.410334  24.060525  493643.924344     388.168684   \n",
       "\n",
       "         OVER_15MINS_CALLS_PER_MONTH  AVERAGE_CALL_DURATION     LEAVE  \n",
       "COLLEGE                                                                \n",
       "one                         7.946464                6.00727  0.501322  \n",
       "zero                        8.068594                6.00482  0.486774  "
      ]
     },
     "execution_count": 21,
     "metadata": {},
     "output_type": "execute_result"
    }
   ],
   "source": [
    "df.groupby('COLLEGE').mean()"
   ]
  },
  {
   "cell_type": "code",
   "execution_count": 22,
   "metadata": {},
   "outputs": [
    {
     "data": {
      "text/html": [
       "<div>\n",
       "<style scoped>\n",
       "    .dataframe tbody tr th:only-of-type {\n",
       "        vertical-align: middle;\n",
       "    }\n",
       "\n",
       "    .dataframe tbody tr th {\n",
       "        vertical-align: top;\n",
       "    }\n",
       "\n",
       "    .dataframe thead th {\n",
       "        text-align: right;\n",
       "    }\n",
       "</style>\n",
       "<table border=\"1\" class=\"dataframe\">\n",
       "  <thead>\n",
       "    <tr style=\"text-align: right;\">\n",
       "      <th></th>\n",
       "      <th>INCOME</th>\n",
       "      <th>OVERAGE</th>\n",
       "      <th>LEFTOVER</th>\n",
       "      <th>HOUSE</th>\n",
       "      <th>HANDSET_PRICE</th>\n",
       "      <th>OVER_15MINS_CALLS_PER_MONTH</th>\n",
       "      <th>AVERAGE_CALL_DURATION</th>\n",
       "      <th>LEAVE</th>\n",
       "    </tr>\n",
       "    <tr>\n",
       "      <th>REPORTED_USAGE_LEVEL</th>\n",
       "      <th></th>\n",
       "      <th></th>\n",
       "      <th></th>\n",
       "      <th></th>\n",
       "      <th></th>\n",
       "      <th></th>\n",
       "      <th></th>\n",
       "      <th></th>\n",
       "    </tr>\n",
       "  </thead>\n",
       "  <tbody>\n",
       "    <tr>\n",
       "      <th>avg</th>\n",
       "      <td>82197.858903</td>\n",
       "      <td>85.522956</td>\n",
       "      <td>23.920493</td>\n",
       "      <td>498221.000000</td>\n",
       "      <td>398.847704</td>\n",
       "      <td>7.861142</td>\n",
       "      <td>5.879059</td>\n",
       "      <td>0.483763</td>\n",
       "    </tr>\n",
       "    <tr>\n",
       "      <th>high</th>\n",
       "      <td>80415.259259</td>\n",
       "      <td>84.462134</td>\n",
       "      <td>23.069652</td>\n",
       "      <td>490782.482034</td>\n",
       "      <td>382.181316</td>\n",
       "      <td>8.321172</td>\n",
       "      <td>6.159204</td>\n",
       "      <td>0.485904</td>\n",
       "    </tr>\n",
       "    <tr>\n",
       "      <th>little</th>\n",
       "      <td>80262.583451</td>\n",
       "      <td>86.673680</td>\n",
       "      <td>24.025699</td>\n",
       "      <td>491718.856538</td>\n",
       "      <td>393.962158</td>\n",
       "      <td>8.003671</td>\n",
       "      <td>6.013132</td>\n",
       "      <td>0.490822</td>\n",
       "    </tr>\n",
       "    <tr>\n",
       "      <th>very_high</th>\n",
       "      <td>80422.684726</td>\n",
       "      <td>86.971062</td>\n",
       "      <td>23.825936</td>\n",
       "      <td>495791.617276</td>\n",
       "      <td>389.745213</td>\n",
       "      <td>7.993908</td>\n",
       "      <td>6.046127</td>\n",
       "      <td>0.501088</td>\n",
       "    </tr>\n",
       "    <tr>\n",
       "      <th>very_little</th>\n",
       "      <td>80246.483702</td>\n",
       "      <td>84.646685</td>\n",
       "      <td>24.164088</td>\n",
       "      <td>493156.289779</td>\n",
       "      <td>386.333149</td>\n",
       "      <td>7.909116</td>\n",
       "      <td>5.896133</td>\n",
       "      <td>0.498343</td>\n",
       "    </tr>\n",
       "  </tbody>\n",
       "</table>\n",
       "</div>"
      ],
      "text/plain": [
       "                            INCOME    OVERAGE   LEFTOVER          HOUSE  \\\n",
       "REPORTED_USAGE_LEVEL                                                      \n",
       "avg                   82197.858903  85.522956  23.920493  498221.000000   \n",
       "high                  80415.259259  84.462134  23.069652  490782.482034   \n",
       "little                80262.583451  86.673680  24.025699  491718.856538   \n",
       "very_high             80422.684726  86.971062  23.825936  495791.617276   \n",
       "very_little           80246.483702  84.646685  24.164088  493156.289779   \n",
       "\n",
       "                      HANDSET_PRICE  OVER_15MINS_CALLS_PER_MONTH  \\\n",
       "REPORTED_USAGE_LEVEL                                               \n",
       "avg                      398.847704                     7.861142   \n",
       "high                     382.181316                     8.321172   \n",
       "little                   393.962158                     8.003671   \n",
       "very_high                389.745213                     7.993908   \n",
       "very_little              386.333149                     7.909116   \n",
       "\n",
       "                      AVERAGE_CALL_DURATION     LEAVE  \n",
       "REPORTED_USAGE_LEVEL                                   \n",
       "avg                                5.879059  0.483763  \n",
       "high                               6.159204  0.485904  \n",
       "little                             6.013132  0.490822  \n",
       "very_high                          6.046127  0.501088  \n",
       "very_little                        5.896133  0.498343  "
      ]
     },
     "execution_count": 22,
     "metadata": {},
     "output_type": "execute_result"
    }
   ],
   "source": [
    "df.groupby('REPORTED_USAGE_LEVEL').mean()"
   ]
  },
  {
   "cell_type": "code",
   "execution_count": 23,
   "metadata": {},
   "outputs": [
    {
     "data": {
      "text/html": [
       "<div>\n",
       "<style scoped>\n",
       "    .dataframe tbody tr th:only-of-type {\n",
       "        vertical-align: middle;\n",
       "    }\n",
       "\n",
       "    .dataframe tbody tr th {\n",
       "        vertical-align: top;\n",
       "    }\n",
       "\n",
       "    .dataframe thead th {\n",
       "        text-align: right;\n",
       "    }\n",
       "</style>\n",
       "<table border=\"1\" class=\"dataframe\">\n",
       "  <thead>\n",
       "    <tr style=\"text-align: right;\">\n",
       "      <th></th>\n",
       "      <th>INCOME</th>\n",
       "      <th>OVERAGE</th>\n",
       "      <th>LEFTOVER</th>\n",
       "      <th>HOUSE</th>\n",
       "      <th>HANDSET_PRICE</th>\n",
       "      <th>OVER_15MINS_CALLS_PER_MONTH</th>\n",
       "      <th>AVERAGE_CALL_DURATION</th>\n",
       "      <th>LEAVE</th>\n",
       "    </tr>\n",
       "    <tr>\n",
       "      <th>CONSIDERING_CHANGE_OF_PLAN</th>\n",
       "      <th></th>\n",
       "      <th></th>\n",
       "      <th></th>\n",
       "      <th></th>\n",
       "      <th></th>\n",
       "      <th></th>\n",
       "      <th></th>\n",
       "      <th></th>\n",
       "    </tr>\n",
       "  </thead>\n",
       "  <tbody>\n",
       "    <tr>\n",
       "      <th>actively_looking_into_it</th>\n",
       "      <td>80421.375615</td>\n",
       "      <td>88.368456</td>\n",
       "      <td>24.113199</td>\n",
       "      <td>489830.130425</td>\n",
       "      <td>391.430649</td>\n",
       "      <td>8.095749</td>\n",
       "      <td>5.942953</td>\n",
       "      <td>0.495973</td>\n",
       "    </tr>\n",
       "    <tr>\n",
       "      <th>considering</th>\n",
       "      <td>80222.750243</td>\n",
       "      <td>86.211910</td>\n",
       "      <td>24.167386</td>\n",
       "      <td>494897.659802</td>\n",
       "      <td>388.797829</td>\n",
       "      <td>8.097676</td>\n",
       "      <td>5.990260</td>\n",
       "      <td>0.490886</td>\n",
       "    </tr>\n",
       "    <tr>\n",
       "      <th>never_thought</th>\n",
       "      <td>79211.485003</td>\n",
       "      <td>84.709677</td>\n",
       "      <td>22.421053</td>\n",
       "      <td>498432.727221</td>\n",
       "      <td>387.312960</td>\n",
       "      <td>7.811545</td>\n",
       "      <td>6.111488</td>\n",
       "      <td>0.484437</td>\n",
       "    </tr>\n",
       "    <tr>\n",
       "      <th>no</th>\n",
       "      <td>81067.017024</td>\n",
       "      <td>83.648545</td>\n",
       "      <td>23.696046</td>\n",
       "      <td>492625.321527</td>\n",
       "      <td>392.149918</td>\n",
       "      <td>7.833333</td>\n",
       "      <td>6.012081</td>\n",
       "      <td>0.496980</td>\n",
       "    </tr>\n",
       "    <tr>\n",
       "      <th>perhaps</th>\n",
       "      <td>81532.347966</td>\n",
       "      <td>85.851178</td>\n",
       "      <td>24.438972</td>\n",
       "      <td>490076.694861</td>\n",
       "      <td>396.996788</td>\n",
       "      <td>7.931478</td>\n",
       "      <td>6.206638</td>\n",
       "      <td>0.517131</td>\n",
       "    </tr>\n",
       "  </tbody>\n",
       "</table>\n",
       "</div>"
      ],
      "text/plain": [
       "                                  INCOME    OVERAGE   LEFTOVER          HOUSE  \\\n",
       "CONSIDERING_CHANGE_OF_PLAN                                                      \n",
       "actively_looking_into_it    80421.375615  88.368456  24.113199  489830.130425   \n",
       "considering                 80222.750243  86.211910  24.167386  494897.659802   \n",
       "never_thought               79211.485003  84.709677  22.421053  498432.727221   \n",
       "no                          81067.017024  83.648545  23.696046  492625.321527   \n",
       "perhaps                     81532.347966  85.851178  24.438972  490076.694861   \n",
       "\n",
       "                            HANDSET_PRICE  OVER_15MINS_CALLS_PER_MONTH  \\\n",
       "CONSIDERING_CHANGE_OF_PLAN                                               \n",
       "actively_looking_into_it       391.430649                     8.095749   \n",
       "considering                    388.797829                     8.097676   \n",
       "never_thought                  387.312960                     7.811545   \n",
       "no                             392.149918                     7.833333   \n",
       "perhaps                        396.996788                     7.931478   \n",
       "\n",
       "                            AVERAGE_CALL_DURATION     LEAVE  \n",
       "CONSIDERING_CHANGE_OF_PLAN                                   \n",
       "actively_looking_into_it                 5.942953  0.495973  \n",
       "considering                              5.990260  0.490886  \n",
       "never_thought                            6.111488  0.484437  \n",
       "no                                       6.012081  0.496980  \n",
       "perhaps                                  6.206638  0.517131  "
      ]
     },
     "execution_count": 23,
     "metadata": {},
     "output_type": "execute_result"
    }
   ],
   "source": [
    "df.groupby('CONSIDERING_CHANGE_OF_PLAN').mean()"
   ]
  },
  {
   "cell_type": "markdown",
   "metadata": {},
   "source": [
    "Observations on features that seem to have an effect:\n",
    "Categorical Data    \n",
    "    1. college: seems to barely make a difference, .02 more likely to leave if person went to college\n",
    "    2. REPORTED_SATISFACTION: unsat has slightly over 50% chance of leaving and very_unsat has a bit lower than half chance of leaving. These are the 2 highest chances of leaving based on sat ranking. ALSO, sat ranking may be tied with the OVERAGE. These 2 categories had the highest overage, so maybe there are high overcharge fees or they just got upset about being overcharged. \n",
    "    3. REPORTED_USAGE_LEVEL: very high usage has slightly over 50% churn (highest in group) followed by very little. So the rates are probably expensive if you're a heavy user or too pricey to be for a casual user\n",
    "    4. CONSIDERING_CHANGE_OF_PLAN: Those who had the highest overage are most looking into changing plans. Those with highest overage also happen to have lowest estimated house value. HOWEVER!!! Those that chose to leave are \"perhaps\" (51.7) and the next are \"no\"(49.69) and then \"actively looking into it\"(.4959). Maybe if we were to average all these values on a scale where perhaps is 3 and no is 2, the values in between the range of 2-3, this could tell us something. \n",
    "\n",
    "Number Data\n",
    "    1. INCOME: those who left had higher income than those who didnt\n",
    "    2. OVERAGE: those who left had ALMOST DOUBLE overage than those who didn't\n",
    "    3. LEFTOVER: those who left had more leftover minutes per month\n",
    "    4. HOUSE: those who left had cheaper house value\n",
    "    5. HANDSET $$: those who left had more expensive handsets\n",
    "    6. OVER 15 MIN: those who left had more over 15 min calls (maybe related to overage)\n",
    "    7. AVG CALL DURATION: those who left had slightly lover avg call duration but both are pretty close to 6 min\n",
    "    \n",
    "why are income and house indirectly related here?    \n",
    "correlation between high overage and cheaper house value\n",
    "correlation between income and handset price\n",
    "correlation between satisfaction and high overage = higher overage, less satisfaction\n",
    "\n",
    "Features to include:\n",
    "    ***OVERAGE --> higher overage, more chance of leaving\n",
    "    LEFTOVER --> those who had more leftover minutes, less usage = higher chance of leaving\n",
    "    House value? --> those who had cheaper houses AND high overage are more likely to leave"
   ]
  },
  {
   "cell_type": "code",
   "execution_count": 24,
   "metadata": {},
   "outputs": [
    {
     "data": {
      "text/html": [
       "<div>\n",
       "<style scoped>\n",
       "    .dataframe tbody tr th:only-of-type {\n",
       "        vertical-align: middle;\n",
       "    }\n",
       "\n",
       "    .dataframe tbody tr th {\n",
       "        vertical-align: top;\n",
       "    }\n",
       "\n",
       "    .dataframe thead th {\n",
       "        text-align: right;\n",
       "    }\n",
       "</style>\n",
       "<table border=\"1\" class=\"dataframe\">\n",
       "  <thead>\n",
       "    <tr style=\"text-align: right;\">\n",
       "      <th></th>\n",
       "      <th>INCOME</th>\n",
       "      <th>OVERAGE</th>\n",
       "      <th>LEFTOVER</th>\n",
       "      <th>HOUSE</th>\n",
       "      <th>HANDSET_PRICE</th>\n",
       "      <th>OVER_15MINS_CALLS_PER_MONTH</th>\n",
       "      <th>AVERAGE_CALL_DURATION</th>\n",
       "    </tr>\n",
       "    <tr>\n",
       "      <th>LEAVE</th>\n",
       "      <th></th>\n",
       "      <th></th>\n",
       "      <th></th>\n",
       "      <th></th>\n",
       "      <th></th>\n",
       "      <th></th>\n",
       "      <th></th>\n",
       "    </tr>\n",
       "  </thead>\n",
       "  <tbody>\n",
       "    <tr>\n",
       "      <th>0</th>\n",
       "      <td>76316.473534</td>\n",
       "      <td>65.756424</td>\n",
       "      <td>22.261146</td>\n",
       "      <td>546953.57852</td>\n",
       "      <td>370.648693</td>\n",
       "      <td>6.203931</td>\n",
       "      <td>6.049418</td>\n",
       "    </tr>\n",
       "    <tr>\n",
       "      <th>1</th>\n",
       "      <td>84604.298403</td>\n",
       "      <td>106.852822</td>\n",
       "      <td>25.580391</td>\n",
       "      <td>438319.60434</td>\n",
       "      <td>410.641444</td>\n",
       "      <td>9.853047</td>\n",
       "      <td>5.961660</td>\n",
       "    </tr>\n",
       "  </tbody>\n",
       "</table>\n",
       "</div>"
      ],
      "text/plain": [
       "             INCOME     OVERAGE   LEFTOVER         HOUSE  HANDSET_PRICE  \\\n",
       "LEAVE                                                                     \n",
       "0      76316.473534   65.756424  22.261146  546953.57852     370.648693   \n",
       "1      84604.298403  106.852822  25.580391  438319.60434     410.641444   \n",
       "\n",
       "       OVER_15MINS_CALLS_PER_MONTH  AVERAGE_CALL_DURATION  \n",
       "LEAVE                                                      \n",
       "0                         6.203931               6.049418  \n",
       "1                         9.853047               5.961660  "
      ]
     },
     "execution_count": 24,
     "metadata": {},
     "output_type": "execute_result"
    }
   ],
   "source": [
    "df.groupby('LEAVE').mean()"
   ]
  },
  {
   "cell_type": "code",
   "execution_count": 25,
   "metadata": {},
   "outputs": [
    {
     "data": {
      "image/png": "[encoded data removed]",
      "text/plain": [
       "<Figure size 432x288 with 1 Axes>"
      ]
     },
     "metadata": {
      "needs_background": "light"
     },
     "output_type": "display_data"
    }
   ],
   "source": [
    "%matplotlib inline\n",
    "import matplotlib.pyplot as plt\n",
    "pd.crosstab(df['REPORTED_SATISFACTION'],df['LEAVE']).plot(kind='bar')\n",
    "plt.title('Turnover Frequency for Overage')\n",
    "plt.xlabel('REPORTED_SATISFACTION')\n",
    "plt.ylabel('Frequency of Turnover')\n",
    "plt.savefig('department_bar_chart')"
   ]
  },
  {
   "cell_type": "code",
   "execution_count": 26,
   "metadata": {},
   "outputs": [
    {
     "data": {
      "image/png": "[encoded data removed]",
      "text/plain": [
       "<Figure size 432x288 with 1 Axes>"
      ]
     },
     "metadata": {
      "needs_background": "light"
     },
     "output_type": "display_data"
    }
   ],
   "source": [
    "%matplotlib inline\n",
    "import matplotlib.pyplot as plt\n",
    "pd.crosstab(df['COLLEGE'],df['LEAVE']).plot(kind='bar')\n",
    "plt.title('Turnover Frequency for Overage')\n",
    "plt.xlabel('college')\n",
    "plt.ylabel('Frequency of Turnover')\n",
    "plt.savefig('department_bar_chart')"
   ]
  },
  {
   "cell_type": "code",
   "execution_count": 27,
   "metadata": {},
   "outputs": [
    {
     "data": {
      "image/png": "[encoded data removed]",
      "text/plain": [
       "<Figure size 432x288 with 1 Axes>"
      ]
     },
     "metadata": {
      "needs_background": "light"
     },
     "output_type": "display_data"
    }
   ],
   "source": [
    "%matplotlib inline\n",
    "import matplotlib.pyplot as plt\n",
    "pd.crosstab(df['REPORTED_USAGE_LEVEL'],df['LEAVE']).plot(kind='bar')\n",
    "plt.title('Turnover Frequency for Overage')\n",
    "plt.xlabel('REPORTED_USAGE_LEVEL')\n",
    "plt.ylabel('Frequency of Turnover')\n",
    "plt.savefig('department_bar_chart')"
   ]
  },
  {
   "cell_type": "code",
   "execution_count": 28,
   "metadata": {},
   "outputs": [
    {
     "data": {
      "image/png": "[encoded data removed]",
      "text/plain": [
       "<Figure size 432x288 with 1 Axes>"
      ]
     },
     "metadata": {
      "needs_background": "light"
     },
     "output_type": "display_data"
    }
   ],
   "source": [
    "%matplotlib inline\n",
    "import matplotlib.pyplot as plt\n",
    "pd.crosstab(df['CONSIDERING_CHANGE_OF_PLAN'],df['LEAVE']).plot(kind='bar')\n",
    "plt.title('Turnover Frequency for Overage')\n",
    "plt.xlabel('CONSIDERING_CHANGE_OF_PLAN')\n",
    "plt.ylabel('Frequency of Turnover')\n",
    "plt.savefig('department_bar_chart')"
   ]
  },
  {
   "cell_type": "markdown",
   "metadata": {},
   "source": [
    "Categorical Data\n",
    "\n",
    "    REPORTED_SATISFACTION: highest reportings of very unsatisfied followed by very satisfied\n",
    "    COLLEGE: more variability in people staying vs leaving in those who didnt go to college\n",
    "    REPORTED_USAGE_LEVEL: most variety in people who report little, also most people by far report little usage, then very high then very little\n",
    "    CONSIDERING_CHANGE_OF_PLAN: most people report considering, which also has most variance, then actively looking into it, then no. \n",
    "    \n",
    "Conclusions: Don't really trust the categorical data. \n",
    "\n"
   ]
  },
  {
   "cell_type": "code",
   "execution_count": 29,
   "metadata": {},
   "outputs": [
    {
     "data": {
      "image/png": "[encoded data removed]",
      "text/plain": [
       "<Figure size 432x288 with 1 Axes>"
      ]
     },
     "metadata": {
      "needs_background": "light"
     },
     "output_type": "display_data"
    }
   ],
   "source": [
    "table=pd.crosstab(df['CONSIDERING_CHANGE_OF_PLAN'],df['LEAVE'])\n",
    "table.div(table.sum(1).astype(float), axis=0).plot(kind='bar', stacked=True)\n",
    "plt.title('Stacked Bar Chart of Salary Level vs Turnover')\n",
    "plt.xlabel('Salary Level')\n",
    "plt.ylabel('Proportion of Employees')\n",
    "plt.savefig('salary_bar_chart')"
   ]
  },
  {
   "cell_type": "code",
   "execution_count": 30,
   "metadata": {},
   "outputs": [
    {
     "data": {
      "image/png": "[encoded data removed]",
      "text/plain": [
       "<Figure size 432x288 with 1 Axes>"
      ]
     },
     "metadata": {
      "needs_background": "light"
     },
     "output_type": "display_data"
    }
   ],
   "source": [
    "table=pd.crosstab(df['COLLEGE'],df['LEAVE'])\n",
    "table.div(table.sum(1).astype(float), axis=0).plot(kind='bar', stacked=True)\n",
    "plt.title('Stacked Bar Chart of Salary Level vs Turnover')\n",
    "plt.xlabel('Salary Level')\n",
    "plt.ylabel('Proportion of Employees')\n",
    "plt.savefig('salary_bar_chart')"
   ]
  },
  {
   "cell_type": "code",
   "execution_count": 31,
   "metadata": {},
   "outputs": [
    {
     "data": {
      "image/png": "[encoded data removed]",
      "text/plain": [
       "<Figure size 432x288 with 1 Axes>"
      ]
     },
     "metadata": {
      "needs_background": "light"
     },
     "output_type": "display_data"
    }
   ],
   "source": [
    "table=pd.crosstab(df['REPORTED_USAGE_LEVEL'],df['LEAVE'])\n",
    "table.div(table.sum(1).astype(float), axis=0).plot(kind='bar', stacked=True)\n",
    "plt.title('Stacked Bar Chart of Salary Level vs Turnover')\n",
    "plt.xlabel('Salary Level')\n",
    "plt.ylabel('Proportion of Employees')\n",
    "plt.savefig('salary_bar_chart')"
   ]
  },
  {
   "cell_type": "code",
   "execution_count": 32,
   "metadata": {},
   "outputs": [
    {
     "data": {
      "image/png": "[encoded data removed]",
      "text/plain": [
       "<Figure size 432x288 with 1 Axes>"
      ]
     },
     "metadata": {
      "needs_background": "light"
     },
     "output_type": "display_data"
    }
   ],
   "source": [
    "table=pd.crosstab(df['REPORTED_SATISFACTION'],df['LEAVE'])\n",
    "table.div(table.sum(1).astype(float), axis=0).plot(kind='bar', stacked=True)\n",
    "plt.title('Stacked Bar Chart of Salary Level vs Turnover')\n",
    "plt.xlabel('Salary Level')\n",
    "plt.ylabel('Proportion of Employees')\n",
    "plt.savefig('salary_bar_chart')"
   ]
  },
  {
   "cell_type": "markdown",
   "metadata": {},
   "source": [
    "# Manipulating data for training model and Feature Selection"
   ]
  },
  {
   "cell_type": "code",
   "execution_count": 33,
   "metadata": {},
   "outputs": [],
   "source": [
    "from sklearn.feature_selection import RFE\n",
    "from sklearn.metrics import mean_squared_error\n",
    "from sklearn.linear_model import LogisticRegression\n",
    "from sklearn.ensemble import RandomForestClassifier\n",
    "from sklearn.svm import SVC\n",
    "from sklearn.tree import DecisionTreeClassifier\n",
    "\n",
    "from sklearn import metrics, datasets, linear_model, model_selection\n",
    "from scipy.stats import linregress\n",
    "import seaborn as sns"
   ]
  },
  {
   "cell_type": "code",
   "execution_count": 34,
   "metadata": {},
   "outputs": [],
   "source": [
    "cat_vars=['COLLEGE','REPORTED_SATISFACTION', 'REPORTED_USAGE_LEVEL', 'CONSIDERING_CHANGE_OF_PLAN']\n",
    "for var in cat_vars:\n",
    "    cat_list='var'+'_'+var\n",
    "    cat_list = pd.get_dummies(df[var], prefix=var)\n",
    "    df1=df.join(cat_list)\n",
    "    df=df1"
   ]
  },
  {
   "cell_type": "code",
   "execution_count": 35,
   "metadata": {},
   "outputs": [
    {
     "data": {
      "text/html": [
       "<div>\n",
       "<style scoped>\n",
       "    .dataframe tbody tr th:only-of-type {\n",
       "        vertical-align: middle;\n",
       "    }\n",
       "\n",
       "    .dataframe tbody tr th {\n",
       "        vertical-align: top;\n",
       "    }\n",
       "\n",
       "    .dataframe thead th {\n",
       "        text-align: right;\n",
       "    }\n",
       "</style>\n",
       "<table border=\"1\" class=\"dataframe\">\n",
       "  <thead>\n",
       "    <tr style=\"text-align: right;\">\n",
       "      <th></th>\n",
       "      <th>COLLEGE</th>\n",
       "      <th>INCOME</th>\n",
       "      <th>OVERAGE</th>\n",
       "      <th>LEFTOVER</th>\n",
       "      <th>HOUSE</th>\n",
       "      <th>HANDSET_PRICE</th>\n",
       "      <th>OVER_15MINS_CALLS_PER_MONTH</th>\n",
       "      <th>AVERAGE_CALL_DURATION</th>\n",
       "      <th>REPORTED_SATISFACTION</th>\n",
       "      <th>REPORTED_USAGE_LEVEL</th>\n",
       "      <th>...</th>\n",
       "      <th>REPORTED_USAGE_LEVEL_avg</th>\n",
       "      <th>REPORTED_USAGE_LEVEL_high</th>\n",
       "      <th>REPORTED_USAGE_LEVEL_little</th>\n",
       "      <th>REPORTED_USAGE_LEVEL_very_high</th>\n",
       "      <th>REPORTED_USAGE_LEVEL_very_little</th>\n",
       "      <th>CONSIDERING_CHANGE_OF_PLAN_actively_looking_into_it</th>\n",
       "      <th>CONSIDERING_CHANGE_OF_PLAN_considering</th>\n",
       "      <th>CONSIDERING_CHANGE_OF_PLAN_never_thought</th>\n",
       "      <th>CONSIDERING_CHANGE_OF_PLAN_no</th>\n",
       "      <th>CONSIDERING_CHANGE_OF_PLAN_perhaps</th>\n",
       "    </tr>\n",
       "  </thead>\n",
       "  <tbody>\n",
       "    <tr>\n",
       "      <th>0</th>\n",
       "      <td>zero</td>\n",
       "      <td>28987</td>\n",
       "      <td>191</td>\n",
       "      <td>20</td>\n",
       "      <td>175953</td>\n",
       "      <td>217</td>\n",
       "      <td>28</td>\n",
       "      <td>5</td>\n",
       "      <td>unsat</td>\n",
       "      <td>very_little</td>\n",
       "      <td>...</td>\n",
       "      <td>0</td>\n",
       "      <td>0</td>\n",
       "      <td>0</td>\n",
       "      <td>0</td>\n",
       "      <td>1</td>\n",
       "      <td>0</td>\n",
       "      <td>1</td>\n",
       "      <td>0</td>\n",
       "      <td>0</td>\n",
       "      <td>0</td>\n",
       "    </tr>\n",
       "    <tr>\n",
       "      <th>1</th>\n",
       "      <td>zero</td>\n",
       "      <td>45201</td>\n",
       "      <td>0</td>\n",
       "      <td>0</td>\n",
       "      <td>841177</td>\n",
       "      <td>160</td>\n",
       "      <td>1</td>\n",
       "      <td>15</td>\n",
       "      <td>unsat</td>\n",
       "      <td>avg</td>\n",
       "      <td>...</td>\n",
       "      <td>1</td>\n",
       "      <td>0</td>\n",
       "      <td>0</td>\n",
       "      <td>0</td>\n",
       "      <td>0</td>\n",
       "      <td>1</td>\n",
       "      <td>0</td>\n",
       "      <td>0</td>\n",
       "      <td>0</td>\n",
       "      <td>0</td>\n",
       "    </tr>\n",
       "    <tr>\n",
       "      <th>2</th>\n",
       "      <td>one</td>\n",
       "      <td>110663</td>\n",
       "      <td>0</td>\n",
       "      <td>0</td>\n",
       "      <td>902611</td>\n",
       "      <td>529</td>\n",
       "      <td>1</td>\n",
       "      <td>13</td>\n",
       "      <td>very_unsat</td>\n",
       "      <td>high</td>\n",
       "      <td>...</td>\n",
       "      <td>0</td>\n",
       "      <td>1</td>\n",
       "      <td>0</td>\n",
       "      <td>0</td>\n",
       "      <td>0</td>\n",
       "      <td>0</td>\n",
       "      <td>0</td>\n",
       "      <td>0</td>\n",
       "      <td>0</td>\n",
       "      <td>1</td>\n",
       "    </tr>\n",
       "    <tr>\n",
       "      <th>3</th>\n",
       "      <td>zero</td>\n",
       "      <td>40646</td>\n",
       "      <td>169</td>\n",
       "      <td>71</td>\n",
       "      <td>772903</td>\n",
       "      <td>146</td>\n",
       "      <td>24</td>\n",
       "      <td>2</td>\n",
       "      <td>very_unsat</td>\n",
       "      <td>little</td>\n",
       "      <td>...</td>\n",
       "      <td>0</td>\n",
       "      <td>0</td>\n",
       "      <td>1</td>\n",
       "      <td>0</td>\n",
       "      <td>0</td>\n",
       "      <td>0</td>\n",
       "      <td>1</td>\n",
       "      <td>0</td>\n",
       "      <td>0</td>\n",
       "      <td>0</td>\n",
       "    </tr>\n",
       "    <tr>\n",
       "      <th>4</th>\n",
       "      <td>one</td>\n",
       "      <td>132530</td>\n",
       "      <td>0</td>\n",
       "      <td>10</td>\n",
       "      <td>196535</td>\n",
       "      <td>559</td>\n",
       "      <td>0</td>\n",
       "      <td>6</td>\n",
       "      <td>very_unsat</td>\n",
       "      <td>avg</td>\n",
       "      <td>...</td>\n",
       "      <td>1</td>\n",
       "      <td>0</td>\n",
       "      <td>0</td>\n",
       "      <td>0</td>\n",
       "      <td>0</td>\n",
       "      <td>0</td>\n",
       "      <td>0</td>\n",
       "      <td>0</td>\n",
       "      <td>0</td>\n",
       "      <td>1</td>\n",
       "    </tr>\n",
       "  </tbody>\n",
       "</table>\n",
       "<p>5 rows × 29 columns</p>\n",
       "</div>"
      ],
      "text/plain": [
       "  COLLEGE  INCOME  OVERAGE  LEFTOVER   HOUSE  HANDSET_PRICE  \\\n",
       "0    zero   28987      191        20  175953            217   \n",
       "1    zero   45201        0         0  841177            160   \n",
       "2     one  110663        0         0  902611            529   \n",
       "3    zero   40646      169        71  772903            146   \n",
       "4     one  132530        0        10  196535            559   \n",
       "\n",
       "   OVER_15MINS_CALLS_PER_MONTH  AVERAGE_CALL_DURATION REPORTED_SATISFACTION  \\\n",
       "0                           28                      5                 unsat   \n",
       "1                            1                     15                 unsat   \n",
       "2                            1                     13            very_unsat   \n",
       "3                           24                      2            very_unsat   \n",
       "4                            0                      6            very_unsat   \n",
       "\n",
       "  REPORTED_USAGE_LEVEL                 ...                  \\\n",
       "0          very_little                 ...                   \n",
       "1                  avg                 ...                   \n",
       "2                 high                 ...                   \n",
       "3               little                 ...                   \n",
       "4                  avg                 ...                   \n",
       "\n",
       "  REPORTED_USAGE_LEVEL_avg  REPORTED_USAGE_LEVEL_high  \\\n",
       "0                        0                          0   \n",
       "1                        1                          0   \n",
       "2                        0                          1   \n",
       "3                        0                          0   \n",
       "4                        1                          0   \n",
       "\n",
       "   REPORTED_USAGE_LEVEL_little  REPORTED_USAGE_LEVEL_very_high  \\\n",
       "0                            0                               0   \n",
       "1                            0                               0   \n",
       "2                            0                               0   \n",
       "3                            1                               0   \n",
       "4                            0                               0   \n",
       "\n",
       "   REPORTED_USAGE_LEVEL_very_little  \\\n",
       "0                                 1   \n",
       "1                                 0   \n",
       "2                                 0   \n",
       "3                                 0   \n",
       "4                                 0   \n",
       "\n",
       "   CONSIDERING_CHANGE_OF_PLAN_actively_looking_into_it  \\\n",
       "0                                                  0     \n",
       "1                                                  1     \n",
       "2                                                  0     \n",
       "3                                                  0     \n",
       "4                                                  0     \n",
       "\n",
       "   CONSIDERING_CHANGE_OF_PLAN_considering  \\\n",
       "0                                       1   \n",
       "1                                       0   \n",
       "2                                       0   \n",
       "3                                       1   \n",
       "4                                       0   \n",
       "\n",
       "   CONSIDERING_CHANGE_OF_PLAN_never_thought  CONSIDERING_CHANGE_OF_PLAN_no  \\\n",
       "0                                         0                              0   \n",
       "1                                         0                              0   \n",
       "2                                         0                              0   \n",
       "3                                         0                              0   \n",
       "4                                         0                              0   \n",
       "\n",
       "   CONSIDERING_CHANGE_OF_PLAN_perhaps  \n",
       "0                                   0  \n",
       "1                                   0  \n",
       "2                                   1  \n",
       "3                                   0  \n",
       "4                                   1  \n",
       "\n",
       "[5 rows x 29 columns]"
      ]
     },
     "execution_count": 35,
     "metadata": {},
     "output_type": "execute_result"
    }
   ],
   "source": [
    "df.head()"
   ]
  },
  {
   "cell_type": "code",
   "execution_count": 36,
   "metadata": {},
   "outputs": [
    {
     "data": {
      "text/plain": [
       "array(['INCOME', 'OVERAGE', 'LEFTOVER', 'HOUSE', 'HANDSET_PRICE',\n",
       "       'OVER_15MINS_CALLS_PER_MONTH', 'AVERAGE_CALL_DURATION', 'LEAVE',\n",
       "       'COLLEGE_one', 'COLLEGE_zero', 'REPORTED_SATISFACTION_avg',\n",
       "       'REPORTED_SATISFACTION_sat', 'REPORTED_SATISFACTION_unsat',\n",
       "       'REPORTED_SATISFACTION_very_sat',\n",
       "       'REPORTED_SATISFACTION_very_unsat', 'REPORTED_USAGE_LEVEL_avg',\n",
       "       'REPORTED_USAGE_LEVEL_high', 'REPORTED_USAGE_LEVEL_little',\n",
       "       'REPORTED_USAGE_LEVEL_very_high',\n",
       "       'REPORTED_USAGE_LEVEL_very_little',\n",
       "       'CONSIDERING_CHANGE_OF_PLAN_actively_looking_into_it',\n",
       "       'CONSIDERING_CHANGE_OF_PLAN_considering',\n",
       "       'CONSIDERING_CHANGE_OF_PLAN_never_thought',\n",
       "       'CONSIDERING_CHANGE_OF_PLAN_no',\n",
       "       'CONSIDERING_CHANGE_OF_PLAN_perhaps'], dtype=object)"
      ]
     },
     "execution_count": 36,
     "metadata": {},
     "output_type": "execute_result"
    }
   ],
   "source": [
    "df.drop(df.columns[[0,8,9,10]], axis=1, inplace=True) #drop categorical data\n",
    "df.columns.values"
   ]
  },
  {
   "cell_type": "code",
   "execution_count": 37,
   "metadata": {},
   "outputs": [
    {
     "data": {
      "text/plain": [
       "(25,)"
      ]
     },
     "execution_count": 37,
     "metadata": {},
     "output_type": "execute_result"
    }
   ],
   "source": [
    "#25 columns\n",
    "df.columns.shape"
   ]
  },
  {
   "cell_type": "code",
   "execution_count": 38,
   "metadata": {},
   "outputs": [
    {
     "data": {
      "text/html": [
       "<div>\n",
       "<style scoped>\n",
       "    .dataframe tbody tr th:only-of-type {\n",
       "        vertical-align: middle;\n",
       "    }\n",
       "\n",
       "    .dataframe tbody tr th {\n",
       "        vertical-align: top;\n",
       "    }\n",
       "\n",
       "    .dataframe thead th {\n",
       "        text-align: right;\n",
       "    }\n",
       "</style>\n",
       "<table border=\"1\" class=\"dataframe\">\n",
       "  <thead>\n",
       "    <tr style=\"text-align: right;\">\n",
       "      <th></th>\n",
       "      <th>INCOME</th>\n",
       "      <th>OVERAGE</th>\n",
       "      <th>LEFTOVER</th>\n",
       "      <th>HOUSE</th>\n",
       "      <th>HANDSET_PRICE</th>\n",
       "      <th>OVER_15MINS_CALLS_PER_MONTH</th>\n",
       "      <th>AVERAGE_CALL_DURATION</th>\n",
       "      <th>LEAVE</th>\n",
       "      <th>COLLEGE_one</th>\n",
       "      <th>COLLEGE_zero</th>\n",
       "      <th>...</th>\n",
       "      <th>REPORTED_USAGE_LEVEL_avg</th>\n",
       "      <th>REPORTED_USAGE_LEVEL_high</th>\n",
       "      <th>REPORTED_USAGE_LEVEL_little</th>\n",
       "      <th>REPORTED_USAGE_LEVEL_very_high</th>\n",
       "      <th>REPORTED_USAGE_LEVEL_very_little</th>\n",
       "      <th>CONSIDERING_CHANGE_OF_PLAN_actively_looking_into_it</th>\n",
       "      <th>CONSIDERING_CHANGE_OF_PLAN_considering</th>\n",
       "      <th>CONSIDERING_CHANGE_OF_PLAN_never_thought</th>\n",
       "      <th>CONSIDERING_CHANGE_OF_PLAN_no</th>\n",
       "      <th>CONSIDERING_CHANGE_OF_PLAN_perhaps</th>\n",
       "    </tr>\n",
       "  </thead>\n",
       "  <tbody>\n",
       "    <tr>\n",
       "      <th>0</th>\n",
       "      <td>28987</td>\n",
       "      <td>191</td>\n",
       "      <td>20</td>\n",
       "      <td>175953</td>\n",
       "      <td>217</td>\n",
       "      <td>28</td>\n",
       "      <td>5</td>\n",
       "      <td>1</td>\n",
       "      <td>0</td>\n",
       "      <td>1</td>\n",
       "      <td>...</td>\n",
       "      <td>0</td>\n",
       "      <td>0</td>\n",
       "      <td>0</td>\n",
       "      <td>0</td>\n",
       "      <td>1</td>\n",
       "      <td>0</td>\n",
       "      <td>1</td>\n",
       "      <td>0</td>\n",
       "      <td>0</td>\n",
       "      <td>0</td>\n",
       "    </tr>\n",
       "    <tr>\n",
       "      <th>1</th>\n",
       "      <td>45201</td>\n",
       "      <td>0</td>\n",
       "      <td>0</td>\n",
       "      <td>841177</td>\n",
       "      <td>160</td>\n",
       "      <td>1</td>\n",
       "      <td>15</td>\n",
       "      <td>0</td>\n",
       "      <td>0</td>\n",
       "      <td>1</td>\n",
       "      <td>...</td>\n",
       "      <td>1</td>\n",
       "      <td>0</td>\n",
       "      <td>0</td>\n",
       "      <td>0</td>\n",
       "      <td>0</td>\n",
       "      <td>1</td>\n",
       "      <td>0</td>\n",
       "      <td>0</td>\n",
       "      <td>0</td>\n",
       "      <td>0</td>\n",
       "    </tr>\n",
       "    <tr>\n",
       "      <th>2</th>\n",
       "      <td>110663</td>\n",
       "      <td>0</td>\n",
       "      <td>0</td>\n",
       "      <td>902611</td>\n",
       "      <td>529</td>\n",
       "      <td>1</td>\n",
       "      <td>13</td>\n",
       "      <td>0</td>\n",
       "      <td>1</td>\n",
       "      <td>0</td>\n",
       "      <td>...</td>\n",
       "      <td>0</td>\n",
       "      <td>1</td>\n",
       "      <td>0</td>\n",
       "      <td>0</td>\n",
       "      <td>0</td>\n",
       "      <td>0</td>\n",
       "      <td>0</td>\n",
       "      <td>0</td>\n",
       "      <td>0</td>\n",
       "      <td>1</td>\n",
       "    </tr>\n",
       "    <tr>\n",
       "      <th>3</th>\n",
       "      <td>40646</td>\n",
       "      <td>169</td>\n",
       "      <td>71</td>\n",
       "      <td>772903</td>\n",
       "      <td>146</td>\n",
       "      <td>24</td>\n",
       "      <td>2</td>\n",
       "      <td>1</td>\n",
       "      <td>0</td>\n",
       "      <td>1</td>\n",
       "      <td>...</td>\n",
       "      <td>0</td>\n",
       "      <td>0</td>\n",
       "      <td>1</td>\n",
       "      <td>0</td>\n",
       "      <td>0</td>\n",
       "      <td>0</td>\n",
       "      <td>1</td>\n",
       "      <td>0</td>\n",
       "      <td>0</td>\n",
       "      <td>0</td>\n",
       "    </tr>\n",
       "    <tr>\n",
       "      <th>4</th>\n",
       "      <td>132530</td>\n",
       "      <td>0</td>\n",
       "      <td>10</td>\n",
       "      <td>196535</td>\n",
       "      <td>559</td>\n",
       "      <td>0</td>\n",
       "      <td>6</td>\n",
       "      <td>0</td>\n",
       "      <td>1</td>\n",
       "      <td>0</td>\n",
       "      <td>...</td>\n",
       "      <td>1</td>\n",
       "      <td>0</td>\n",
       "      <td>0</td>\n",
       "      <td>0</td>\n",
       "      <td>0</td>\n",
       "      <td>0</td>\n",
       "      <td>0</td>\n",
       "      <td>0</td>\n",
       "      <td>0</td>\n",
       "      <td>1</td>\n",
       "    </tr>\n",
       "  </tbody>\n",
       "</table>\n",
       "<p>5 rows × 25 columns</p>\n",
       "</div>"
      ],
      "text/plain": [
       "   INCOME  OVERAGE  LEFTOVER   HOUSE  HANDSET_PRICE  \\\n",
       "0   28987      191        20  175953            217   \n",
       "1   45201        0         0  841177            160   \n",
       "2  110663        0         0  902611            529   \n",
       "3   40646      169        71  772903            146   \n",
       "4  132530        0        10  196535            559   \n",
       "\n",
       "   OVER_15MINS_CALLS_PER_MONTH  AVERAGE_CALL_DURATION  LEAVE  COLLEGE_one  \\\n",
       "0                           28                      5      1            0   \n",
       "1                            1                     15      0            0   \n",
       "2                            1                     13      0            1   \n",
       "3                           24                      2      1            0   \n",
       "4                            0                      6      0            1   \n",
       "\n",
       "   COLLEGE_zero                 ...                  REPORTED_USAGE_LEVEL_avg  \\\n",
       "0             1                 ...                                         0   \n",
       "1             1                 ...                                         1   \n",
       "2             0                 ...                                         0   \n",
       "3             1                 ...                                         0   \n",
       "4             0                 ...                                         1   \n",
       "\n",
       "   REPORTED_USAGE_LEVEL_high  REPORTED_USAGE_LEVEL_little  \\\n",
       "0                          0                            0   \n",
       "1                          0                            0   \n",
       "2                          1                            0   \n",
       "3                          0                            1   \n",
       "4                          0                            0   \n",
       "\n",
       "   REPORTED_USAGE_LEVEL_very_high  REPORTED_USAGE_LEVEL_very_little  \\\n",
       "0                               0                                 1   \n",
       "1                               0                                 0   \n",
       "2                               0                                 0   \n",
       "3                               0                                 0   \n",
       "4                               0                                 0   \n",
       "\n",
       "   CONSIDERING_CHANGE_OF_PLAN_actively_looking_into_it  \\\n",
       "0                                                  0     \n",
       "1                                                  1     \n",
       "2                                                  0     \n",
       "3                                                  0     \n",
       "4                                                  0     \n",
       "\n",
       "   CONSIDERING_CHANGE_OF_PLAN_considering  \\\n",
       "0                                       1   \n",
       "1                                       0   \n",
       "2                                       0   \n",
       "3                                       1   \n",
       "4                                       0   \n",
       "\n",
       "   CONSIDERING_CHANGE_OF_PLAN_never_thought  CONSIDERING_CHANGE_OF_PLAN_no  \\\n",
       "0                                         0                              0   \n",
       "1                                         0                              0   \n",
       "2                                         0                              0   \n",
       "3                                         0                              0   \n",
       "4                                         0                              0   \n",
       "\n",
       "   CONSIDERING_CHANGE_OF_PLAN_perhaps  \n",
       "0                                   0  \n",
       "1                                   0  \n",
       "2                                   1  \n",
       "3                                   0  \n",
       "4                                   1  \n",
       "\n",
       "[5 rows x 25 columns]"
      ]
     },
     "execution_count": 38,
     "metadata": {},
     "output_type": "execute_result"
    }
   ],
   "source": [
    "df.head()"
   ]
  },
  {
   "cell_type": "code",
   "execution_count": 39,
   "metadata": {},
   "outputs": [],
   "source": [
    "df_vars=df.columns.values.tolist()\n",
    "y=['LEAVE']\n",
    "X=[i for i in df_vars if i not in y]"
   ]
  },
  {
   "cell_type": "markdown",
   "metadata": {},
   "source": [
    "The Recursive Feature Elimination (RFE) works by recursively removing variables and building a model on those variables that remain. It uses the model accuracy to identify which variables (and combination of variables) contribute the most to predicting the target attribute.\n",
    "\n",
    "\n",
    "'OVER_15MINS_CALLS_PER_MONTH', \n",
    "'COLLEGE_one',\n",
    "'COLLEGE_zero',\n",
    "'REPORTED_SATISFACTION_avg',\n",
    "'REPORTED_SATISFACTION_sat',\n",
    "'REPORTED_SATISFACTION_very_sat',\n",
    "'REPORTED_SATISFACTION_very_unsat',\n",
    "'REPORTED_USAGE_LEVEL_avg',\n",
    "'REPORTED_USAGE_LEVEL_high',\n",
    "'REPORTED_USAGE_LEVEL_little',\n",
    "'REPORTED_USAGE_LEVEL_very_high',\n",
    "'CONSIDERING_CHANGE_OF_PLAN_actively_looking_into_it',\n",
    "'CONSIDERING_CHANGE_OF_PLAN_considering',\n",
    "'CONSIDERING_CHANGE_OF_PLAN_never_thought',\n",
    "'CONSIDERING_CHANGE_OF_PLAN_no'\n",
    "\n",
    "\n",
    "\n",
    "i agree with these ones!\n",
    "'OVERAGE', 'LEFTOVER', \n",
    "but it really thinks these are important:\n",
    "'OVER_15MINS_CALLS_PER_MONTH', 'AVERAGE_CALL_DURATION'"
   ]
  },
  {
   "cell_type": "code",
   "execution_count": 40,
   "metadata": {},
   "outputs": [],
   "source": [
    "#Standardization##########\n",
    "#from sklearn import preprocessing\n",
    "\n",
    "#scaler = preprocessing.MinMaxScaler()\n",
    "#X_train_scale = scaler.fit_transform(df[X])"
   ]
  },
  {
   "cell_type": "code",
   "execution_count": 41,
   "metadata": {},
   "outputs": [
    {
     "name": "stderr",
     "output_type": "stream",
     "text": [
      "/usr/local/lib/python3.7/site-packages/sklearn/utils/validation.py:761: DataConversionWarning: A column-vector y was passed when a 1d array was expected. Please change the shape of y to (n_samples, ), for example using ravel().\n",
      "  y = column_or_1d(y, warn=True)\n",
      "/usr/local/lib/python3.7/site-packages/sklearn/linear_model/logistic.py:433: FutureWarning: Default solver will be changed to 'lbfgs' in 0.22. Specify a solver to silence this warning.\n",
      "  FutureWarning)\n",
      "/usr/local/lib/python3.7/site-packages/sklearn/linear_model/logistic.py:433: FutureWarning: Default solver will be changed to 'lbfgs' in 0.22. Specify a solver to silence this warning.\n",
      "  FutureWarning)\n",
      "/usr/local/lib/python3.7/site-packages/sklearn/linear_model/logistic.py:433: FutureWarning: Default solver will be changed to 'lbfgs' in 0.22. Specify a solver to silence this warning.\n",
      "  FutureWarning)\n",
      "/usr/local/lib/python3.7/site-packages/sklearn/linear_model/logistic.py:433: FutureWarning: Default solver will be changed to 'lbfgs' in 0.22. Specify a solver to silence this warning.\n",
      "  FutureWarning)\n",
      "/usr/local/lib/python3.7/site-packages/sklearn/linear_model/logistic.py:433: FutureWarning: Default solver will be changed to 'lbfgs' in 0.22. Specify a solver to silence this warning.\n",
      "  FutureWarning)\n",
      "/usr/local/lib/python3.7/site-packages/sklearn/linear_model/logistic.py:433: FutureWarning: Default solver will be changed to 'lbfgs' in 0.22. Specify a solver to silence this warning.\n",
      "  FutureWarning)\n",
      "/usr/local/lib/python3.7/site-packages/sklearn/linear_model/logistic.py:433: FutureWarning: Default solver will be changed to 'lbfgs' in 0.22. Specify a solver to silence this warning.\n",
      "  FutureWarning)\n",
      "/usr/local/lib/python3.7/site-packages/sklearn/linear_model/logistic.py:433: FutureWarning: Default solver will be changed to 'lbfgs' in 0.22. Specify a solver to silence this warning.\n",
      "  FutureWarning)\n",
      "/usr/local/lib/python3.7/site-packages/sklearn/linear_model/logistic.py:433: FutureWarning: Default solver will be changed to 'lbfgs' in 0.22. Specify a solver to silence this warning.\n",
      "  FutureWarning)\n",
      "/usr/local/lib/python3.7/site-packages/sklearn/linear_model/logistic.py:433: FutureWarning: Default solver will be changed to 'lbfgs' in 0.22. Specify a solver to silence this warning.\n",
      "  FutureWarning)\n",
      "/usr/local/lib/python3.7/site-packages/sklearn/linear_model/logistic.py:433: FutureWarning: Default solver will be changed to 'lbfgs' in 0.22. Specify a solver to silence this warning.\n",
      "  FutureWarning)\n"
     ]
    },
    {
     "name": "stdout",
     "output_type": "stream",
     "text": [
      "[False False False False False False False False  True  True  True False\n",
      "  True  True False  True False False False  True  True  True  True False]\n",
      "[14 11  9 15 13  2  7  3  1  1  1 12  1  1  4  1  5  6  8  1  1  1  1 10]\n"
     ]
    },
    {
     "name": "stderr",
     "output_type": "stream",
     "text": [
      "/usr/local/lib/python3.7/site-packages/sklearn/linear_model/logistic.py:433: FutureWarning: Default solver will be changed to 'lbfgs' in 0.22. Specify a solver to silence this warning.\n",
      "  FutureWarning)\n",
      "/usr/local/lib/python3.7/site-packages/sklearn/linear_model/logistic.py:433: FutureWarning: Default solver will be changed to 'lbfgs' in 0.22. Specify a solver to silence this warning.\n",
      "  FutureWarning)\n",
      "/usr/local/lib/python3.7/site-packages/sklearn/linear_model/logistic.py:433: FutureWarning: Default solver will be changed to 'lbfgs' in 0.22. Specify a solver to silence this warning.\n",
      "  FutureWarning)\n",
      "/usr/local/lib/python3.7/site-packages/sklearn/linear_model/logistic.py:433: FutureWarning: Default solver will be changed to 'lbfgs' in 0.22. Specify a solver to silence this warning.\n",
      "  FutureWarning)\n"
     ]
    }
   ],
   "source": [
    "lrmodel = LogisticRegression()\n",
    "lrfe = RFE(lrmodel, 10) #pick number of columns you want\n",
    "lrfe = lrfe.fit(df[X], df[y])\n",
    "print(lrfe.support_)\n",
    "print(lrfe.ranking_)"
   ]
  },
  {
   "cell_type": "code",
   "execution_count": 42,
   "metadata": {},
   "outputs": [],
   "source": [
    "#### Features for LR\n",
    "lrfeatures = [\n",
    " 'COLLEGE_one',\n",
    " 'COLLEGE_zero',\n",
    " 'REPORTED_SATISFACTION_avg',\n",
    " 'REPORTED_SATISFACTION_sat',\n",
    " 'REPORTED_SATISFACTION_unsat',\n",
    "\n",
    " 'REPORTED_USAGE_LEVEL_high',\n",
    "\n",
    " 'CONSIDERING_CHANGE_OF_PLAN_actively_looking_into_it',\n",
    " 'CONSIDERING_CHANGE_OF_PLAN_considering',\n",
    " 'CONSIDERING_CHANGE_OF_PLAN_never_thought',\n",
    " 'CONSIDERING_CHANGE_OF_PLAN_no'\n",
    "]\n"
   ]
  },
  {
   "cell_type": "code",
   "execution_count": 43,
   "metadata": {},
   "outputs": [
    {
     "name": "stderr",
     "output_type": "stream",
     "text": [
      "/usr/local/lib/python3.7/site-packages/sklearn/utils/validation.py:761: DataConversionWarning: A column-vector y was passed when a 1d array was expected. Please change the shape of y to (n_samples, ), for example using ravel().\n",
      "  y = column_or_1d(y, warn=True)\n",
      "/usr/local/lib/python3.7/site-packages/sklearn/ensemble/forest.py:246: FutureWarning: The default value of n_estimators will change from 10 in version 0.20 to 100 in 0.22.\n",
      "  \"10 in version 0.20 to 100 in 0.22.\", FutureWarning)\n",
      "/usr/local/lib/python3.7/site-packages/sklearn/ensemble/forest.py:246: FutureWarning: The default value of n_estimators will change from 10 in version 0.20 to 100 in 0.22.\n",
      "  \"10 in version 0.20 to 100 in 0.22.\", FutureWarning)\n",
      "/usr/local/lib/python3.7/site-packages/sklearn/ensemble/forest.py:246: FutureWarning: The default value of n_estimators will change from 10 in version 0.20 to 100 in 0.22.\n",
      "  \"10 in version 0.20 to 100 in 0.22.\", FutureWarning)\n",
      "/usr/local/lib/python3.7/site-packages/sklearn/ensemble/forest.py:246: FutureWarning: The default value of n_estimators will change from 10 in version 0.20 to 100 in 0.22.\n",
      "  \"10 in version 0.20 to 100 in 0.22.\", FutureWarning)\n",
      "/usr/local/lib/python3.7/site-packages/sklearn/ensemble/forest.py:246: FutureWarning: The default value of n_estimators will change from 10 in version 0.20 to 100 in 0.22.\n",
      "  \"10 in version 0.20 to 100 in 0.22.\", FutureWarning)\n",
      "/usr/local/lib/python3.7/site-packages/sklearn/ensemble/forest.py:246: FutureWarning: The default value of n_estimators will change from 10 in version 0.20 to 100 in 0.22.\n",
      "  \"10 in version 0.20 to 100 in 0.22.\", FutureWarning)\n",
      "/usr/local/lib/python3.7/site-packages/sklearn/ensemble/forest.py:246: FutureWarning: The default value of n_estimators will change from 10 in version 0.20 to 100 in 0.22.\n",
      "  \"10 in version 0.20 to 100 in 0.22.\", FutureWarning)\n",
      "/usr/local/lib/python3.7/site-packages/sklearn/ensemble/forest.py:246: FutureWarning: The default value of n_estimators will change from 10 in version 0.20 to 100 in 0.22.\n",
      "  \"10 in version 0.20 to 100 in 0.22.\", FutureWarning)\n",
      "/usr/local/lib/python3.7/site-packages/sklearn/ensemble/forest.py:246: FutureWarning: The default value of n_estimators will change from 10 in version 0.20 to 100 in 0.22.\n",
      "  \"10 in version 0.20 to 100 in 0.22.\", FutureWarning)\n",
      "/usr/local/lib/python3.7/site-packages/sklearn/ensemble/forest.py:246: FutureWarning: The default value of n_estimators will change from 10 in version 0.20 to 100 in 0.22.\n",
      "  \"10 in version 0.20 to 100 in 0.22.\", FutureWarning)\n",
      "/usr/local/lib/python3.7/site-packages/sklearn/ensemble/forest.py:246: FutureWarning: The default value of n_estimators will change from 10 in version 0.20 to 100 in 0.22.\n",
      "  \"10 in version 0.20 to 100 in 0.22.\", FutureWarning)\n",
      "/usr/local/lib/python3.7/site-packages/sklearn/ensemble/forest.py:246: FutureWarning: The default value of n_estimators will change from 10 in version 0.20 to 100 in 0.22.\n",
      "  \"10 in version 0.20 to 100 in 0.22.\", FutureWarning)\n",
      "/usr/local/lib/python3.7/site-packages/sklearn/ensemble/forest.py:246: FutureWarning: The default value of n_estimators will change from 10 in version 0.20 to 100 in 0.22.\n",
      "  \"10 in version 0.20 to 100 in 0.22.\", FutureWarning)\n",
      "/usr/local/lib/python3.7/site-packages/sklearn/ensemble/forest.py:246: FutureWarning: The default value of n_estimators will change from 10 in version 0.20 to 100 in 0.22.\n",
      "  \"10 in version 0.20 to 100 in 0.22.\", FutureWarning)\n",
      "/usr/local/lib/python3.7/site-packages/sklearn/ensemble/forest.py:246: FutureWarning: The default value of n_estimators will change from 10 in version 0.20 to 100 in 0.22.\n",
      "  \"10 in version 0.20 to 100 in 0.22.\", FutureWarning)\n",
      "/usr/local/lib/python3.7/site-packages/sklearn/ensemble/forest.py:246: FutureWarning: The default value of n_estimators will change from 10 in version 0.20 to 100 in 0.22.\n",
      "  \"10 in version 0.20 to 100 in 0.22.\", FutureWarning)\n",
      "/usr/local/lib/python3.7/site-packages/sklearn/ensemble/forest.py:246: FutureWarning: The default value of n_estimators will change from 10 in version 0.20 to 100 in 0.22.\n",
      "  \"10 in version 0.20 to 100 in 0.22.\", FutureWarning)\n",
      "/usr/local/lib/python3.7/site-packages/sklearn/ensemble/forest.py:246: FutureWarning: The default value of n_estimators will change from 10 in version 0.20 to 100 in 0.22.\n",
      "  \"10 in version 0.20 to 100 in 0.22.\", FutureWarning)\n",
      "/usr/local/lib/python3.7/site-packages/sklearn/ensemble/forest.py:246: FutureWarning: The default value of n_estimators will change from 10 in version 0.20 to 100 in 0.22.\n",
      "  \"10 in version 0.20 to 100 in 0.22.\", FutureWarning)\n",
      "/usr/local/lib/python3.7/site-packages/sklearn/ensemble/forest.py:246: FutureWarning: The default value of n_estimators will change from 10 in version 0.20 to 100 in 0.22.\n",
      "  \"10 in version 0.20 to 100 in 0.22.\", FutureWarning)\n"
     ]
    },
    {
     "name": "stdout",
     "output_type": "stream",
     "text": [
      "[ True  True  True  True  True False False False False False False False\n",
      " False False False False False False False False False False False False]\n",
      "[ 1  1  1  1  1  2  3  7 17 15 19 13  9  4 20 14  6 11 10  8  5 16 12 18]\n"
     ]
    }
   ],
   "source": [
    "## for Random Forest\n",
    "rfmodel = RandomForestClassifier()\n",
    "rfrfe = RFE(rfmodel, 5) #pick number of columns you want#########################\n",
    "rfrfe = rfrfe.fit(df[X], df[y])\n",
    "print(rfrfe.support_)\n",
    "print(rfrfe.ranking_)"
   ]
  },
  {
   "cell_type": "markdown",
   "metadata": {},
   "source": [
    "### features for RT\n",
    "rffeatures = ['INCOME',\n",
    " 'OVERAGE',\n",
    " 'LEFTOVER',\n",
    " 'HOUSE',\n",
    " 'HANDSET_PRICE',\n",
    " 'OVER_15MINS_CALLS_PER_MONTH',\n",
    " 'AVERAGE_CALL_DURATION',\n",
    " 'COLLEGE_one',\n",
    " 'COLLEGE_zero', #########\n",
    " 'REPORTED_SATISFACTION_very_unsat',\n",
    " 'CONSIDERING_CHANGE_OF_PLAN_actively_looking_into_it',#######\n",
    " 'CONSIDERING_CHANGE_OF_PLAN_considering'\n",
    "]"
   ]
  },
  {
   "cell_type": "markdown",
   "metadata": {},
   "source": [
    "# Features for RT*****"
   ]
  },
  {
   "cell_type": "markdown",
   "metadata": {},
   "source": [
    "###### KEEP THIS, its 67.2\n",
    "\n",
    "rffeatures = ['INCOME',\n",
    " 'OVERAGE',\n",
    " 'LEFTOVER',\n",
    " 'HOUSE',\n",
    " 'HANDSET_PRICE',\n",
    " 'OVER_15MINS_CALLS_PER_MONTH',\n",
    " 'AVERAGE_CALL_DURATION',\n",
    " 'COLLEGE_one',\n",
    " 'REPORTED_SATISFACTION_very_unsat',\n",
    " 'CONSIDERING_CHANGE_OF_PLAN_considering'\n",
    "]"
   ]
  },
  {
   "cell_type": "markdown",
   "metadata": {},
   "source": [
    "######X features important\n",
    "rffeatures = ['INCOME',\n",
    " 'OVERAGE',\n",
    " 'LEFTOVER',\n",
    " 'HOUSE',\n",
    " 'HANDSET_PRICE',\n",
    " 'OVER_15MINS_CALLS_PER_MONTH',\n",
    " 'AVERAGE_CALL_DURATION',\n",
    " 'COLLEGE_one',\n",
    " 'COLLEGE_zero',\n",
    " 'REPORTED_SATISFACTION_avg',\n",
    " 'REPORTED_SATISFACTION_unsat',\n",
    "]"
   ]
  },
  {
   "cell_type": "code",
   "execution_count": 44,
   "metadata": {},
   "outputs": [],
   "source": [
    "rffeatures = ['INCOME',\n",
    " 'OVERAGE',\n",
    " 'LEFTOVER',\n",
    " 'HOUSE',\n",
    " 'HANDSET_PRICE']"
   ]
  },
  {
   "cell_type": "markdown",
   "metadata": {},
   "source": [
    "67.somethin'\n",
    "rffeatures = ['INCOME',\n",
    " 'OVERAGE',\n",
    " 'LEFTOVER',\n",
    " 'HOUSE',\n",
    " 'HANDSET_PRICE',\n",
    " 'OVER_15MINS_CALLS_PER_MONTH',\n",
    " 'AVERAGE_CALL_DURATION', \n",
    "  ###college_one\n",
    " 'REPORTED_SATISFACTION_very_unsat', \n",
    " 'REPORTED_USAGE_LEVEL_little',  ####          \n",
    " 'CONSIDERING_CHANGE_OF_PLAN_considering']              "
   ]
  },
  {
   "cell_type": "markdown",
   "metadata": {},
   "source": [
    "###rffeatures important #### 67.3! :D\n",
    "rffeatures = ['INCOME',\n",
    " 'OVERAGE',\n",
    " 'LEFTOVER',\n",
    " 'HOUSE',\n",
    " 'HANDSET_PRICE',\n",
    " 'OVER_15MINS_CALLS_PER_MONTH',\n",
    " 'AVERAGE_CALL_DURATION',\n",
    " 'COLLEGE_one',\n",
    " 'COLLEGE_zero',\n",
    " 'CONSIDERING_CHANGE_OF_PLAN_actively_looking_into_it',\n",
    " 'CONSIDERING_CHANGE_OF_PLAN_considering',\n",
    " 'REPORTED_SATISFACTION_very_unsat'] "
   ]
  },
  {
   "cell_type": "code",
   "execution_count": 45,
   "metadata": {},
   "outputs": [],
   "source": [
    "#rffeatures = X\n",
    "#rffeatures\n"
   ]
  },
  {
   "cell_type": "code",
   "execution_count": 46,
   "metadata": {},
   "outputs": [
    {
     "data": {
      "text/plain": [
       "['INCOME',\n",
       " 'OVERAGE',\n",
       " 'LEFTOVER',\n",
       " 'HOUSE',\n",
       " 'HANDSET_PRICE',\n",
       " 'OVER_15MINS_CALLS_PER_MONTH',\n",
       " 'AVERAGE_CALL_DURATION',\n",
       " 'COLLEGE_one',\n",
       " 'COLLEGE_zero',\n",
       " 'REPORTED_SATISFACTION_avg',\n",
       " 'REPORTED_SATISFACTION_sat',\n",
       " 'REPORTED_SATISFACTION_unsat',\n",
       " 'REPORTED_SATISFACTION_very_sat',\n",
       " 'REPORTED_SATISFACTION_very_unsat',\n",
       " 'REPORTED_USAGE_LEVEL_avg',\n",
       " 'REPORTED_USAGE_LEVEL_high',\n",
       " 'REPORTED_USAGE_LEVEL_little',\n",
       " 'REPORTED_USAGE_LEVEL_very_high',\n",
       " 'REPORTED_USAGE_LEVEL_very_little',\n",
       " 'CONSIDERING_CHANGE_OF_PLAN_actively_looking_into_it',\n",
       " 'CONSIDERING_CHANGE_OF_PLAN_considering',\n",
       " 'CONSIDERING_CHANGE_OF_PLAN_never_thought',\n",
       " 'CONSIDERING_CHANGE_OF_PLAN_no',\n",
       " 'CONSIDERING_CHANGE_OF_PLAN_perhaps']"
      ]
     },
     "execution_count": 46,
     "metadata": {},
     "output_type": "execute_result"
    }
   ],
   "source": [
    "X"
   ]
  },
  {
   "cell_type": "code",
   "execution_count": 47,
   "metadata": {},
   "outputs": [],
   "source": [
    "## for SVC\n",
    "#svcmodel = SVC()\n",
    "#svcrfe = RFE(svcmodel, 15) #pick number of columns you want\n",
    "#svcrfe = svcrfe.fit(df[X], df[y])\n",
    "#print(svcrfe.support_)\n",
    "#print(svcrfe.ranking_)"
   ]
  },
  {
   "cell_type": "code",
   "execution_count": 48,
   "metadata": {},
   "outputs": [
    {
     "name": "stderr",
     "output_type": "stream",
     "text": [
      "/usr/local/lib/python3.7/site-packages/sklearn/utils/validation.py:761: DataConversionWarning: A column-vector y was passed when a 1d array was expected. Please change the shape of y to (n_samples, ), for example using ravel().\n",
      "  y = column_or_1d(y, warn=True)\n"
     ]
    },
    {
     "name": "stdout",
     "output_type": "stream",
     "text": [
      "[ True  True  True  True  True  True  True  True False False False False\n",
      " False False False False  True False False  True False False False False]\n",
      "[ 1  1  1  1  1  1  1  1  9 14 11  7  6  8 15 13  1  2  4  1  3 10  5 12]\n"
     ]
    }
   ],
   "source": [
    "## for decision tree\n",
    "dtmodel = DecisionTreeClassifier()\n",
    "dtrfe = RFE(dtmodel, 10) #pick number of columns you want\n",
    "dtrfe = dtrfe.fit(df[X], df[y])\n",
    "print(dtrfe.support_)\n",
    "print(dtrfe.ranking_)"
   ]
  },
  {
   "cell_type": "code",
   "execution_count": 49,
   "metadata": {},
   "outputs": [],
   "source": [
    "### decision tree features\n",
    "dtfeatures = ['INCOME',\n",
    " 'OVERAGE',\n",
    " 'LEFTOVER',\n",
    " 'HOUSE',\n",
    " 'HANDSET_PRICE',\n",
    " 'OVER_15MINS_CALLS_PER_MONTH',\n",
    " 'AVERAGE_CALL_DURATION',\n",
    " 'COLLEGE_one',\n",
    "\n",
    " 'REPORTED_USAGE_LEVEL_little',\n",
    "              \n",
    " 'CONSIDERING_CHANGE_OF_PLAN_considering'\n",
    "]"
   ]
  },
  {
   "cell_type": "code",
   "execution_count": 50,
   "metadata": {},
   "outputs": [
    {
     "data": {
      "text/plain": [
       "array(['INCOME', 'OVERAGE', 'LEFTOVER', 'HOUSE', 'HANDSET_PRICE',\n",
       "       'OVER_15MINS_CALLS_PER_MONTH', 'AVERAGE_CALL_DURATION', 'LEAVE'],\n",
       "      dtype=object)"
      ]
     },
     "execution_count": 50,
     "metadata": {},
     "output_type": "execute_result"
    }
   ],
   "source": [
    "#### without changing the categorical data ######\n",
    "test = pd.read_csv(filename, header = 0, delimiter = ',')\n",
    "test.drop(test.columns[[0,8,9,10]], axis=1, inplace=True) #drop categorical data\n",
    "test.columns.values"
   ]
  },
  {
   "cell_type": "code",
   "execution_count": 51,
   "metadata": {},
   "outputs": [],
   "source": [
    "test_vars=test.columns.values.tolist()\n",
    "testy=['LEAVE']\n",
    "testX=[i for i in test_vars if i not in testy]"
   ]
  },
  {
   "cell_type": "code",
   "execution_count": 52,
   "metadata": {},
   "outputs": [
    {
     "data": {
      "text/plain": [
       "['INCOME',\n",
       " 'OVERAGE',\n",
       " 'LEFTOVER',\n",
       " 'HOUSE',\n",
       " 'HANDSET_PRICE',\n",
       " 'OVER_15MINS_CALLS_PER_MONTH',\n",
       " 'AVERAGE_CALL_DURATION']"
      ]
     },
     "execution_count": 52,
     "metadata": {},
     "output_type": "execute_result"
    }
   ],
   "source": [
    "testX"
   ]
  },
  {
   "cell_type": "code",
   "execution_count": 53,
   "metadata": {},
   "outputs": [
    {
     "name": "stderr",
     "output_type": "stream",
     "text": [
      "/usr/local/lib/python3.7/site-packages/sklearn/utils/validation.py:761: DataConversionWarning: A column-vector y was passed when a 1d array was expected. Please change the shape of y to (n_samples, ), for example using ravel().\n",
      "  y = column_or_1d(y, warn=True)\n",
      "/usr/local/lib/python3.7/site-packages/sklearn/linear_model/logistic.py:433: FutureWarning: Default solver will be changed to 'lbfgs' in 0.22. Specify a solver to silence this warning.\n",
      "  FutureWarning)\n",
      "/usr/local/lib/python3.7/site-packages/sklearn/linear_model/logistic.py:433: FutureWarning: Default solver will be changed to 'lbfgs' in 0.22. Specify a solver to silence this warning.\n",
      "  FutureWarning)\n",
      "/usr/local/lib/python3.7/site-packages/sklearn/linear_model/logistic.py:433: FutureWarning: Default solver will be changed to 'lbfgs' in 0.22. Specify a solver to silence this warning.\n",
      "  FutureWarning)\n"
     ]
    },
    {
     "name": "stdout",
     "output_type": "stream",
     "text": [
      "[False  True  True False False  True  True]\n",
      "[3 1 1 4 2 1 1]\n"
     ]
    },
    {
     "name": "stderr",
     "output_type": "stream",
     "text": [
      "/usr/local/lib/python3.7/site-packages/sklearn/linear_model/logistic.py:433: FutureWarning: Default solver will be changed to 'lbfgs' in 0.22. Specify a solver to silence this warning.\n",
      "  FutureWarning)\n"
     ]
    }
   ],
   "source": [
    "## Logistic regression feature selection\n",
    "lrfe = RFE(lrmodel, 4) #pick number of columns you want\n",
    "lrfe = lrfe.fit(test[testX], test[testy])\n",
    "print(lrfe.support_)\n",
    "print(lrfe.ranking_)"
   ]
  },
  {
   "cell_type": "code",
   "execution_count": 54,
   "metadata": {},
   "outputs": [],
   "source": [
    "lrtestfeatures = ['OVERAGE',\n",
    " 'LEFTOVER',\n",
    " 'OVER_15MINS_CALLS_PER_MONTH',\n",
    " 'AVERAGE_CALL_DURATION']"
   ]
  },
  {
   "cell_type": "code",
   "execution_count": 55,
   "metadata": {},
   "outputs": [
    {
     "name": "stderr",
     "output_type": "stream",
     "text": [
      "/usr/local/lib/python3.7/site-packages/sklearn/utils/validation.py:761: DataConversionWarning: A column-vector y was passed when a 1d array was expected. Please change the shape of y to (n_samples, ), for example using ravel().\n",
      "  y = column_or_1d(y, warn=True)\n",
      "/usr/local/lib/python3.7/site-packages/sklearn/ensemble/forest.py:246: FutureWarning: The default value of n_estimators will change from 10 in version 0.20 to 100 in 0.22.\n",
      "  \"10 in version 0.20 to 100 in 0.22.\", FutureWarning)\n",
      "/usr/local/lib/python3.7/site-packages/sklearn/ensemble/forest.py:246: FutureWarning: The default value of n_estimators will change from 10 in version 0.20 to 100 in 0.22.\n",
      "  \"10 in version 0.20 to 100 in 0.22.\", FutureWarning)\n",
      "/usr/local/lib/python3.7/site-packages/sklearn/ensemble/forest.py:246: FutureWarning: The default value of n_estimators will change from 10 in version 0.20 to 100 in 0.22.\n",
      "  \"10 in version 0.20 to 100 in 0.22.\", FutureWarning)\n",
      "/usr/local/lib/python3.7/site-packages/sklearn/ensemble/forest.py:246: FutureWarning: The default value of n_estimators will change from 10 in version 0.20 to 100 in 0.22.\n",
      "  \"10 in version 0.20 to 100 in 0.22.\", FutureWarning)\n"
     ]
    },
    {
     "name": "stdout",
     "output_type": "stream",
     "text": [
      "[ True  True False  True  True False False]\n",
      "[1 1 2 1 1 3 4]\n"
     ]
    }
   ],
   "source": [
    "## for Random Forest\n",
    "rfrfe = RFE(rfmodel, 4) #pick number of columns you want\n",
    "rfrfe = rfrfe.fit(test[testX], test[testy])\n",
    "print(rfrfe.support_)\n",
    "print(rfrfe.ranking_)"
   ]
  },
  {
   "cell_type": "code",
   "execution_count": 56,
   "metadata": {},
   "outputs": [],
   "source": [
    "rftestfeatures = ['INCOME',\n",
    " 'OVERAGE',\n",
    " 'HOUSE',\n",
    " 'HANDSET_PRICE',\n",
    "]"
   ]
  },
  {
   "cell_type": "code",
   "execution_count": 57,
   "metadata": {},
   "outputs": [
    {
     "name": "stderr",
     "output_type": "stream",
     "text": [
      "/usr/local/lib/python3.7/site-packages/sklearn/utils/validation.py:761: DataConversionWarning: A column-vector y was passed when a 1d array was expected. Please change the shape of y to (n_samples, ), for example using ravel().\n",
      "  y = column_or_1d(y, warn=True)\n"
     ]
    },
    {
     "name": "stdout",
     "output_type": "stream",
     "text": [
      "[ True  True False  True  True False False]\n",
      "[1 1 2 1 1 3 4]\n"
     ]
    }
   ],
   "source": [
    "## for decision tree\n",
    "dtrfe = RFE(dtmodel, 4) #pick number of columns you want\n",
    "dtrfe = dtrfe.fit(test[testX], test[testy])\n",
    "print(dtrfe.support_)\n",
    "print(dtrfe.ranking_)"
   ]
  },
  {
   "cell_type": "code",
   "execution_count": 58,
   "metadata": {},
   "outputs": [],
   "source": [
    "dttestfeatures = ['INCOME',\n",
    " 'OVERAGE',\n",
    " 'HOUSE',\n",
    " 'HANDSET_PRICE',\n",
    "]"
   ]
  },
  {
   "cell_type": "code",
   "execution_count": 59,
   "metadata": {},
   "outputs": [],
   "source": [
    "#test_vars=test.columns.values.tolist()\n",
    "#yt=['LEAVE']\n",
    "#Xt=[i for i in test_vars if i not in yt]\n",
    "\n",
    "#testmodel = LogisticRegression()\n",
    "#rfe = RFE(testmodel, 4) #pick number of columns you want, this tests which cols might be most important\n",
    "#rfe = rfe.fit(test[Xt], test[yt])\n",
    "#print(rfe.support_)\n",
    "#print(rfe.ranking_)"
   ]
  },
  {
   "cell_type": "code",
   "execution_count": 60,
   "metadata": {},
   "outputs": [],
   "source": [
    "#Xt\n",
    "#Xtest"
   ]
  },
  {
   "cell_type": "markdown",
   "metadata": {},
   "source": [
    "# Logistic Regression"
   ]
  },
  {
   "cell_type": "code",
   "execution_count": 61,
   "metadata": {},
   "outputs": [
    {
     "name": "stderr",
     "output_type": "stream",
     "text": [
      "/usr/local/lib/python3.7/site-packages/sklearn/linear_model/logistic.py:433: FutureWarning: Default solver will be changed to 'lbfgs' in 0.22. Specify a solver to silence this warning.\n",
      "  FutureWarning)\n",
      "/usr/local/lib/python3.7/site-packages/sklearn/linear_model/logistic.py:433: FutureWarning: Default solver will be changed to 'lbfgs' in 0.22. Specify a solver to silence this warning.\n",
      "  FutureWarning)\n"
     ]
    },
    {
     "data": {
      "text/plain": [
       "LogisticRegression(C=1.0, class_weight=None, dual=False, fit_intercept=True,\n",
       "          intercept_scaling=1, max_iter=100, multi_class='warn',\n",
       "          n_jobs=None, penalty='l2', random_state=None, solver='warn',\n",
       "          tol=0.0001, verbose=0, warm_start=False)"
      ]
     },
     "execution_count": 61,
     "metadata": {},
     "output_type": "execute_result"
    }
   ],
   "source": [
    "from sklearn.model_selection import train_test_split\n",
    "y=df['LEAVE']\n",
    "lr_X=df[lrfeatures]\n",
    "lr_testX=df[lrtestfeatures]\n",
    "\n",
    "#for manipulated features\n",
    "lr_X_train, lr_X_test, lr_y_train, lr_y_test = train_test_split(lr_X, y, test_size=0.3, random_state=0)\n",
    "lr = LogisticRegression()\n",
    "lr.fit(lr_X_train, lr_y_train)\n",
    "\n",
    "#for unchanged features - categoricals\n",
    "lr_Xt_train, lr_Xt_test, lr_yt_train, lr_yt_test = train_test_split(lr_testX, y, test_size=0.3, random_state=0)\n",
    "lrtest = LogisticRegression()\n",
    "lrtest.fit(lr_Xt_train, lr_yt_train)\n"
   ]
  },
  {
   "cell_type": "code",
   "execution_count": 62,
   "metadata": {},
   "outputs": [
    {
     "name": "stdout",
     "output_type": "stream",
     "text": [
      "Logistic regression accuracy: 0.503\n",
      "Coefficients: \n",
      " [[ 0.06500727  0.00758257 -0.06383925 -0.16016741  0.01331106  0.01008554\n",
      "  -0.08881867 -0.13215684 -0.18226441 -0.12977007]]\n",
      "Mean squared error: 0.71\n",
      "Variance/R^2 score: -0.9894\n"
     ]
    }
   ],
   "source": [
    "#manipulated features stats\n",
    "from sklearn.metrics import mean_squared_error, accuracy_score, r2_score\n",
    "lr_y_pred1 = lr.predict(lr_X_test)\n",
    "lr_lin_mse1 = mean_squared_error(lr_y_pred1, lr_y_test)\n",
    "lr_lin_rmse1 = np.sqrt(lr_lin_mse1)\n",
    "\n",
    "print('Logistic regression accuracy: {:.3f}'.format(accuracy_score(lr_y_test, lr.predict(lr_X_test))))\n",
    "print('Coefficients: \\n', lr.coef_)\n",
    "print(\"Mean squared error: %.2f\"% lr_lin_rmse1) #how off the prediction is\n",
    "print('Variance/R^2 score: %.4f' % r2_score(lr_y_test, lr_y_pred1)) #closer to 1 = less error"
   ]
  },
  {
   "cell_type": "code",
   "execution_count": 63,
   "metadata": {},
   "outputs": [
    {
     "name": "stdout",
     "output_type": "stream",
     "text": [
      "Logistic regression accuracy: 0.611\n",
      "Coefficients: \n",
      " [[0.00506817 0.00819218 0.01119053 0.02990223]]\n",
      "Mean squared error: 0.62\n",
      "Variance/R^2 score: -0.5567\n"
     ]
    }
   ],
   "source": [
    "#unmanipulated features stats\n",
    "lr_y_pred2 = lrtest.predict(lr_Xt_test)\n",
    "lr_lin_mse2 = mean_squared_error(lr_y_pred2, lr_yt_test)\n",
    "lr_lin_rmse2 = np.sqrt(lr_lin_mse2)\n",
    "\n",
    "print('Logistic regression accuracy: {:.3f}'.format(accuracy_score(lr_yt_test, lrtest.predict(lr_Xt_test))))\n",
    "print('Coefficients: \\n', lrtest.coef_)\n",
    "print(\"Mean squared error: %.2f\"% lr_lin_rmse2) #how off the prediction is\n",
    "print('Variance/R^2 score: %.4f' % r2_score(lr_yt_test, lr_y_pred2)) #closer to 1 = less error\n",
    "\n"
   ]
  },
  {
   "cell_type": "markdown",
   "metadata": {},
   "source": [
    "# Random Forest"
   ]
  },
  {
   "cell_type": "code",
   "execution_count": 64,
   "metadata": {},
   "outputs": [
    {
     "name": "stderr",
     "output_type": "stream",
     "text": [
      "/usr/local/lib/python3.7/site-packages/sklearn/ensemble/forest.py:246: FutureWarning: The default value of n_estimators will change from 10 in version 0.20 to 100 in 0.22.\n",
      "  \"10 in version 0.20 to 100 in 0.22.\", FutureWarning)\n"
     ]
    },
    {
     "data": {
      "text/plain": [
       "RandomForestClassifier(bootstrap=True, class_weight=None, criterion='gini',\n",
       "            max_depth=None, max_features='auto', max_leaf_nodes=None,\n",
       "            min_impurity_decrease=0.0, min_impurity_split=None,\n",
       "            min_samples_leaf=1, min_samples_split=2,\n",
       "            min_weight_fraction_leaf=0.0, n_estimators=10, n_jobs=None,\n",
       "            oob_score=False, random_state=None, verbose=0,\n",
       "            warm_start=False)"
      ]
     },
     "execution_count": 64,
     "metadata": {},
     "output_type": "execute_result"
    }
   ],
   "source": [
    "#y=df['LEAVE']\n",
    "rf_X=df[rffeatures]\n",
    "rf_testX=df[rftestfeatures]\n",
    "\n",
    "## TO IMPROVE MODEL WE CAN CHANGE TEST SIZE, RANDOM_STATE, PARAMETERS IN THE CLASSIFIER MODEL\n",
    "#for manipulated features\n",
    "rf_X_train, rf_X_test, rf_y_train, rf_y_test = train_test_split(rf_X, y, test_size=0.3, random_state=0)\n",
    "rf = RandomForestClassifier(max_features= 'auto', n_estimators= 2000, random_state=100, min_samples_leaf = 55)\n",
    "rf.fit(rf_X_train, rf_y_train)\n",
    "\n",
    "#for unchanged features - categoricals\n",
    "rf_Xt_train, rf_Xt_test, rf_yt_train, rf_yt_test = train_test_split(rf_testX, y, test_size=0.3, random_state=0)\n",
    "rftest = RandomForestClassifier()\n",
    "rftest.fit(rf_Xt_train, rf_yt_train)\n"
   ]
  },
  {
   "cell_type": "code",
   "execution_count": 65,
   "metadata": {},
   "outputs": [
    {
     "name": "stdout",
     "output_type": "stream",
     "text": [
      "Random Forest Accuracy: 0.706\n"
     ]
    }
   ],
   "source": [
    "#try to do better than 67.6 !!! :D 69.8, 70.6.!!!!\n",
    "#for manipulated features\n",
    "print('Random Forest Accuracy: {:.3f}'.format(accuracy_score(rf_y_test, rf.predict(rf_X_test))))"
   ]
  },
  {
   "cell_type": "code",
   "execution_count": 66,
   "metadata": {},
   "outputs": [
    {
     "name": "stdout",
     "output_type": "stream",
     "text": [
      "Random Forest Accuracy: 0.641\n"
     ]
    }
   ],
   "source": [
    "#for unchanged features - categoricals\n",
    "print('Random Forest Accuracy: {:.3f}'.format(accuracy_score(rf_yt_test, rftest.predict(rf_Xt_test))))"
   ]
  },
  {
   "cell_type": "markdown",
   "metadata": {},
   "source": [
    "# Support Vector Machine"
   ]
  },
  {
   "cell_type": "code",
   "execution_count": 67,
   "metadata": {},
   "outputs": [
    {
     "name": "stderr",
     "output_type": "stream",
     "text": [
      "/usr/local/lib/python3.7/site-packages/sklearn/svm/base.py:196: FutureWarning: The default value of gamma will change from 'auto' to 'scale' in version 0.22 to account better for unscaled features. Set gamma explicitly to 'auto' or 'scale' to avoid this warning.\n",
      "  \"avoid this warning.\", FutureWarning)\n"
     ]
    },
    {
     "data": {
      "text/plain": [
       "SVC(C=1.0, cache_size=200, class_weight=None, coef0=0.0,\n",
       "  decision_function_shape='ovr', degree=3, gamma='auto_deprecated',\n",
       "  kernel='rbf', max_iter=-1, probability=False, random_state=None,\n",
       "  shrinking=True, tol=0.001, verbose=False)"
      ]
     },
     "execution_count": 67,
     "metadata": {},
     "output_type": "execute_result"
    }
   ],
   "source": [
    "#y=df['LEAVE']\n",
    "sv_X=df[X]\n",
    "sv_testX=df[testX]\n",
    "\n",
    "#for manipulated features\n",
    "sv_X_train, sv_X_test, sv_y_train, sv_y_test = train_test_split(sv_X, y, test_size=0.3, random_state=0)\n",
    "svc = SVC()\n",
    "svc.fit(sv_X_train, sv_y_train)\n"
   ]
  },
  {
   "cell_type": "code",
   "execution_count": 68,
   "metadata": {},
   "outputs": [
    {
     "name": "stdout",
     "output_type": "stream",
     "text": [
      "Support vector machine accuracy: 0.508\n"
     ]
    }
   ],
   "source": [
    "print('Support vector machine accuracy: {:.3f}'.format(accuracy_score(sv_y_test, svc.predict(sv_X_test))))"
   ]
  },
  {
   "cell_type": "code",
   "execution_count": 69,
   "metadata": {},
   "outputs": [],
   "source": [
    "#svc = SVC()\n",
    "#svc.fit(Xt_train, yt_train)\n",
    "## with test, Support vector machine accuracy: 0.507\n",
    "#print('Support vector machine accuracy: {:.3f}'.format(accuracy_score(yt_test, svc.predict(Xt_test))))"
   ]
  },
  {
   "cell_type": "markdown",
   "metadata": {},
   "source": [
    "Cross validation attempts to avoid overfitting while still producing a prediction for each observation dataset. We are using 10-fold Cross-Validation to train our Random Forest model."
   ]
  },
  {
   "cell_type": "markdown",
   "metadata": {},
   "source": [
    "# Decision Tree"
   ]
  },
  {
   "cell_type": "code",
   "execution_count": 70,
   "metadata": {},
   "outputs": [],
   "source": [
    "#y=df['LEAVE']\n",
    "dt_X=df[dtfeatures]\n",
    "dt_testX=df[dttestfeatures]\n",
    "\n",
    "#for manipulated features\n",
    "dt_X_train, dt_X_test, dt_y_train, dt_y_test = train_test_split(dt_X, y, test_size=0.3, random_state=0)\n",
    "dtClf = DecisionTreeClassifier()\n",
    "dtClf.fit(dt_X_train, dt_y_train)\n",
    "dt_y_pred = dtClf.predict(dt_X_test)\n",
    "\n",
    "#for unchanged features - categoricals\n",
    "dt_Xt_train, dt_Xt_test, dt_yt_train, dt_yt_test = train_test_split(dt_testX, y, test_size=0.3, random_state=0)\n",
    "dttestClf = DecisionTreeClassifier()\n",
    "dttestClf.fit(dt_Xt_train, dt_yt_train)\n",
    "dt_yt_pred = dttestClf.predict(dt_Xt_test)"
   ]
  },
  {
   "cell_type": "code",
   "execution_count": 71,
   "metadata": {},
   "outputs": [
    {
     "name": "stdout",
     "output_type": "stream",
     "text": [
      "Manipulated Decision Tree Accuracy: 0.616\n",
      "Unmanipulated col set Decision Tree Accuracy: 0.590\n"
     ]
    }
   ],
   "source": [
    "print('Manipulated Decision Tree Accuracy: {:.3f}'.format(accuracy_score(dt_y_test, dtClf.predict(dt_X_test))))\n",
    "print('Unmanipulated col set Decision Tree Accuracy: {:.3f}'.format(accuracy_score(dt_yt_test, dttestClf.predict(dt_Xt_test))))"
   ]
  },
  {
   "cell_type": "markdown",
   "metadata": {},
   "source": [
    "# Neural Network and Standardization"
   ]
  },
  {
   "cell_type": "code",
   "execution_count": 72,
   "metadata": {},
   "outputs": [
    {
     "name": "stdout",
     "output_type": "stream",
     "text": [
      "0.6811111111111111\n"
     ]
    }
   ],
   "source": [
    "# Convert string to number\n",
    "import pandas as pd\n",
    "import numpy as np\n",
    "\n",
    "def ConvertStrToNumColumn(col):\n",
    "    # print(col)\n",
    "    if( type(col[0]) == str):\n",
    "        strDic = {}\n",
    "        xCategory = 0\n",
    "        for i, row in enumerate(col):\n",
    "            if row in strDic.keys():\n",
    "                col[i] = strDic[row]\n",
    "            else:\n",
    "                col[i] = xCategory;\n",
    "                strDic[row] = xCategory\n",
    "                xCategory += 1;\n",
    "\n",
    "    return col\n",
    "\n",
    "def ConvertStrToNumMatrix(readFileName, writeFileName):\n",
    "    targetMatrix = pd.read_csv(readFileName).values\n",
    "\n",
    "    for colNum in range(targetMatrix.shape[1]):\n",
    "        targetMatrix[:, colNum] = ConvertStrToNumColumn(targetMatrix[:, colNum])\n",
    "\n",
    "    np.savetxt(writeFileName, targetMatrix)\n",
    "\n",
    "ConvertStrToNumMatrix('train.csv', 'trainNum.txt')\n",
    "ConvertStrToNumMatrix('test.csv', 'testNum.txt')\n",
    "\n",
    "import numpy as np\n",
    "from sklearn.model_selection import train_test_split\n",
    "from sklearn import preprocessing\n",
    "from sklearn.neural_network import MLPClassifier\n",
    "\n",
    "trainData = np.loadtxt('trainNum.txt')\n",
    "# testData = np.loadtxt('testNum.txt')\n",
    "\n",
    "np.random.shuffle(trainData)\n",
    "\n",
    "X_train = trainData[:, :-1]\n",
    "y_train = trainData[:, -1]; y_train = y_train.astype(float)\n",
    "\n",
    "from sklearn.neural_network import MLPClassifier\n",
    "X_train, X_test, y_train, y_test = train_test_split(X_train, y_train, test_size=0.1)\n",
    "\n",
    "#Standardization##########\n",
    "min_max_scaler = preprocessing.MinMaxScaler()\n",
    "X_train = min_max_scaler.fit_transform(X_train)\n",
    "X_test = min_max_scaler.fit_transform(X_test)\n",
    "##########################\n",
    "numFetures = X_train.shape[1]\n",
    "neuralClf = MLPClassifier(hidden_layer_sizes=(numFetures, numFetures, numFetures\n",
    "            , numFetures), max_iter=500)\n",
    "neuralClf.fit(X_train, y_train)\n",
    "score = neuralClf.score(X_test, y_test)\n",
    "print(score)"
   ]
  },
  {
   "cell_type": "markdown",
   "metadata": {},
   "source": [
    "# Cross Validation"
   ]
  },
  {
   "cell_type": "code",
   "execution_count": 73,
   "metadata": {},
   "outputs": [
    {
     "name": "stderr",
     "output_type": "stream",
     "text": [
      "/usr/local/lib/python3.7/site-packages/sklearn/linear_model/logistic.py:433: FutureWarning: Default solver will be changed to 'lbfgs' in 0.22. Specify a solver to silence this warning.\n",
      "  FutureWarning)\n",
      "/usr/local/lib/python3.7/site-packages/sklearn/linear_model/logistic.py:433: FutureWarning: Default solver will be changed to 'lbfgs' in 0.22. Specify a solver to silence this warning.\n",
      "  FutureWarning)\n",
      "/usr/local/lib/python3.7/site-packages/sklearn/linear_model/logistic.py:433: FutureWarning: Default solver will be changed to 'lbfgs' in 0.22. Specify a solver to silence this warning.\n",
      "  FutureWarning)\n",
      "/usr/local/lib/python3.7/site-packages/sklearn/linear_model/logistic.py:433: FutureWarning: Default solver will be changed to 'lbfgs' in 0.22. Specify a solver to silence this warning.\n",
      "  FutureWarning)\n",
      "/usr/local/lib/python3.7/site-packages/sklearn/linear_model/logistic.py:433: FutureWarning: Default solver will be changed to 'lbfgs' in 0.22. Specify a solver to silence this warning.\n",
      "  FutureWarning)\n",
      "/usr/local/lib/python3.7/site-packages/sklearn/linear_model/logistic.py:433: FutureWarning: Default solver will be changed to 'lbfgs' in 0.22. Specify a solver to silence this warning.\n",
      "  FutureWarning)\n"
     ]
    },
    {
     "name": "stdout",
     "output_type": "stream",
     "text": [
      "10-fold cross validation average accuracy: 0.616\n"
     ]
    },
    {
     "name": "stderr",
     "output_type": "stream",
     "text": [
      "/usr/local/lib/python3.7/site-packages/sklearn/linear_model/logistic.py:433: FutureWarning: Default solver will be changed to 'lbfgs' in 0.22. Specify a solver to silence this warning.\n",
      "  FutureWarning)\n",
      "/usr/local/lib/python3.7/site-packages/sklearn/linear_model/logistic.py:433: FutureWarning: Default solver will be changed to 'lbfgs' in 0.22. Specify a solver to silence this warning.\n",
      "  FutureWarning)\n",
      "/usr/local/lib/python3.7/site-packages/sklearn/linear_model/logistic.py:433: FutureWarning: Default solver will be changed to 'lbfgs' in 0.22. Specify a solver to silence this warning.\n",
      "  FutureWarning)\n",
      "/usr/local/lib/python3.7/site-packages/sklearn/linear_model/logistic.py:433: FutureWarning: Default solver will be changed to 'lbfgs' in 0.22. Specify a solver to silence this warning.\n",
      "  FutureWarning)\n"
     ]
    }
   ],
   "source": [
    "#LR unmanipulated\n",
    "kfold = model_selection.KFold(n_splits=10, random_state=7)\n",
    "modelCV = LogisticRegression()\n",
    "scoring = 'accuracy'\n",
    "results = model_selection.cross_val_score(modelCV, lr_Xt_train, lr_yt_train, cv=kfold, scoring=scoring)\n",
    "print(\"10-fold cross validation average accuracy: %.3f\" % (results.mean()))"
   ]
  },
  {
   "cell_type": "code",
   "execution_count": 74,
   "metadata": {},
   "outputs": [
    {
     "name": "stderr",
     "output_type": "stream",
     "text": [
      "/usr/local/lib/python3.7/site-packages/sklearn/ensemble/forest.py:246: FutureWarning: The default value of n_estimators will change from 10 in version 0.20 to 100 in 0.22.\n",
      "  \"10 in version 0.20 to 100 in 0.22.\", FutureWarning)\n",
      "/usr/local/lib/python3.7/site-packages/sklearn/ensemble/forest.py:246: FutureWarning: The default value of n_estimators will change from 10 in version 0.20 to 100 in 0.22.\n",
      "  \"10 in version 0.20 to 100 in 0.22.\", FutureWarning)\n",
      "/usr/local/lib/python3.7/site-packages/sklearn/ensemble/forest.py:246: FutureWarning: The default value of n_estimators will change from 10 in version 0.20 to 100 in 0.22.\n",
      "  \"10 in version 0.20 to 100 in 0.22.\", FutureWarning)\n",
      "/usr/local/lib/python3.7/site-packages/sklearn/ensemble/forest.py:246: FutureWarning: The default value of n_estimators will change from 10 in version 0.20 to 100 in 0.22.\n",
      "  \"10 in version 0.20 to 100 in 0.22.\", FutureWarning)\n",
      "/usr/local/lib/python3.7/site-packages/sklearn/ensemble/forest.py:246: FutureWarning: The default value of n_estimators will change from 10 in version 0.20 to 100 in 0.22.\n",
      "  \"10 in version 0.20 to 100 in 0.22.\", FutureWarning)\n",
      "/usr/local/lib/python3.7/site-packages/sklearn/ensemble/forest.py:246: FutureWarning: The default value of n_estimators will change from 10 in version 0.20 to 100 in 0.22.\n",
      "  \"10 in version 0.20 to 100 in 0.22.\", FutureWarning)\n",
      "/usr/local/lib/python3.7/site-packages/sklearn/ensemble/forest.py:246: FutureWarning: The default value of n_estimators will change from 10 in version 0.20 to 100 in 0.22.\n",
      "  \"10 in version 0.20 to 100 in 0.22.\", FutureWarning)\n",
      "/usr/local/lib/python3.7/site-packages/sklearn/ensemble/forest.py:246: FutureWarning: The default value of n_estimators will change from 10 in version 0.20 to 100 in 0.22.\n",
      "  \"10 in version 0.20 to 100 in 0.22.\", FutureWarning)\n",
      "/usr/local/lib/python3.7/site-packages/sklearn/ensemble/forest.py:246: FutureWarning: The default value of n_estimators will change from 10 in version 0.20 to 100 in 0.22.\n",
      "  \"10 in version 0.20 to 100 in 0.22.\", FutureWarning)\n",
      "/usr/local/lib/python3.7/site-packages/sklearn/ensemble/forest.py:246: FutureWarning: The default value of n_estimators will change from 10 in version 0.20 to 100 in 0.22.\n",
      "  \"10 in version 0.20 to 100 in 0.22.\", FutureWarning)\n"
     ]
    },
    {
     "name": "stdout",
     "output_type": "stream",
     "text": [
      "10-fold cross validation average accuracy: 0.669\n"
     ]
    }
   ],
   "source": [
    "#rf manipulated, 67.5!\n",
    "kfold = model_selection.KFold(n_splits=10, random_state=7)\n",
    "modelCV = RandomForestClassifier()\n",
    "scoring = 'accuracy'\n",
    "results = model_selection.cross_val_score(modelCV, rf_X_train, rf_y_train, cv=kfold, scoring=scoring)\n",
    "print(\"10-fold cross validation average accuracy: %.3f\" % (results.mean()))"
   ]
  },
  {
   "cell_type": "code",
   "execution_count": 75,
   "metadata": {},
   "outputs": [
    {
     "name": "stdout",
     "output_type": "stream",
     "text": [
      "10-fold cross validation average accuracy: 0.623\n"
     ]
    }
   ],
   "source": [
    "#dt manipulated\n",
    "kfold = model_selection.KFold(n_splits=10, random_state=7)\n",
    "modelCV = DecisionTreeClassifier()\n",
    "scoring = 'accuracy'\n",
    "results = model_selection.cross_val_score(modelCV, dt_X_train, dt_y_train, cv=kfold, scoring=scoring)\n",
    "print(\"10-fold cross validation average accuracy: %.3f\" % (results.mean()))"
   ]
  },
  {
   "cell_type": "markdown",
   "metadata": {},
   "source": [
    "# Confusion Matrices"
   ]
  },
  {
   "cell_type": "code",
   "execution_count": 76,
   "metadata": {},
   "outputs": [
    {
     "name": "stdout",
     "output_type": "stream",
     "text": [
      "              precision    recall  f1-score   support\n",
      "\n",
      "           0       0.73      0.66      0.69      2742\n",
      "           1       0.68      0.75      0.72      2658\n",
      "\n",
      "   micro avg       0.71      0.71      0.71      5400\n",
      "   macro avg       0.71      0.71      0.71      5400\n",
      "weighted avg       0.71      0.71      0.71      5400\n",
      "\n"
     ]
    }
   ],
   "source": [
    "##RANDOM FOREST\n",
    "from sklearn.metrics import classification_report\n",
    "print(classification_report(rf_y_test, rf.predict(rf_X_test)))"
   ]
  },
  {
   "cell_type": "code",
   "execution_count": 77,
   "metadata": {},
   "outputs": [
    {
     "data": {
      "image/png": "[encoded data removed]",
      "text/plain": [
       "<Figure size 432x288 with 2 Axes>"
      ]
     },
     "metadata": {
      "needs_background": "light"
     },
     "output_type": "display_data"
    }
   ],
   "source": [
    "y_pred = rf.predict(rf_X_test)\n",
    "forest_cm = metrics.confusion_matrix(y_pred, rf_y_test, [1,0])\n",
    "sns.heatmap(forest_cm, annot=True, fmt='.2f',xticklabels = [\"Left\", \"Stayed\"] , yticklabels = [\"Left\", \"Stayed\"] )\n",
    "plt.ylabel('True class')\n",
    "plt.xlabel('Predicted class')\n",
    "plt.title('Random Forest')\n",
    "plt.savefig('random_forest')"
   ]
  },
  {
   "cell_type": "code",
   "execution_count": 78,
   "metadata": {},
   "outputs": [
    {
     "name": "stdout",
     "output_type": "stream",
     "text": [
      "              precision    recall  f1-score   support\n",
      "\n",
      "           0       0.60      0.72      0.65      2742\n",
      "           1       0.63      0.50      0.56      2658\n",
      "\n",
      "   micro avg       0.61      0.61      0.61      5400\n",
      "   macro avg       0.62      0.61      0.60      5400\n",
      "weighted avg       0.61      0.61      0.61      5400\n",
      "\n"
     ]
    }
   ],
   "source": [
    "## LOGISTIC REGRESSION\n",
    "print(classification_report(lr_yt_test, lrtest.predict(lr_Xt_test)))"
   ]
  },
  {
   "cell_type": "code",
   "execution_count": 79,
   "metadata": {},
   "outputs": [
    {
     "data": {
      "image/png": "[encoded data removed]",
      "text/plain": [
       "<Figure size 432x288 with 2 Axes>"
      ]
     },
     "metadata": {
      "needs_background": "light"
     },
     "output_type": "display_data"
    }
   ],
   "source": [
    "logreg_y_pred = lrtest.predict(lr_Xt_test)\n",
    "logreg_cm = metrics.confusion_matrix(logreg_y_pred, lr_yt_test, [1,0])\n",
    "sns.heatmap(logreg_cm, annot=True, fmt='.2f',xticklabels = [\"Left\", \"Stayed\"] , yticklabels = [\"Left\", \"Stayed\"] )\n",
    "plt.ylabel('True class')\n",
    "plt.xlabel('Predicted class')\n",
    "plt.title('Logistic Regression')\n",
    "plt.savefig('logistic_regression')"
   ]
  },
  {
   "cell_type": "code",
   "execution_count": 80,
   "metadata": {},
   "outputs": [
    {
     "data": {
      "image/png": "[encoded data removed]",
      "text/plain": [
       "<Figure size 432x288 with 2 Axes>"
      ]
     },
     "metadata": {
      "needs_background": "light"
     },
     "output_type": "display_data"
    }
   ],
   "source": [
    "dt_y_pred = dtClf.predict(dt_X_test)\n",
    "dt_cm = metrics.confusion_matrix(dt_y_pred, dt_y_test, [1,0])\n",
    "sns.heatmap(dt_cm, annot=True, fmt='.2f',xticklabels = [\"Left\", \"Stayed\"] , yticklabels = [\"Left\", \"Stayed\"] )\n",
    "plt.ylabel('True class')\n",
    "plt.xlabel('Predicted class')\n",
    "plt.title('Decision Tree')\n",
    "plt.savefig('Decision_Tree')"
   ]
  },
  {
   "cell_type": "code",
   "execution_count": 81,
   "metadata": {},
   "outputs": [],
   "source": [
    "## Support Vector Machine\n",
    "#print(classification_report(sv_y_test, svc.predict(df[X])))"
   ]
  },
  {
   "cell_type": "code",
   "execution_count": 82,
   "metadata": {},
   "outputs": [],
   "source": [
    "#svc_y_pred = svc.predict(Xt_test)\n",
    "#svc_cm = metrics.confusion_matrix(svc_y_pred, yt_test, [1,0])\n",
    "#sns.heatmap(svc_cm, annot=True, fmt='.2f',xticklabels = [\"Left\", \"Stayed\"] , yticklabels = [\"Left\", \"Stayed\"] )\n",
    "#plt.ylabel('True class')\n",
    "#plt.xlabel('Predicted class')\n",
    "#plt.title('Support Vector Machine')\n",
    "#plt.savefig('support_vector_machine')"
   ]
  },
  {
   "cell_type": "markdown",
   "metadata": {},
   "source": [
    "# ROC Curve"
   ]
  },
  {
   "cell_type": "code",
   "execution_count": 83,
   "metadata": {},
   "outputs": [
    {
     "data": {
      "image/png": "[encoded data removed]",
      "text/plain": [
       "<Figure size 432x288 with 1 Axes>"
      ]
     },
     "metadata": {
      "needs_background": "light"
     },
     "output_type": "display_data"
    }
   ],
   "source": [
    "from sklearn.metrics import roc_auc_score, roc_curve\n",
    "#lr test, dt manipulated, rf manipulated\n",
    "logit_roc_auc = roc_auc_score(lr_yt_test, lrtest.predict(lr_Xt_test))\n",
    "fpr, tpr, thresholds = roc_curve(lr_yt_test, lrtest.predict_proba(lr_Xt_test)[:,1])\n",
    "\n",
    "rf_roc_auc = roc_auc_score(rf_y_test, rf.predict(rf_X_test))\n",
    "rf_fpr, rf_tpr, rf_thresholds = roc_curve(rf_y_test, rf.predict_proba(rf_X_test)[:,1])\n",
    "\n",
    "dt_roc_auc = roc_auc_score(dt_y_test, dtClf.predict(dt_X_test))\n",
    "dt_fpr, dt_tpr, dt_thresholds = roc_curve(dt_y_test, dtClf.predict_proba(dt_X_test)[:,1])\n",
    "\n",
    "plt.figure()\n",
    "plt.plot(fpr, tpr, label='Logistic Regression (area = %0.2f)' % logit_roc_auc)\n",
    "plt.plot(rf_fpr, rf_tpr, label='Random Forest (area = %0.2f)' % rf_roc_auc)\n",
    "plt.plot(dt_fpr, dt_tpr, label='Decision Tree (area = %0.2f)' % dt_roc_auc)\n",
    "\n",
    "plt.plot([0, 1], [0, 1],'r--')\n",
    "plt.xlim([0.0, 1.0])\n",
    "plt.ylim([0.0, 1.05])\n",
    "plt.xlabel('False Positive Rate')\n",
    "plt.ylabel('True Positive Rate')\n",
    "plt.title('ROC Curve for LR and RF')\n",
    "plt.legend(loc=\"lower right\")\n",
    "plt.savefig('ROC')\n",
    "plt.show()"
   ]
  },
  {
   "cell_type": "markdown",
   "metadata": {},
   "source": [
    "# Random Forest Feature Importance, can help us choose features"
   ]
  },
  {
   "cell_type": "code",
   "execution_count": 84,
   "metadata": {},
   "outputs": [
    {
     "name": "stdout",
     "output_type": "stream",
     "text": [
      "HANDSET_PRICE-7.46%\n",
      "INCOME-12.92%\n",
      "LEFTOVER-13.77%\n",
      "OVERAGE-31.82%\n",
      "HOUSE-34.02%\n"
     ]
    }
   ],
   "source": [
    "### Random Forest Model Feature Importance\n",
    "feature_labels = np.array(rffeatures)\n",
    "importance = rf.feature_importances_\n",
    "feature_indexes_by_importance = importance.argsort()\n",
    "for index in feature_indexes_by_importance:\n",
    "    print('{}-{:.2f}%'.format(feature_labels[index], (importance[index] *100.0)))"
   ]
  },
  {
   "cell_type": "markdown",
   "metadata": {},
   "source": [
    "X features important\n",
    "COLLEGE_zero-0.98%\n",
    "COLLEGE_one-1.12%\n",
    "REPORTED_SATISFACTION_unsat-1.61%\n",
    "REPORTED_SATISFACTION_sat-1.67%\n",
    "REPORTED_SATISFACTION_avg-1.87%\n",
    "AVERAGE_CALL_DURATION-6.86%\n",
    "OVER_15MINS_CALLS_PER_MONTH-8.87%\n",
    "LEFTOVER-10.04%\n",
    "OVERAGE-13.25%\n",
    "INCOME-15.17%\n",
    "HANDSET_PRICE-15.34%\n",
    "HOUSE-23.21%\n",
    "\n",
    "rffeatures important\n",
    "COLLEGE_zero-0.98%\n",
    "COLLEGE_one-1.12%\n",
    "CONSIDERING_CHANGE_OF_PLAN_considering-1.61%\n",
    "CONSIDERING_CHANGE_OF_PLAN_actively_looking_into_it-1.67%\n",
    "REPORTED_SATISFACTION_very_unsat-1.87%\n",
    "AVERAGE_CALL_DURATION-6.86%\n",
    "OVER_15MINS_CALLS_PER_MONTH-8.87%\n",
    "LEFTOVER-10.04%\n",
    "OVERAGE-13.25%\n",
    "INCOME-15.17%\n",
    "HANDSET_PRICE-15.34%\n",
    "HOUSE-23.21%"
   ]
  },
  {
   "cell_type": "code",
   "execution_count": 85,
   "metadata": {},
   "outputs": [
    {
     "data": {
      "text/plain": [
       "['INCOME',\n",
       " 'OVERAGE',\n",
       " 'LEFTOVER',\n",
       " 'HOUSE',\n",
       " 'HANDSET_PRICE',\n",
       " 'OVER_15MINS_CALLS_PER_MONTH',\n",
       " 'AVERAGE_CALL_DURATION',\n",
       " 'COLLEGE_one',\n",
       " 'COLLEGE_zero',\n",
       " 'REPORTED_SATISFACTION_avg',\n",
       " 'REPORTED_SATISFACTION_sat',\n",
       " 'REPORTED_SATISFACTION_unsat',\n",
       " 'REPORTED_SATISFACTION_very_sat',\n",
       " 'REPORTED_SATISFACTION_very_unsat',\n",
       " 'REPORTED_USAGE_LEVEL_avg',\n",
       " 'REPORTED_USAGE_LEVEL_high',\n",
       " 'REPORTED_USAGE_LEVEL_little',\n",
       " 'REPORTED_USAGE_LEVEL_very_high',\n",
       " 'REPORTED_USAGE_LEVEL_very_little',\n",
       " 'CONSIDERING_CHANGE_OF_PLAN_actively_looking_into_it',\n",
       " 'CONSIDERING_CHANGE_OF_PLAN_considering',\n",
       " 'CONSIDERING_CHANGE_OF_PLAN_never_thought',\n",
       " 'CONSIDERING_CHANGE_OF_PLAN_no',\n",
       " 'CONSIDERING_CHANGE_OF_PLAN_perhaps']"
      ]
     },
     "execution_count": 85,
     "metadata": {},
     "output_type": "execute_result"
    }
   ],
   "source": [
    "X"
   ]
  },
  {
   "cell_type": "code",
   "execution_count": 86,
   "metadata": {},
   "outputs": [
    {
     "data": {
      "text/plain": [
       "['INCOME', 'OVERAGE', 'LEFTOVER', 'HOUSE', 'HANDSET_PRICE']"
      ]
     },
     "execution_count": 86,
     "metadata": {},
     "output_type": "execute_result"
    }
   ],
   "source": [
    "rffeatures"
   ]
  },
  {
   "cell_type": "markdown",
   "metadata": {},
   "source": [
    "# Predicting testing data"
   ]
  },
  {
   "cell_type": "code",
   "execution_count": 87,
   "metadata": {},
   "outputs": [
    {
     "data": {
      "text/plain": [
       "array(['COLLEGE', 'INCOME', 'OVERAGE', 'LEFTOVER', 'HOUSE',\n",
       "       'HANDSET_PRICE', 'OVER_15MINS_CALLS_PER_MONTH',\n",
       "       'AVERAGE_CALL_DURATION', 'REPORTED_SATISFACTION',\n",
       "       'REPORTED_USAGE_LEVEL', 'CONSIDERING_CHANGE_OF_PLAN'], dtype=object)"
      ]
     },
     "execution_count": 87,
     "metadata": {},
     "output_type": "execute_result"
    }
   ],
   "source": [
    "filename2 = 'test.csv'\n",
    "pred = pd.read_csv(filename2, header = 0, delimiter = ',')\n",
    "pred.columns.values"
   ]
  },
  {
   "cell_type": "code",
   "execution_count": 88,
   "metadata": {},
   "outputs": [
    {
     "data": {
      "text/plain": [
       "(2000, 11)"
      ]
     },
     "execution_count": 88,
     "metadata": {},
     "output_type": "execute_result"
    }
   ],
   "source": [
    "pred.shape"
   ]
  },
  {
   "cell_type": "code",
   "execution_count": 89,
   "metadata": {},
   "outputs": [],
   "source": [
    "col_vars=['COLLEGE','REPORTED_SATISFACTION', 'REPORTED_USAGE_LEVEL', 'CONSIDERING_CHANGE_OF_PLAN']\n",
    "for var in cat_vars:\n",
    "    cat_list='var'+'_'+var\n",
    "    cat_list = pd.get_dummies(pred[var], prefix=var)\n",
    "    pred1=pred.join(cat_list)\n",
    "    pred=pred1"
   ]
  },
  {
   "cell_type": "code",
   "execution_count": 90,
   "metadata": {
    "scrolled": true
   },
   "outputs": [
    {
     "data": {
      "text/html": [
       "<div>\n",
       "<style scoped>\n",
       "    .dataframe tbody tr th:only-of-type {\n",
       "        vertical-align: middle;\n",
       "    }\n",
       "\n",
       "    .dataframe tbody tr th {\n",
       "        vertical-align: top;\n",
       "    }\n",
       "\n",
       "    .dataframe thead th {\n",
       "        text-align: right;\n",
       "    }\n",
       "</style>\n",
       "<table border=\"1\" class=\"dataframe\">\n",
       "  <thead>\n",
       "    <tr style=\"text-align: right;\">\n",
       "      <th></th>\n",
       "      <th>COLLEGE</th>\n",
       "      <th>INCOME</th>\n",
       "      <th>OVERAGE</th>\n",
       "      <th>LEFTOVER</th>\n",
       "      <th>HOUSE</th>\n",
       "      <th>HANDSET_PRICE</th>\n",
       "      <th>OVER_15MINS_CALLS_PER_MONTH</th>\n",
       "      <th>AVERAGE_CALL_DURATION</th>\n",
       "      <th>REPORTED_SATISFACTION</th>\n",
       "      <th>REPORTED_USAGE_LEVEL</th>\n",
       "      <th>...</th>\n",
       "      <th>REPORTED_USAGE_LEVEL_avg</th>\n",
       "      <th>REPORTED_USAGE_LEVEL_high</th>\n",
       "      <th>REPORTED_USAGE_LEVEL_little</th>\n",
       "      <th>REPORTED_USAGE_LEVEL_very_high</th>\n",
       "      <th>REPORTED_USAGE_LEVEL_very_little</th>\n",
       "      <th>CONSIDERING_CHANGE_OF_PLAN_actively_looking_into_it</th>\n",
       "      <th>CONSIDERING_CHANGE_OF_PLAN_considering</th>\n",
       "      <th>CONSIDERING_CHANGE_OF_PLAN_never_thought</th>\n",
       "      <th>CONSIDERING_CHANGE_OF_PLAN_no</th>\n",
       "      <th>CONSIDERING_CHANGE_OF_PLAN_perhaps</th>\n",
       "    </tr>\n",
       "  </thead>\n",
       "  <tbody>\n",
       "    <tr>\n",
       "      <th>0</th>\n",
       "      <td>one</td>\n",
       "      <td>60688</td>\n",
       "      <td>58</td>\n",
       "      <td>15</td>\n",
       "      <td>952003</td>\n",
       "      <td>396</td>\n",
       "      <td>5</td>\n",
       "      <td>5</td>\n",
       "      <td>very_unsat</td>\n",
       "      <td>very_high</td>\n",
       "      <td>...</td>\n",
       "      <td>0</td>\n",
       "      <td>0</td>\n",
       "      <td>0</td>\n",
       "      <td>1</td>\n",
       "      <td>0</td>\n",
       "      <td>0</td>\n",
       "      <td>1</td>\n",
       "      <td>0</td>\n",
       "      <td>0</td>\n",
       "      <td>0</td>\n",
       "    </tr>\n",
       "    <tr>\n",
       "      <th>1</th>\n",
       "      <td>zero</td>\n",
       "      <td>135205</td>\n",
       "      <td>63</td>\n",
       "      <td>13</td>\n",
       "      <td>244290</td>\n",
       "      <td>654</td>\n",
       "      <td>3</td>\n",
       "      <td>4</td>\n",
       "      <td>very_unsat</td>\n",
       "      <td>very_little</td>\n",
       "      <td>...</td>\n",
       "      <td>0</td>\n",
       "      <td>0</td>\n",
       "      <td>0</td>\n",
       "      <td>0</td>\n",
       "      <td>1</td>\n",
       "      <td>0</td>\n",
       "      <td>0</td>\n",
       "      <td>0</td>\n",
       "      <td>1</td>\n",
       "      <td>0</td>\n",
       "    </tr>\n",
       "    <tr>\n",
       "      <th>2</th>\n",
       "      <td>zero</td>\n",
       "      <td>99138</td>\n",
       "      <td>0</td>\n",
       "      <td>52</td>\n",
       "      <td>321379</td>\n",
       "      <td>294</td>\n",
       "      <td>0</td>\n",
       "      <td>2</td>\n",
       "      <td>very_unsat</td>\n",
       "      <td>high</td>\n",
       "      <td>...</td>\n",
       "      <td>0</td>\n",
       "      <td>1</td>\n",
       "      <td>0</td>\n",
       "      <td>0</td>\n",
       "      <td>0</td>\n",
       "      <td>0</td>\n",
       "      <td>1</td>\n",
       "      <td>0</td>\n",
       "      <td>0</td>\n",
       "      <td>0</td>\n",
       "    </tr>\n",
       "    <tr>\n",
       "      <th>3</th>\n",
       "      <td>zero</td>\n",
       "      <td>119854</td>\n",
       "      <td>0</td>\n",
       "      <td>10</td>\n",
       "      <td>199373</td>\n",
       "      <td>418</td>\n",
       "      <td>1</td>\n",
       "      <td>2</td>\n",
       "      <td>very_unsat</td>\n",
       "      <td>little</td>\n",
       "      <td>...</td>\n",
       "      <td>0</td>\n",
       "      <td>0</td>\n",
       "      <td>1</td>\n",
       "      <td>0</td>\n",
       "      <td>0</td>\n",
       "      <td>0</td>\n",
       "      <td>1</td>\n",
       "      <td>0</td>\n",
       "      <td>0</td>\n",
       "      <td>0</td>\n",
       "    </tr>\n",
       "    <tr>\n",
       "      <th>4</th>\n",
       "      <td>one</td>\n",
       "      <td>150743</td>\n",
       "      <td>177</td>\n",
       "      <td>38</td>\n",
       "      <td>172870</td>\n",
       "      <td>657</td>\n",
       "      <td>22</td>\n",
       "      <td>2</td>\n",
       "      <td>very_unsat</td>\n",
       "      <td>very_little</td>\n",
       "      <td>...</td>\n",
       "      <td>0</td>\n",
       "      <td>0</td>\n",
       "      <td>0</td>\n",
       "      <td>0</td>\n",
       "      <td>1</td>\n",
       "      <td>0</td>\n",
       "      <td>0</td>\n",
       "      <td>0</td>\n",
       "      <td>0</td>\n",
       "      <td>1</td>\n",
       "    </tr>\n",
       "  </tbody>\n",
       "</table>\n",
       "<p>5 rows × 28 columns</p>\n",
       "</div>"
      ],
      "text/plain": [
       "  COLLEGE  INCOME  OVERAGE  LEFTOVER   HOUSE  HANDSET_PRICE  \\\n",
       "0     one   60688       58        15  952003            396   \n",
       "1    zero  135205       63        13  244290            654   \n",
       "2    zero   99138        0        52  321379            294   \n",
       "3    zero  119854        0        10  199373            418   \n",
       "4     one  150743      177        38  172870            657   \n",
       "\n",
       "   OVER_15MINS_CALLS_PER_MONTH  AVERAGE_CALL_DURATION REPORTED_SATISFACTION  \\\n",
       "0                            5                      5            very_unsat   \n",
       "1                            3                      4            very_unsat   \n",
       "2                            0                      2            very_unsat   \n",
       "3                            1                      2            very_unsat   \n",
       "4                           22                      2            very_unsat   \n",
       "\n",
       "  REPORTED_USAGE_LEVEL                 ...                  \\\n",
       "0            very_high                 ...                   \n",
       "1          very_little                 ...                   \n",
       "2                 high                 ...                   \n",
       "3               little                 ...                   \n",
       "4          very_little                 ...                   \n",
       "\n",
       "  REPORTED_USAGE_LEVEL_avg  REPORTED_USAGE_LEVEL_high  \\\n",
       "0                        0                          0   \n",
       "1                        0                          0   \n",
       "2                        0                          1   \n",
       "3                        0                          0   \n",
       "4                        0                          0   \n",
       "\n",
       "   REPORTED_USAGE_LEVEL_little  REPORTED_USAGE_LEVEL_very_high  \\\n",
       "0                            0                               1   \n",
       "1                            0                               0   \n",
       "2                            0                               0   \n",
       "3                            1                               0   \n",
       "4                            0                               0   \n",
       "\n",
       "   REPORTED_USAGE_LEVEL_very_little  \\\n",
       "0                                 0   \n",
       "1                                 1   \n",
       "2                                 0   \n",
       "3                                 0   \n",
       "4                                 1   \n",
       "\n",
       "   CONSIDERING_CHANGE_OF_PLAN_actively_looking_into_it  \\\n",
       "0                                                  0     \n",
       "1                                                  0     \n",
       "2                                                  0     \n",
       "3                                                  0     \n",
       "4                                                  0     \n",
       "\n",
       "   CONSIDERING_CHANGE_OF_PLAN_considering  \\\n",
       "0                                       1   \n",
       "1                                       0   \n",
       "2                                       1   \n",
       "3                                       1   \n",
       "4                                       0   \n",
       "\n",
       "   CONSIDERING_CHANGE_OF_PLAN_never_thought  CONSIDERING_CHANGE_OF_PLAN_no  \\\n",
       "0                                         0                              0   \n",
       "1                                         0                              1   \n",
       "2                                         0                              0   \n",
       "3                                         0                              0   \n",
       "4                                         0                              0   \n",
       "\n",
       "   CONSIDERING_CHANGE_OF_PLAN_perhaps  \n",
       "0                                   0  \n",
       "1                                   0  \n",
       "2                                   0  \n",
       "3                                   0  \n",
       "4                                   1  \n",
       "\n",
       "[5 rows x 28 columns]"
      ]
     },
     "execution_count": 90,
     "metadata": {},
     "output_type": "execute_result"
    }
   ],
   "source": [
    "pred.head()"
   ]
  },
  {
   "cell_type": "code",
   "execution_count": 91,
   "metadata": {},
   "outputs": [
    {
     "data": {
      "text/plain": [
       "array(['INCOME', 'OVERAGE', 'LEFTOVER', 'HOUSE', 'HANDSET_PRICE',\n",
       "       'OVER_15MINS_CALLS_PER_MONTH', 'AVERAGE_CALL_DURATION',\n",
       "       'COLLEGE_one', 'COLLEGE_zero', 'REPORTED_SATISFACTION_avg',\n",
       "       'REPORTED_SATISFACTION_sat', 'REPORTED_SATISFACTION_unsat',\n",
       "       'REPORTED_SATISFACTION_very_sat',\n",
       "       'REPORTED_SATISFACTION_very_unsat', 'REPORTED_USAGE_LEVEL_avg',\n",
       "       'REPORTED_USAGE_LEVEL_high', 'REPORTED_USAGE_LEVEL_little',\n",
       "       'REPORTED_USAGE_LEVEL_very_high',\n",
       "       'REPORTED_USAGE_LEVEL_very_little',\n",
       "       'CONSIDERING_CHANGE_OF_PLAN_actively_looking_into_it',\n",
       "       'CONSIDERING_CHANGE_OF_PLAN_considering',\n",
       "       'CONSIDERING_CHANGE_OF_PLAN_never_thought',\n",
       "       'CONSIDERING_CHANGE_OF_PLAN_no',\n",
       "       'CONSIDERING_CHANGE_OF_PLAN_perhaps'], dtype=object)"
      ]
     },
     "execution_count": 91,
     "metadata": {},
     "output_type": "execute_result"
    }
   ],
   "source": [
    "pred.drop(pred.columns[[0,8,9,10]], axis=1, inplace=True) #drop categorical data\n",
    "pred.columns.values  "
   ]
  },
  {
   "cell_type": "code",
   "execution_count": 92,
   "metadata": {},
   "outputs": [
    {
     "data": {
      "text/plain": [
       "['INCOME', 'OVERAGE', 'LEFTOVER', 'HOUSE', 'HANDSET_PRICE']"
      ]
     },
     "execution_count": 92,
     "metadata": {},
     "output_type": "execute_result"
    }
   ],
   "source": [
    "#print(pred)\n",
    "rffeatures"
   ]
  },
  {
   "cell_type": "code",
   "execution_count": 93,
   "metadata": {},
   "outputs": [],
   "source": [
    "testcol=rffeatures\n",
    "predX=pred[testcol]\n",
    "\n",
    "#predX"
   ]
  },
  {
   "cell_type": "code",
   "execution_count": 94,
   "metadata": {},
   "outputs": [],
   "source": [
    "newdf = pd.DataFrame(columns=['LEAVE'])\n",
    "\n",
    "for x in newdf:\n",
    "    #newdf['ID'] = newdf.index\n",
    "    #newdf['LEAVE'] = logregtest.predict(predX)   #logregtest expects 3 samples, logreg expects 14\n",
    "    newdf['LEAVE'] = rf.predict(predX)"
   ]
  },
  {
   "cell_type": "code",
   "execution_count": 95,
   "metadata": {},
   "outputs": [],
   "source": [
    "#print(newdf)"
   ]
  },
  {
   "cell_type": "code",
   "execution_count": 96,
   "metadata": {},
   "outputs": [
    {
     "data": {
      "text/html": [
       "<div>\n",
       "<style scoped>\n",
       "    .dataframe tbody tr th:only-of-type {\n",
       "        vertical-align: middle;\n",
       "    }\n",
       "\n",
       "    .dataframe tbody tr th {\n",
       "        vertical-align: top;\n",
       "    }\n",
       "\n",
       "    .dataframe thead th {\n",
       "        text-align: right;\n",
       "    }\n",
       "</style>\n",
       "<table border=\"1\" class=\"dataframe\">\n",
       "  <thead>\n",
       "    <tr style=\"text-align: right;\">\n",
       "      <th></th>\n",
       "      <th>LEAVE</th>\n",
       "    </tr>\n",
       "  </thead>\n",
       "  <tbody>\n",
       "    <tr>\n",
       "      <th>0</th>\n",
       "      <td>0</td>\n",
       "    </tr>\n",
       "    <tr>\n",
       "      <th>1</th>\n",
       "      <td>1</td>\n",
       "    </tr>\n",
       "    <tr>\n",
       "      <th>2</th>\n",
       "      <td>1</td>\n",
       "    </tr>\n",
       "    <tr>\n",
       "      <th>3</th>\n",
       "      <td>0</td>\n",
       "    </tr>\n",
       "    <tr>\n",
       "      <th>4</th>\n",
       "      <td>1</td>\n",
       "    </tr>\n",
       "  </tbody>\n",
       "</table>\n",
       "</div>"
      ],
      "text/plain": [
       "   LEAVE\n",
       "0      0\n",
       "1      1\n",
       "2      1\n",
       "3      0\n",
       "4      1"
      ]
     },
     "execution_count": 96,
     "metadata": {},
     "output_type": "execute_result"
    }
   ],
   "source": [
    "newdf.head()"
   ]
  },
  {
   "cell_type": "code",
   "execution_count": 97,
   "metadata": {},
   "outputs": [],
   "source": [
    "#newdf.to_csv('RFoutputnewest.csv')"
   ]
  },
  {
   "cell_type": "markdown",
   "metadata": {},
   "source": [
    "Notes:\n",
    "\n",
    "- I want to know the accuracy when all columns are included\n",
    "- To see accuracy of LR with testing where the extra categoricals are included, must\n",
    "    mess with the shape of the output DF\n",
    "    "
   ]
  },
  {
   "cell_type": "code",
   "execution_count": 98,
   "metadata": {},
   "outputs": [
    {
     "data": {
      "text/plain": [
       "(2000, 1)"
      ]
     },
     "execution_count": 98,
     "metadata": {},
     "output_type": "execute_result"
    }
   ],
   "source": [
    "newdf.shape"
   ]
  },
  {
   "cell_type": "code",
   "execution_count": null,
   "metadata": {},
   "outputs": [],
   "source": []
  }
 ],
 "metadata": {
  "kernelspec": {
   "display_name": "Python 3",
   "language": "python",
   "name": "python3"
  },
  "language_info": {
   "codemirror_mode": {
    "name": "ipython",
    "version": 3
   },
   "file_extension": ".py",
   "mimetype": "text/x-python",
   "name": "python",
   "nbconvert_exporter": "python",
   "pygments_lexer": "ipython3",
   "version": "3.7.1"
  }
 },
 "nbformat": 4,
 "nbformat_minor": 2
}
