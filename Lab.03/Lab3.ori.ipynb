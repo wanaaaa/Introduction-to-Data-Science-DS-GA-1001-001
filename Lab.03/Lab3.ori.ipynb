{
 "cells": [
  {
   "cell_type": "markdown",
   "metadata": {},
   "source": [
    "### Agenda\n",
    "1. Homework 2: [Kaggle Competition](https://docs.google.com/document/d/1ctW62_-hncYeahdhdQRBqAwauI10O1gVcqKX1b1KZs4/edit?usp=sharing)\n",
    "2. Some Public Datasets: [Google dataset search](https://toolbox.google.com/datasetsearch), [NYC Open Data](https://data.cityofnewyork.us/browse), [Data.gov](https://catalog.data.gov/dataset), [UN Data](http://data.un.org/), [Quandle](https://www.quandl.com/), [MovieLens](https://grouplens.org/datasets/movielens/), [Quora's meta list of datasets](https://www.quora.com/Data/Where-can-I-find-large-datasets-open-to-the-public)\n",
    "3. SKlearn\n",
    "    1. Dimensionality Reduction: PCA \n",
    "    2. Clustering: K-means (DS4biz p.169 - 173)"
   ]
  },
  {
   "cell_type": "markdown",
   "metadata": {},
   "source": [
    "### 3 (A): Dimensionality Reduction with PCA\n",
    "[SKlearn PCA Documents](https://scikit-learn.org/stable/modules/generated/sklearn.decomposition.PCA.html) <br>\n",
    "[Learn more about the seedsdataset](https://archive.ics.uci.edu/ml/index.php)"
   ]
  },
  {
   "cell_type": "code",
   "execution_count": 24,
   "metadata": {},
   "outputs": [],
   "source": [
    "import pandas as pd\n",
    "import numpy as np\n",
    "from sklearn.decomposition import PCA"
   ]
  },
  {
   "cell_type": "code",
   "execution_count": 21,
   "metadata": {},
   "outputs": [
    {
     "data": {
      "text/html": [
       "<div>\n",
       "<style scoped>\n",
       "    .dataframe tbody tr th:only-of-type {\n",
       "        vertical-align: middle;\n",
       "    }\n",
       "\n",
       "    .dataframe tbody tr th {\n",
       "        vertical-align: top;\n",
       "    }\n",
       "\n",
       "    .dataframe thead th {\n",
       "        text-align: right;\n",
       "    }\n",
       "</style>\n",
       "<table border=\"1\" class=\"dataframe\">\n",
       "  <thead>\n",
       "    <tr style=\"text-align: right;\">\n",
       "      <th></th>\n",
       "      <th>area</th>\n",
       "      <th>perimeter</th>\n",
       "      <th>compactness</th>\n",
       "      <th>length of kernel</th>\n",
       "      <th>width of kernel</th>\n",
       "      <th>asymmetry coefficient</th>\n",
       "      <th>length of kernel groove</th>\n",
       "      <th>wheat_variety</th>\n",
       "    </tr>\n",
       "  </thead>\n",
       "  <tbody>\n",
       "    <tr>\n",
       "      <th>0</th>\n",
       "      <td>15.26</td>\n",
       "      <td>14.84</td>\n",
       "      <td>0.8710</td>\n",
       "      <td>5.763</td>\n",
       "      <td>3.312</td>\n",
       "      <td>2.221</td>\n",
       "      <td>5.220</td>\n",
       "      <td>1</td>\n",
       "    </tr>\n",
       "    <tr>\n",
       "      <th>1</th>\n",
       "      <td>14.88</td>\n",
       "      <td>14.57</td>\n",
       "      <td>0.8811</td>\n",
       "      <td>5.554</td>\n",
       "      <td>3.333</td>\n",
       "      <td>1.018</td>\n",
       "      <td>4.956</td>\n",
       "      <td>1</td>\n",
       "    </tr>\n",
       "    <tr>\n",
       "      <th>2</th>\n",
       "      <td>14.29</td>\n",
       "      <td>14.09</td>\n",
       "      <td>0.9050</td>\n",
       "      <td>5.291</td>\n",
       "      <td>3.337</td>\n",
       "      <td>2.699</td>\n",
       "      <td>4.825</td>\n",
       "      <td>1</td>\n",
       "    </tr>\n",
       "    <tr>\n",
       "      <th>3</th>\n",
       "      <td>13.84</td>\n",
       "      <td>13.94</td>\n",
       "      <td>0.8955</td>\n",
       "      <td>5.324</td>\n",
       "      <td>3.379</td>\n",
       "      <td>2.259</td>\n",
       "      <td>4.805</td>\n",
       "      <td>1</td>\n",
       "    </tr>\n",
       "    <tr>\n",
       "      <th>4</th>\n",
       "      <td>16.14</td>\n",
       "      <td>14.99</td>\n",
       "      <td>0.9034</td>\n",
       "      <td>5.658</td>\n",
       "      <td>3.562</td>\n",
       "      <td>1.355</td>\n",
       "      <td>5.175</td>\n",
       "      <td>1</td>\n",
       "    </tr>\n",
       "  </tbody>\n",
       "</table>\n",
       "</div>"
      ],
      "text/plain": [
       "    area  perimeter  compactness  length of kernel  width of kernel  \\\n",
       "0  15.26      14.84       0.8710             5.763            3.312   \n",
       "1  14.88      14.57       0.8811             5.554            3.333   \n",
       "2  14.29      14.09       0.9050             5.291            3.337   \n",
       "3  13.84      13.94       0.8955             5.324            3.379   \n",
       "4  16.14      14.99       0.9034             5.658            3.562   \n",
       "\n",
       "   asymmetry coefficient  length of kernel groove  wheat_variety  \n",
       "0                  2.221                    5.220              1  \n",
       "1                  1.018                    4.956              1  \n",
       "2                  2.699                    4.825              1  \n",
       "3                  2.259                    4.805              1  \n",
       "4                  1.355                    5.175              1  "
      ]
     },
     "execution_count": 21,
     "metadata": {},
     "output_type": "execute_result"
    }
   ],
   "source": [
    "# Load seedsdataset.csv\n",
    "df = pd.read_csv('seedsdataset.csv')\n",
    "df.head()"
   ]
  },
  {
   "cell_type": "code",
   "execution_count": 25,
   "metadata": {},
   "outputs": [
    {
     "data": {
      "text/plain": [
       "(210, 7)"
      ]
     },
     "execution_count": 25,
     "metadata": {},
     "output_type": "execute_result"
    }
   ],
   "source": [
    "#turn dataframe into Numpy Array with shape (n_samples, n_features)\n",
    "df_feat = df.drop(['wheat_variety'], 1)\n",
    "X = df_feat.values\n",
    "X.shape"
   ]
  },
  {
   "cell_type": "code",
   "execution_count": 37,
   "metadata": {},
   "outputs": [],
   "source": [
    "#load sklearn pca, reduce dimension from 7 to 3\n",
    "pca = PCA(n_components=3)\n",
    "\n",
    "#project\n",
    "X_proj = pca.fit_transform(X)\n",
    "\n",
    "#check shape\n",
    "X_proj.shape"
   ]
  },
  {
   "cell_type": "code",
   "execution_count": 39,
   "metadata": {},
   "outputs": [
    {
     "data": {
      "text/plain": [
       "array([0.8293852 , 0.16363245, 0.00565791])"
      ]
     },
     "execution_count": 39,
     "metadata": {},
     "output_type": "execute_result"
    }
   ],
   "source": [
    "#explained variance by each principal directions\n",
    "pca.explained_variance_ratio_"
   ]
  },
  {
   "cell_type": "code",
   "execution_count": 62,
   "metadata": {},
   "outputs": [
    {
     "data": {
      "text/plain": [
       "<matplotlib.legend.Legend at 0x1a234898d0>"
      ]
     },
     "execution_count": 62,
     "metadata": {},
     "output_type": "execute_result"
    },
    {
     "data": {
      "image/png": "[encoded data removed]",
      "text/plain": [
       "<Figure size 432x288 with 1 Axes>"
      ]
     },
     "metadata": {},
     "output_type": "display_data"
    }
   ],
   "source": [
    "#plot \n",
    "\n",
    "import matplotlib.pyplot as plt\n",
    "\n",
    "colors = ['red', 'green', 'blue']\n",
    "cls = ['Kama', 'Rosa', 'Canadian']\n",
    "\n",
    "for i in range(len(cls)):\n",
    "    ix = np.where(df['wheat_variety'].values == i + 1)\n",
    "    plt.scatter(X_proj[ix, 0], X_proj[ix, 1], c = colors[i] , label = cls[i])\n",
    "plt.legend()"
   ]
  },
  {
   "cell_type": "markdown",
   "metadata": {},
   "source": [
    "### 3 (B): Clustering with K-means \n",
    "[SKlearn K-means Documents](https://scikit-learn.org/stable/modules/generated/sklearn.cluster.k_means.html)"
   ]
  },
  {
   "cell_type": "code",
   "execution_count": 70,
   "metadata": {},
   "outputs": [],
   "source": [
    "from sklearn import metrics\n",
    "from sklearn.cluster import KMeans"
   ]
  },
  {
   "cell_type": "code",
   "execution_count": 71,
   "metadata": {},
   "outputs": [],
   "source": [
    "#decide number of clusters by inertia (the 'elbow' method)\n",
    "#inertia: sum of squared distances to the closest centroid for all observations in the training set\n",
    "\n",
    "num_cluster = []\n",
    "inertia = []\n",
    "for i in range(1,6):\n",
    "    clf = KMeans(init='k-means++', n_clusters = i, n_init=10)\n",
    "    clf.fit(X)\n",
    "    num_cluster.append(i)\n",
    "    inertia.append(clf.inertia_)\n",
    "\n",
    "#plot\n",
    "plt.plot(num_cluster, inertia)"
   ]
  },
  {
   "cell_type": "code",
   "execution_count": 77,
   "metadata": {},
   "outputs": [
    {
     "data": {
      "text/plain": [
       "array([0, 0, 0, 0, 0, 0, 0, 0, 0, 0, 0, 0, 0, 0, 0, 0, 2, 0, 0, 2, 0, 0,\n",
       "       0, 0, 0, 0, 2, 0, 0, 0, 0, 0, 0, 0, 0, 0, 0, 1, 0, 2, 0, 0, 0, 0,\n",
       "       0, 0, 0, 0, 0, 0, 0, 0, 0, 0, 0, 0, 0, 0, 0, 0, 2, 2, 2, 2, 0, 0,\n",
       "       0, 0, 0, 2, 1, 1, 1, 1, 1, 1, 1, 1, 1, 1, 1, 1, 1, 1, 1, 1, 1, 1,\n",
       "       1, 1, 1, 1, 1, 1, 1, 1, 1, 1, 1, 1, 0, 1, 1, 1, 1, 1, 1, 1, 1, 1,\n",
       "       1, 1, 1, 1, 1, 1, 1, 1, 1, 1, 1, 1, 0, 1, 0, 1, 1, 1, 1, 1, 1, 1,\n",
       "       0, 0, 0, 0, 1, 0, 0, 0, 2, 2, 2, 2, 2, 2, 2, 2, 2, 2, 2, 2, 2, 2,\n",
       "       2, 2, 2, 2, 2, 2, 2, 2, 2, 2, 2, 2, 2, 2, 2, 2, 2, 2, 2, 2, 2, 2,\n",
       "       2, 2, 2, 0, 2, 2, 2, 2, 2, 2, 2, 2, 2, 2, 2, 2, 2, 2, 2, 2, 2, 2,\n",
       "       2, 2, 2, 0, 2, 2, 2, 2, 2, 2, 2, 2], dtype=int32)"
      ]
     },
     "execution_count": 77,
     "metadata": {},
     "output_type": "execute_result"
    }
   ],
   "source": [
    "chosen_clusters\n",
    "clf = KMeans(init='k-means++', n_clusters = chosen_clusters, n_init=10)\n",
    "clf.fit(X)\n",
    "clf.labels_"
   ]
  },
  {
   "cell_type": "code",
   "execution_count": 89,
   "metadata": {},
   "outputs": [
    {
     "data": {
      "text/plain": [
       "Text(0.5,1,'K-means clustering; centroids are black crosses.')"
      ]
     },
     "execution_count": 89,
     "metadata": {},
     "output_type": "execute_result"
    },
    {
     "data": {
      "image/png": "[encoded data removed]",
      "text/plain": [
       "<Figure size 432x288 with 1 Axes>"
      ]
     },
     "metadata": {},
     "output_type": "display_data"
    }
   ],
   "source": [
    "#plot k-means clustering results\n",
    "\n",
    "## centroids\n",
    "centroids = clf.cluster_centers_\n",
    "centroids_proj = pca.transform(centroids)\n",
    "\n",
    "## scatter plot\n",
    "\n",
    "colors = ['red', 'green', 'blue']\n",
    "cls = ['Kama', 'Rosa', 'Canadian']\n",
    "\n",
    "for i in range(len(cls)):\n",
    "    ix = np.where(clf.labels_ == i)\n",
    "    plt.scatter(X_proj[ix, 0], X_proj[ix, 1], c = colors[i] , label = cls[i])\n",
    "    plt.scatter(centroids_proj[:, 0], centroids_proj[:, 1],\n",
    "            marker='x', s=169, linewidths=3,\n",
    "            color='black', zorder=10)\n",
    "\n",
    "plt.legend()\n",
    "plt.title('K-means clustering; centroids are black crosses.')"
   ]
  },
  {
   "cell_type": "markdown",
   "metadata": {},
   "source": [
    "More Readings:<br>\n",
    "[K-Means Clustering: From A-Z](https://towardsdatascience.com/k-means-clustering-from-a-to-z-f6242a314e9a) <br>[In Depth: k-Means Clustering](https://jakevdp.github.io/PythonDataScienceHandbook/05.11-k-means.html)"
   ]
  }
 ],
 "metadata": {
  "kernelspec": {
   "display_name": "Python 3",
   "language": "python",
   "name": "python3"
  },
  "language_info": {
   "codemirror_mode": {
    "name": "ipython",
    "version": 3
   },
   "file_extension": ".py",
   "mimetype": "text/x-python",
   "name": "python",
   "nbconvert_exporter": "python",
   "pygments_lexer": "ipython3",
   "version": "3.7.1"
  }
 },
 "nbformat": 4,
 "nbformat_minor": 2
}
