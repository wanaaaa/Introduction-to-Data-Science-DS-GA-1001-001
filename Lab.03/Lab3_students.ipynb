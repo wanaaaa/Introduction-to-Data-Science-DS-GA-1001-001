{
 "cells": [
  {
   "cell_type": "markdown",
   "metadata": {},
   "source": [
    "### Agenda\n",
    "1. Homework 2: [Kaggle Competition](https://docs.google.com/document/d/1ctW62_-hncYeahdhdQRBqAwauI10O1gVcqKX1b1KZs4/edit?usp=sharing)\n",
    "2. Some Public Datasets: [Google dataset search](https://toolbox.google.com/datasetsearch), [NYC Open Data](https://data.cityofnewyork.us/browse), [Data.gov](https://catalog.data.gov/dataset), [UN Data](http://data.un.org/), [Quandle](https://www.quandl.com/), [MovieLens](https://grouplens.org/datasets/movielens/), [Quora's meta list of datasets](https://www.quora.com/Data/Where-can-I-find-large-datasets-open-to-the-public)\n",
    "3. SKlearn\n",
    "    1. Dimensionality Reduction: PCA \n",
    "    2. Clustering: K-means (DS4biz p.169 - 173)"
   ]
  },
  {
   "cell_type": "markdown",
   "metadata": {},
   "source": [
    "### 3 (A): Dimensionality Reduction with PCA\n",
    "[SKlearn PCA Documents](https://scikit-learn.org/stable/modules/generated/sklearn.decomposition.PCA.html) <br>\n",
    "[Learn more about the seedsdataset](https://archive.ics.uci.edu/ml/index.php)"
   ]
  },
  {
   "cell_type": "code",
   "execution_count": 1,
   "metadata": {},
   "outputs": [],
   "source": [
    "import pandas as pd\n",
    "import numpy as np\n",
    "from sklearn.decomposition import PCA"
   ]
  },
  {
   "cell_type": "code",
   "execution_count": 27,
   "metadata": {},
   "outputs": [],
   "source": [
    "# Load seedsdataset.csv \n",
    "df = pd.read_csv('seedsdataset.csv')\n",
    "# df.head()\n",
    "# print(df)"
   ]
  },
  {
   "cell_type": "code",
   "execution_count": 7,
   "metadata": {},
   "outputs": [
    {
     "data": {
      "text/plain": [
       "(210, 7)"
      ]
     },
     "execution_count": 7,
     "metadata": {},
     "output_type": "execute_result"
    }
   ],
   "source": [
    "#turn dataframe into Numpy Array with shape (n_samples, n_features)\n",
    "df_ft = df.drop('wheat_variety', axis = 1)\n",
    "X = df_ft.values\n",
    "X.shape"
   ]
  },
  {
   "cell_type": "code",
   "execution_count": 22,
   "metadata": {},
   "outputs": [
    {
     "data": {
      "text/plain": [
       "array([[ 6.63448376e-01, -1.41732098e+00,  4.12356541e-02],\n",
       "       [ 3.15666512e-01, -2.68922915e+00,  2.31726953e-01],\n",
       "       [-6.60499302e-01, -1.13150635e+00,  5.27087232e-01],\n",
       "       [-1.05527590e+00, -1.62119002e+00,  4.37015260e-01],\n",
       "       [ 1.61999921e+00, -2.18338442e+00,  3.33990920e-01],\n",
       "       [-4.76938007e-01, -1.33649437e+00,  3.55360614e-01],\n",
       "       [-1.84834720e-01, -1.50364411e-01,  1.41497264e-01],\n",
       "       [-7.80629616e-01, -1.12979883e+00,  2.79757608e-01],\n",
       "       [ 2.28210810e+00, -1.36001690e+00, -3.50729413e-01],\n",
       "       [ 1.97854147e+00, -1.49468793e+00, -2.93947251e-03],\n",
       "       [ 3.69122947e-01,  8.86722511e-01,  1.13264978e-01],\n",
       "       [-7.11021200e-01, -2.10663730e+00,  1.37552595e-01],\n",
       "       [-1.21370535e+00,  9.46878939e-02,  4.85809237e-01],\n",
       "       [-1.16908541e+00, -7.42962899e-01,  2.58209340e-01],\n",
       "       [-1.19272176e+00, -9.53268162e-01,  2.58450639e-01],\n",
       "       [-5.08171207e-01,  3.77958424e-01,  6.56217572e-01],\n",
       "       [-1.37469698e+00,  1.32290559e+00,  8.01997838e-01],\n",
       "       [ 1.05726438e+00, -2.01562875e+00,  4.33972249e-01],\n",
       "       [-1.50961097e-01, -2.02235813e+00,  7.52022386e-01],\n",
       "       [-2.46241293e+00,  7.37473835e-02,  2.12996833e-01],\n",
       "       [-6.31332100e-01, -7.18305655e-01, -5.43487434e-02],\n",
       "       [-6.89698660e-01, -1.11182531e+00, -1.69906624e-02],\n",
       "       [ 1.40769072e+00, -2.80658086e+00,  3.14889098e-01],\n",
       "       [-2.84267672e+00, -2.66880642e+00, -5.42113806e-02],\n",
       "       [ 4.33268215e-01, -1.88984464e+00,  1.04814954e-01],\n",
       "       [ 1.81289158e+00, -2.60002176e+00,  5.34196985e-02],\n",
       "       [-2.02131332e+00, -6.08743328e-01,  1.84384422e-01],\n",
       "       [-2.19571862e+00, -1.49837622e+00,  2.35406301e-02],\n",
       "       [-7.44468841e-01, -1.06518721e+00,  1.56860725e-01],\n",
       "       [-1.50350480e+00, -3.68206745e-01, -8.59614612e-03],\n",
       "       [-1.52075320e+00, -3.06180225e+00, -1.73200953e-01],\n",
       "       [ 7.61190256e-01, -2.09488759e-01,  1.65627857e-01],\n",
       "       [-7.67738428e-01,  1.26295451e-01, -1.20622472e-01],\n",
       "       [-8.23965933e-01, -1.70715020e+00,  5.32025512e-02],\n",
       "       [ 4.39542396e-01, -1.52858534e+00, -5.57773440e-02],\n",
       "       [ 1.52205298e+00, -1.25609762e+00,  1.35317730e-01],\n",
       "       [ 1.65240525e+00, -6.75119440e-01, -3.33822258e-03],\n",
       "       [ 2.47674445e+00, -4.51537548e-01,  3.09238192e-01],\n",
       "       [ 1.15750673e-02, -5.96250977e-01,  3.52544529e-02],\n",
       "       [-1.11443822e+00,  2.83345206e+00,  5.68536979e-01],\n",
       "       [-1.37160170e+00, -1.30108591e+00,  3.86783538e-02],\n",
       "       [-1.36349513e+00, -1.63960124e+00,  7.21418337e-03],\n",
       "       [-1.88302954e+00, -1.51985066e+00,  4.14988118e-01],\n",
       "       [ 6.29560566e-01,  1.10062048e+00,  6.34515325e-03],\n",
       "       [ 2.84412124e-01, -5.60641213e-01,  2.98249761e-01],\n",
       "       [-9.60044753e-01, -2.29723526e+00,  1.41107629e-01],\n",
       "       [ 8.18964617e-01, -2.26570276e+00,  1.53990241e-01],\n",
       "       [ 1.96621301e-01, -7.40666486e-01,  2.29592441e-01],\n",
       "       [ 1.53276057e-02, -1.02061146e+00,  2.02590478e-01],\n",
       "       [ 2.54235169e-01, -1.55022082e+00, -1.05705755e-01],\n",
       "       [-5.05384531e-01,  1.97773604e-01,  1.75366006e-01],\n",
       "       [ 7.11973095e-01,  1.96593925e+00,  5.15648832e-01],\n",
       "       [-3.55829381e-01,  3.79579753e-01, -1.55069874e-01],\n",
       "       [-5.66856332e-01, -4.55332330e-01,  8.98393269e-02],\n",
       "       [ 1.80968891e-02, -2.21678367e+00, -3.93360924e-01],\n",
       "       [ 4.78424858e-01, -1.71349178e+00, -1.93034894e-01],\n",
       "       [-3.75464636e-01, -9.76631316e-01,  3.10946012e-01],\n",
       "       [ 2.83883316e-01, -2.56463849e+00,  2.83654402e-01],\n",
       "       [ 7.69429731e-01, -1.63154473e+00,  1.52399604e-01],\n",
       "       [-2.77110124e+00, -2.60034941e+00,  2.33323254e-01],\n",
       "       [-3.80344820e+00, -1.51695365e+00,  2.37149111e-01],\n",
       "       [-4.00534905e+00, -1.97086343e+00,  2.03609501e-01],\n",
       "       [-2.87823982e+00, -8.86757382e-01,  4.63038181e-01],\n",
       "       [-1.87406423e+00,  2.13355284e-01,  7.89854003e-02],\n",
       "       [-2.05089330e+00, -2.82503499e+00,  1.19739519e-01],\n",
       "       [-2.16820614e+00, -1.67334585e+00,  4.54792497e-01],\n",
       "       [-2.59673795e-01, -2.44512020e+00, -6.00299972e-02],\n",
       "       [-7.07084427e-01, -1.59064814e+00, -5.52933377e-02],\n",
       "       [-2.37114217e-01, -2.28118595e+00, -1.49729134e-01],\n",
       "       [-2.28478840e+00, -4.60103809e-01, -1.17460180e-01],\n",
       "       [ 3.16409179e+00,  8.04126878e-01, -2.66641999e-01],\n",
       "       [ 2.20955077e+00,  1.27850851e+00, -1.57740826e-01],\n",
       "       [ 2.62062165e+00,  1.18221241e+00,  3.71401616e-02],\n",
       "       [ 4.76779625e+00, -1.57604721e-01,  9.29992692e-02],\n",
       "       [ 2.21232336e+00,  6.01138596e-01, -1.39544203e-01],\n",
       "       [ 2.07181452e+00,  1.50200244e+00, -7.00860345e-02],\n",
       "       [ 2.84275994e+00,  5.04000805e-01, -2.39983894e-01],\n",
       "       [ 6.46235442e+00,  1.60085825e+00, -1.52794770e-01],\n",
       "       [ 4.47829765e+00,  1.97530486e+00, -3.07050833e-01],\n",
       "       [ 2.61486732e+00, -5.12991394e-01,  2.02041872e-02],\n",
       "       [ 1.67836371e+00,  2.07292392e+00, -4.87254221e-02],\n",
       "       [ 4.03755261e+00,  2.14071720e+00,  3.50841784e-01],\n",
       "       [ 5.71859177e+00,  2.21396348e+00,  1.90304067e-01],\n",
       "       [ 5.58807242e+00, -1.50990711e+00, -3.07129758e-01],\n",
       "       [ 5.32256756e+00, -5.11477550e-02, -1.35205623e-01],\n",
       "       [ 4.00732381e+00, -7.29979610e-01, -3.00704179e-01],\n",
       "       [ 4.70505178e+00, -1.45419923e+00, -9.90969343e-02],\n",
       "       [ 4.79038389e+00,  6.44967998e-01, -5.69065929e-01],\n",
       "       [ 6.69570804e+00,  2.94421273e+00,  3.03912945e-01],\n",
       "       [ 6.46037602e+00,  2.15264305e+00,  2.01205274e-01],\n",
       "       [ 6.14337744e+00, -9.43926428e-01, -4.15476808e-01],\n",
       "       [ 4.39514760e+00, -1.61012778e-02, -1.54841426e-03],\n",
       "       [ 4.46139621e+00,  1.12624509e-01, -7.95827310e-02],\n",
       "       [ 3.78494886e+00,  2.79030096e+00,  3.90137034e-01],\n",
       "       [ 4.01629279e+00,  1.80247983e+00, -6.82260736e-01],\n",
       "       [ 2.38051551e+00,  3.23431649e-01, -3.38653786e-01],\n",
       "       [ 5.03718740e+00,  4.35062776e-01, -1.48395998e-01],\n",
       "       [ 4.92049767e+00, -8.97804759e-01, -6.05902714e-01],\n",
       "       [ 3.94065862e+00, -3.15810290e-01, -4.91695711e-01],\n",
       "       [ 4.53327546e+00, -9.29513362e-01, -2.00722187e-01],\n",
       "       [ 1.65697361e+00,  7.28440774e-01,  1.41627453e-01],\n",
       "       [ 3.63867456e+00, -1.18043005e+00,  6.80825411e-02],\n",
       "       [ 4.97852528e+00,  1.24163180e+00,  2.63041542e-01],\n",
       "       [ 4.94143745e+00,  3.05328003e-01, -2.47908931e-01],\n",
       "       [ 4.63589248e+00,  2.70940363e-01, -1.14295115e-01],\n",
       "       [ 4.52405499e+00, -5.83403419e-01,  1.38095195e-01],\n",
       "       [ 4.51574435e+00, -2.71311394e-01, -8.74599219e-02],\n",
       "       [ 3.12281151e+00,  4.56212973e-01, -8.62751578e-02],\n",
       "       [ 5.83137312e+00,  3.30385849e-01, -4.76189658e-01],\n",
       "       [ 4.35718398e+00, -1.41741787e+00, -6.25084495e-02],\n",
       "       [ 4.15756069e+00, -9.50833185e-01,  9.65051938e-02],\n",
       "       [ 5.08259001e+00,  6.24704579e-01,  6.28827972e-02],\n",
       "       [ 4.89139771e+00, -9.82917842e-01,  1.28275950e-01],\n",
       "       [ 4.44322173e+00,  3.57224575e+00,  1.56974171e-01],\n",
       "       [ 6.67155248e+00,  1.84060496e+00,  9.12010421e-02],\n",
       "       [ 4.90749190e+00, -8.18130733e-01, -2.55684480e-01],\n",
       "       [ 4.37369427e+00,  1.17679493e+00,  4.41493473e-01],\n",
       "       [ 4.87191916e+00,  1.48790820e-02, -9.56013893e-02],\n",
       "       [ 4.44858857e+00,  5.06661089e-01,  9.35385490e-02],\n",
       "       [ 5.88457254e+00,  1.27049077e-01, -1.80453388e-01],\n",
       "       [ 5.68383523e+00,  2.94064884e+00,  2.60580298e-01],\n",
       "       [ 3.70570300e+00,  4.03190365e-01, -1.09288956e-01],\n",
       "       [ 1.48852809e+00,  7.87950654e-01, -8.22192480e-02],\n",
       "       [ 3.98326071e+00, -2.15055765e-01,  1.49554483e-01],\n",
       "       [ 1.15533338e+00, -2.55675983e-01,  5.98162419e-01],\n",
       "       [ 4.23450934e+00,  1.03173593e+00,  1.64406843e-01],\n",
       "       [ 4.21700578e+00,  1.24930690e+00, -1.56980693e-01],\n",
       "       [ 3.62299759e+00, -9.85552845e-01, -1.99064864e-02],\n",
       "       [ 6.17386444e+00, -1.00395914e+00, -1.89332536e-01],\n",
       "       [ 2.71378793e+00,  2.00947941e+00,  3.92678397e-01],\n",
       "       [ 3.86089703e+00, -3.73513274e-01,  8.03597573e-02],\n",
       "       [ 4.61500274e+00, -2.10261231e-01,  9.79900380e-02],\n",
       "       [ 5.92114800e-01,  8.66320178e-01, -3.00484271e-01],\n",
       "       [ 1.48591457e+00,  7.74439749e-01, -1.72450887e-01],\n",
       "       [ 6.90660085e-01,  1.38976691e+00, -1.68271877e-01],\n",
       "       [ 5.30993584e-01, -4.14621634e-02,  2.10574049e-01],\n",
       "       [ 2.89265049e+00,  2.11576887e-01, -2.20244499e-01],\n",
       "       [ 1.10275966e+00, -8.95136177e-01, -5.29279898e-01],\n",
       "       [ 1.08106342e+00, -8.23294917e-01, -3.54727287e-01],\n",
       "       [ 1.58041453e+00,  2.92679166e-01, -2.25284288e-01],\n",
       "       [-2.08047727e+00,  1.36508853e+00, -1.99716808e-01],\n",
       "       [-2.04891061e+00,  3.11005161e+00, -6.38273447e-02],\n",
       "       [-1.93112897e+00,  2.06805453e+00,  3.42899489e-02],\n",
       "       [-3.14761497e+00,  1.38674593e+00, -2.02387013e-02],\n",
       "       [-3.35755431e+00,  3.62389743e-01, -2.78959609e-01],\n",
       "       [-4.22241525e+00,  1.97238736e+00, -3.44133543e-01],\n",
       "       [-3.55211446e+00, -1.92651406e+00, -3.78402644e-01],\n",
       "       [-2.74248901e+00,  3.68275745e-01,  9.39425325e-02],\n",
       "       [-2.26028697e+00, -7.15757433e-01, -3.01514983e-01],\n",
       "       [-4.59256683e+00,  1.21366537e+00, -4.10485088e-01],\n",
       "       [-3.49115131e+00,  1.07925934e+00, -2.38194431e-01],\n",
       "       [-3.44038060e+00,  2.89298232e+00, -2.07485411e-01],\n",
       "       [-2.88398331e+00,  7.17984884e-01, -3.58805444e-01],\n",
       "       [-3.96469498e+00, -8.67031460e-01, -2.74174690e-01],\n",
       "       [-3.85801218e+00, -1.19622949e-01, -3.44490680e-01],\n",
       "       [-4.23854664e+00,  1.60807548e+00, -2.98762740e-01],\n",
       "       [-3.89609307e+00, -8.50339426e-01, -6.58059699e-02],\n",
       "       [-2.98607257e+00,  7.68415914e-01, -3.42792920e-01],\n",
       "       [-3.33747668e+00,  2.84753275e-01, -5.22692614e-01],\n",
       "       [-3.83091968e+00,  1.23660236e+00, -3.79258301e-01],\n",
       "       [-2.36752198e+00, -8.93936559e-01, -5.13938956e-01],\n",
       "       [-3.15770694e+00,  1.92519249e-01, -3.20706760e-01],\n",
       "       [-3.23143479e+00,  8.85496109e-01, -4.51321791e-02],\n",
       "       [-2.61469342e+00,  3.94920094e-01, -8.06497416e-02],\n",
       "       [-4.49824136e+00,  2.13615465e+00,  6.33923291e-02],\n",
       "       [-2.94329647e+00, -1.88566242e+00, -4.82086609e-02],\n",
       "       [-2.76609970e+00,  8.91774133e-01, -1.72181504e-01],\n",
       "       [-2.89907369e+00, -4.09293999e-01, -4.02323115e-01],\n",
       "       [-3.90252444e+00,  1.58340894e-01, -2.77227460e-01],\n",
       "       [-3.95458414e+00, -6.73045369e-01, -2.41546685e-01],\n",
       "       [-4.52101870e+00,  2.49812224e+00, -2.49745319e-01],\n",
       "       [-4.04118364e+00,  2.51581412e+00,  1.29405374e-01],\n",
       "       [-4.04672999e+00,  1.00738290e-01, -9.09399508e-02],\n",
       "       [-4.03387689e+00,  1.39431425e+00, -9.26707967e-02],\n",
       "       [-4.51655795e+00,  9.40408717e-01, -4.06201269e-01],\n",
       "       [-4.67880742e+00,  4.91842458e-01, -5.80895287e-02],\n",
       "       [-4.15214114e+00,  1.12758416e+00, -1.65527388e-01],\n",
       "       [-4.67134302e+00,  4.21033845e-01, -1.71844958e-01],\n",
       "       [-4.01783124e+00,  1.67978706e+00,  3.14971477e-03],\n",
       "       [-2.60793947e+00, -2.37304506e+00, -3.55362015e-01],\n",
       "       [-4.03445958e+00,  7.40517346e-01,  1.30612374e-01],\n",
       "       [-2.84072766e+00,  9.33512708e-01,  5.46936118e-02],\n",
       "       [-3.09276593e+00,  7.75654915e-01, -5.61725952e-02],\n",
       "       [-3.75632591e+00,  1.04703805e+00, -4.29715405e-02],\n",
       "       [-2.41503022e+00,  2.20440679e+00, -8.67431609e-02],\n",
       "       [-3.57450320e+00, -7.19443063e-02, -4.01721420e-01],\n",
       "       [-3.37275950e+00,  8.03901892e-01, -4.60390433e-01],\n",
       "       [-4.43114913e+00, -7.75918129e-02, -1.41347439e-01],\n",
       "       [-4.55059431e+00,  3.26576882e+00,  1.99485527e-01],\n",
       "       [-5.00252227e+00,  6.36766609e-01,  1.71812058e-01],\n",
       "       [-4.55827661e+00,  1.13664276e+00, -9.51701336e-02],\n",
       "       [-4.04374701e+00, -2.25814885e-01, -6.87186458e-02],\n",
       "       [-3.36161741e+00, -5.27869965e-01, -4.74331964e-02],\n",
       "       [-4.56094950e+00,  5.95574083e-01, -2.83496804e-01],\n",
       "       [-3.11855689e+00,  3.31944329e-02,  3.57435656e-02],\n",
       "       [-2.52946420e+00,  8.37109623e-01,  3.64003383e-01],\n",
       "       [-2.58655448e+00,  1.44846001e+00,  3.01071387e-01],\n",
       "       [-1.83336074e+00,  7.30693089e-01,  2.15840207e-01],\n",
       "       [-2.36059318e+00, -6.86820620e-01, -2.53316928e-01],\n",
       "       [-2.35819688e+00, -1.20488410e+00,  3.56048199e-01],\n",
       "       [-2.97998867e+00,  1.39806029e+00,  1.31248700e-01],\n",
       "       [-2.41873891e+00, -1.74952111e+00,  4.09312427e-01],\n",
       "       [-4.21924202e+00, -1.94251854e-01,  1.18503747e-01],\n",
       "       [-3.08869155e+00,  4.37638669e+00,  4.99058361e-01],\n",
       "       [-2.78962325e+00, -1.41941777e-01,  5.02954010e-02],\n",
       "       [-3.04187227e+00, -4.73126171e-01,  1.95045363e-01],\n",
       "       [-4.10906270e+00,  1.09340872e-01, -8.74005598e-02],\n",
       "       [-2.50003394e+00,  4.30796502e+00,  5.32818431e-01],\n",
       "       [-3.33207854e+00, -5.25289746e-01, -9.81079349e-02],\n",
       "       [-3.10755116e+00,  1.54975743e+00,  1.21282793e-01]])"
      ]
     },
     "execution_count": 22,
     "metadata": {},
     "output_type": "execute_result"
    }
   ],
   "source": [
    "#load sklearn pca, reduce dimension from 7 to 3\n",
    "pca = PCA(n_components = 3)\n",
    "\n",
    "#project\n",
    "X_proj = pca.fit_transform(X)\n",
    "\n",
    "#check shape\n",
    "X_proj"
   ]
  },
  {
   "cell_type": "code",
   "execution_count": 11,
   "metadata": {},
   "outputs": [
    {
     "data": {
      "text/plain": [
       "array([0.8293852 , 0.16363245, 0.00565791])"
      ]
     },
     "execution_count": 11,
     "metadata": {},
     "output_type": "execute_result"
    }
   ],
   "source": [
    "#check explained variance by each principal directions\n",
    "pca.explained_variance_ratio_"
   ]
  },
  {
   "cell_type": "code",
   "execution_count": 25,
   "metadata": {},
   "outputs": [
    {
     "name": "stdout",
     "output_type": "stream",
     "text": [
      "(array([ 0,  1,  2,  3,  4,  5,  6,  7,  8,  9, 10, 11, 12, 13, 14, 15, 16,\n",
      "       17, 18, 19, 20, 21, 22, 23, 24, 25, 26, 27, 28, 29, 30, 31, 32, 33,\n",
      "       34, 35, 36, 37, 38, 39, 40, 41, 42, 43, 44, 45, 46, 47, 48, 49, 50,\n",
      "       51, 52, 53, 54, 55, 56, 57, 58, 59, 60, 61, 62, 63, 64, 65, 66, 67,\n",
      "       68, 69], dtype=int64),)\n",
      "======\n",
      "(array([ 70,  71,  72,  73,  74,  75,  76,  77,  78,  79,  80,  81,  82,\n",
      "        83,  84,  85,  86,  87,  88,  89,  90,  91,  92,  93,  94,  95,\n",
      "        96,  97,  98,  99, 100, 101, 102, 103, 104, 105, 106, 107, 108,\n",
      "       109, 110, 111, 112, 113, 114, 115, 116, 117, 118, 119, 120, 121,\n",
      "       122, 123, 124, 125, 126, 127, 128, 129, 130, 131, 132, 133, 134,\n",
      "       135, 136, 137, 138, 139], dtype=int64),)\n",
      "======\n",
      "(array([140, 141, 142, 143, 144, 145, 146, 147, 148, 149, 150, 151, 152,\n",
      "       153, 154, 155, 156, 157, 158, 159, 160, 161, 162, 163, 164, 165,\n",
      "       166, 167, 168, 169, 170, 171, 172, 173, 174, 175, 176, 177, 178,\n",
      "       179, 180, 181, 182, 183, 184, 185, 186, 187, 188, 189, 190, 191,\n",
      "       192, 193, 194, 195, 196, 197, 198, 199, 200, 201, 202, 203, 204,\n",
      "       205, 206, 207, 208, 209], dtype=int64),)\n",
      "======\n"
     ]
    },
    {
     "data": {
      "image/png": "[encoded data removed]",
      "text/plain": [
       "<Figure size 432x288 with 1 Axes>"
      ]
     },
     "metadata": {
      "needs_background": "light"
     },
     "output_type": "display_data"
    }
   ],
   "source": [
    "#plot \n",
    "\n",
    "import matplotlib.pyplot as plt\n",
    "\n",
    "colors = ['red', 'green', 'blue']\n",
    "cls = ['Kama', 'Rosa', 'Canadian']\n",
    "\n",
    "for i in range(len(cls)):\n",
    "    ix = np.where(df['wheat_variety'].values == i + 1)\n",
    "    #print(ix)\n",
    "    #print(\"======\")\n",
    "    plt.scatter(X_proj[ix, 0], X_proj[ix, 1], c = colors[i] , label = cls[i])\n",
    "plt.legend()\n",
    "\n",
    "plt.show()"
   ]
  },
  {
   "cell_type": "code",
   "execution_count": 21,
   "metadata": {
    "scrolled": true
   },
   "outputs": [
    {
     "data": {
      "text/plain": [
       "[<matplotlib.lines.Line2D at 0x246c7700b00>]"
      ]
     },
     "execution_count": 21,
     "metadata": {},
     "output_type": "execute_result"
    },
    {
     "data": {
      "image/png": "[encoded data removed]",
      "text/plain": [
       "<Figure size 432x288 with 1 Axes>"
      ]
     },
     "metadata": {
      "needs_background": "light"
     },
     "output_type": "display_data"
    }
   ],
   "source": [
    "import matplotlib.pyplot as plt\n",
    "plt.plot(np.array([1, 2, 3, 4, 5]), np.array([5, 6, 7, 8, 9]))"
   ]
  },
  {
   "cell_type": "markdown",
   "metadata": {},
   "source": [
    "### 3 (B): Clustering with K-means \n",
    "[SKlearn K-means Documents](https://scikit-learn.org/stable/modules/generated/sklearn.cluster.k_means.html)\n"
   ]
  },
  {
   "cell_type": "code",
   "execution_count": 32,
   "metadata": {},
   "outputs": [],
   "source": [
    "from sklearn import metrics\n",
    "from sklearn.cluster import KMeans"
   ]
  },
  {
   "cell_type": "code",
   "execution_count": 37,
   "metadata": {},
   "outputs": [
    {
     "data": {
      "text/plain": [
       "[<matplotlib.lines.Line2D at 0x246c78127f0>]"
      ]
     },
     "execution_count": 37,
     "metadata": {},
     "output_type": "execute_result"
    },
    {
     "data": {
      "image/png": "[encoded data removed]",
      "text/plain": [
       "<Figure size 432x288 with 1 Axes>"
      ]
     },
     "metadata": {
      "needs_background": "light"
     },
     "output_type": "display_data"
    }
   ],
   "source": [
    "#decide number of clusters by inertia (the 'elbow' method)\n",
    "#inertia: sum of squared distances to the closest centroid for all observations in the training set\n",
    "num_cluster = []\n",
    "inertia = []\n",
    "for i in range(1,6):\n",
    "    clf = KMeans(init='k-means++', n_clusters = i, n_init=10)\n",
    "    clf.fit(X)\n",
    "    num_cluster.append(i)\n",
    "    inertia.append(clf.inertia_)\n",
    "\n",
    "#plot\n",
    "plt.plot(num_cluster, inertia)"
   ]
  },
  {
   "cell_type": "code",
   "execution_count": 39,
   "metadata": {},
   "outputs": [
    {
     "data": {
      "text/plain": [
       "array([2, 2, 2, 2, 2, 2, 2, 2, 2, 2, 2, 2, 2, 2, 2, 2, 0, 2, 2, 0, 2, 2,\n",
       "       2, 2, 2, 2, 0, 2, 2, 2, 2, 2, 2, 2, 2, 2, 2, 1, 2, 0, 2, 2, 2, 2,\n",
       "       2, 2, 2, 2, 2, 2, 2, 2, 2, 2, 2, 2, 2, 2, 2, 2, 0, 0, 0, 0, 2, 2,\n",
       "       2, 2, 2, 0, 1, 1, 1, 1, 1, 1, 1, 1, 1, 1, 1, 1, 1, 1, 1, 1, 1, 1,\n",
       "       1, 1, 1, 1, 1, 1, 1, 1, 1, 1, 1, 1, 2, 1, 1, 1, 1, 1, 1, 1, 1, 1,\n",
       "       1, 1, 1, 1, 1, 1, 1, 1, 1, 1, 1, 1, 2, 1, 2, 1, 1, 1, 1, 1, 1, 1,\n",
       "       2, 2, 2, 2, 1, 2, 2, 2, 0, 0, 0, 0, 0, 0, 0, 0, 0, 0, 0, 0, 0, 0,\n",
       "       0, 0, 0, 0, 0, 0, 0, 0, 0, 0, 0, 0, 0, 0, 0, 0, 0, 0, 0, 0, 0, 0,\n",
       "       0, 0, 0, 2, 0, 0, 0, 0, 0, 0, 0, 0, 0, 0, 0, 0, 0, 0, 0, 0, 0, 0,\n",
       "       0, 0, 0, 2, 0, 0, 0, 0, 0, 0, 0, 0])"
      ]
     },
     "execution_count": 39,
     "metadata": {},
     "output_type": "execute_result"
    }
   ],
   "source": [
    "chosen_cluster = 3\n",
    "clf = KMeans(init='k-means++', n_clusters = chosen_cluster, n_init=10)\n",
    "clf.fit(X)\n",
    "clf.labels_"
   ]
  },
  {
   "cell_type": "code",
   "execution_count": 40,
   "metadata": {},
   "outputs": [
    {
     "data": {
      "text/plain": [
       "array([[11.96441558, 13.27480519,  0.8522    ,  5.22928571,  2.87292208,\n",
       "         4.75974026,  5.08851948],\n",
       "       [18.72180328, 16.29737705,  0.88508689,  6.20893443,  3.72267213,\n",
       "         3.60359016,  6.06609836],\n",
       "       [14.64847222, 14.46041667,  0.87916667,  5.56377778,  3.27790278,\n",
       "         2.64893333,  5.19231944]])"
      ]
     },
     "execution_count": 40,
     "metadata": {},
     "output_type": "execute_result"
    }
   ],
   "source": [
    "centroids = clf.cluster_centers_\n",
    "centroids"
   ]
  },
  {
   "cell_type": "code",
   "execution_count": 41,
   "metadata": {},
   "outputs": [
    {
     "data": {
      "text/plain": [
       "Text(0.5, 1.0, 'K-means clustering; centroids are black crosses.')"
      ]
     },
     "execution_count": 41,
     "metadata": {},
     "output_type": "execute_result"
    },
    {
     "data": {
      "image/png": "[encoded data removed]",
      "text/plain": [
       "<Figure size 432x288 with 1 Axes>"
      ]
     },
     "metadata": {
      "needs_background": "light"
     },
     "output_type": "display_data"
    }
   ],
   "source": [
    "#plot k-means clustering results\n",
    "\n",
    "## centroids\n",
    "centroids = clf.cluster_centers_\n",
    "centroids_proj = pca.transform(centroids)\n",
    "\n",
    "## scatter plot\n",
    "colors = ['red', 'green', 'blue']\n",
    "cls = ['Kama', 'Rosa', 'Canadian']\n",
    "\n",
    "for i in range(len(cls)):\n",
    "    ix = np.where(clf.labels_ == i)\n",
    "    plt.scatter(X_proj[ix, 0], X_proj[ix, 1], c = colors[i] , label = cls[i])\n",
    "    plt.scatter(centroids_proj[:, 0], centroids_proj[:, 1],\n",
    "            marker='x', s=169, linewidths=3,\n",
    "            color='black', zorder=10)\n",
    "\n",
    "plt.legend()\n",
    "plt.title('K-means clustering; centroids are black crosses.')"
   ]
  },
  {
   "cell_type": "code",
   "execution_count": null,
   "metadata": {},
   "outputs": [],
   "source": []
  }
 ],
 "metadata": {
  "kernelspec": {
   "display_name": "Python 3",
   "language": "python",
   "name": "python3"
  },
  "language_info": {
   "codemirror_mode": {
    "name": "ipython",
    "version": 3
   },
   "file_extension": ".py",
   "mimetype": "text/x-python",
   "name": "python",
   "nbconvert_exporter": "python",
   "pygments_lexer": "ipython3",
   "version": "3.7.1"
  }
 },
 "nbformat": 4,
 "nbformat_minor": 2
}
