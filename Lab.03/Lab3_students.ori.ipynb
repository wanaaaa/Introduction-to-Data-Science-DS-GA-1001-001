{
 "cells": [
  {
   "cell_type": "markdown",
   "metadata": {},
   "source": [
    "### Agenda\n",
    "1. Homework 2: [Kaggle Competition](https://docs.google.com/document/d/1ctW62_-hncYeahdhdQRBqAwauI10O1gVcqKX1b1KZs4/edit?usp=sharing)\n",
    "2. Some Public Datasets: [Google dataset search](https://toolbox.google.com/datasetsearch), [NYC Open Data](https://data.cityofnewyork.us/browse), [Data.gov](https://catalog.data.gov/dataset), [UN Data](http://data.un.org/), [Quandle](https://www.quandl.com/), [MovieLens](https://grouplens.org/datasets/movielens/), [Quora's meta list of datasets](https://www.quora.com/Data/Where-can-I-find-large-datasets-open-to-the-public)\n",
    "3. SKlearn\n",
    "    1. Dimensionality Reduction: PCA \n",
    "    2. Clustering: K-means (DS4biz p.169 - 173)"
   ]
  },
  {
   "cell_type": "markdown",
   "metadata": {},
   "source": [
    "### 3 (A): Dimensionality Reduction with PCA\n",
    "[SKlearn PCA Documents](https://scikit-learn.org/stable/modules/generated/sklearn.decomposition.PCA.html) <br>\n",
    "[Learn more about the seedsdataset](https://archive.ics.uci.edu/ml/index.php)"
   ]
  },
  {
   "cell_type": "code",
   "execution_count": 2,
   "metadata": {},
   "outputs": [],
   "source": [
    "import pandas as pd\n",
    "import numpy as np\n",
    "from sklearn.decomposition import PCA"
   ]
  },
  {
   "cell_type": "code",
   "execution_count": 3,
   "metadata": {},
   "outputs": [],
   "source": [
    "# Load seedsdataset.csv \n",
    "df = pd.read_csv('seedsdataset.csv')"
   ]
  },
  {
   "cell_type": "code",
   "execution_count": 4,
   "metadata": {},
   "outputs": [
    {
     "name": "stdout",
     "output_type": "stream",
     "text": [
      "      area  perimeter  compactness  length of kernel  width of kernel  \\\n",
      "0    15.26      14.84       0.8710             5.763            3.312   \n",
      "1    14.88      14.57       0.8811             5.554            3.333   \n",
      "2    14.29      14.09       0.9050             5.291            3.337   \n",
      "3    13.84      13.94       0.8955             5.324            3.379   \n",
      "4    16.14      14.99       0.9034             5.658            3.562   \n",
      "5    14.38      14.21       0.8951             5.386            3.312   \n",
      "6    14.69      14.49       0.8799             5.563            3.259   \n",
      "7    14.11      14.10       0.8911             5.420            3.302   \n",
      "8    16.63      15.46       0.8747             6.053            3.465   \n",
      "9    16.44      15.25       0.8880             5.884            3.505   \n",
      "10   15.26      14.85       0.8696             5.714            3.242   \n",
      "11   14.03      14.16       0.8796             5.438            3.201   \n",
      "12   13.89      14.02       0.8880             5.439            3.199   \n",
      "13   13.78      14.06       0.8759             5.479            3.156   \n",
      "14   13.74      14.05       0.8744             5.482            3.114   \n",
      "15   14.59      14.28       0.8993             5.351            3.333   \n",
      "16   13.99      13.83       0.9183             5.119            3.383   \n",
      "17   15.69      14.75       0.9058             5.527            3.514   \n",
      "18   14.70      14.21       0.9153             5.205            3.466   \n",
      "19   12.72      13.57       0.8686             5.226            3.049   \n",
      "20   14.16      14.40       0.8584             5.658            3.129   \n",
      "21   14.11      14.26       0.8722             5.520            3.168   \n",
      "22   15.88      14.90       0.8988             5.618            3.507   \n",
      "23   12.08      13.23       0.8664             5.099            2.936   \n",
      "24   15.01      14.76       0.8657             5.789            3.245   \n",
      "25   16.19      15.16       0.8849             5.833            3.421   \n",
      "26   13.02      13.76       0.8641             5.395            3.026   \n",
      "27   12.74      13.67       0.8564             5.395            2.956   \n",
      "28   14.11      14.18       0.8820             5.541            3.221   \n",
      "29   13.45      14.02       0.8604             5.516            3.065   \n",
      "..     ...        ...          ...               ...              ...   \n",
      "180  11.41      12.95       0.8560             5.090            2.775   \n",
      "181  12.46      13.41       0.8706             5.236            3.017   \n",
      "182  12.19      13.36       0.8579             5.240            2.909   \n",
      "183  11.65      13.07       0.8575             5.108            2.850   \n",
      "184  12.89      13.77       0.8541             5.495            3.026   \n",
      "185  11.56      13.31       0.8198             5.363            2.683   \n",
      "186  11.81      13.45       0.8198             5.413            2.716   \n",
      "187  10.91      12.80       0.8372             5.088            2.675   \n",
      "188  11.23      12.82       0.8594             5.089            2.821   \n",
      "189  10.59      12.41       0.8648             4.899            2.787   \n",
      "190  10.93      12.80       0.8390             5.046            2.717   \n",
      "191  11.27      12.86       0.8563             5.091            2.804   \n",
      "192  11.87      13.02       0.8795             5.132            2.953   \n",
      "193  10.82      12.83       0.8256             5.180            2.630   \n",
      "194  12.11      13.27       0.8639             5.236            2.975   \n",
      "195  12.80      13.47       0.8860             5.160            3.126   \n",
      "196  12.79      13.53       0.8786             5.224            3.054   \n",
      "197  13.37      13.78       0.8849             5.320            3.128   \n",
      "198  12.62      13.67       0.8481             5.410            2.911   \n",
      "199  12.76      13.38       0.8964             5.073            3.155   \n",
      "200  12.38      13.44       0.8609             5.219            2.989   \n",
      "201  12.67      13.32       0.8977             4.984            3.135   \n",
      "202  11.18      12.72       0.8680             5.009            2.810   \n",
      "203  12.70      13.41       0.8874             5.183            3.091   \n",
      "204  12.37      13.47       0.8567             5.204            2.960   \n",
      "205  12.19      13.20       0.8783             5.137            2.981   \n",
      "206  11.23      12.88       0.8511             5.140            2.795   \n",
      "207  13.20      13.66       0.8883             5.236            3.232   \n",
      "208  11.84      13.21       0.8521             5.175            2.836   \n",
      "209  12.30      13.34       0.8684             5.243            2.974   \n",
      "\n",
      "     asymmetry coefficient  length of kernel groove  wheat_variety  \n",
      "0                   2.2210                    5.220              1  \n",
      "1                   1.0180                    4.956              1  \n",
      "2                   2.6990                    4.825              1  \n",
      "3                   2.2590                    4.805              1  \n",
      "4                   1.3550                    5.175              1  \n",
      "5                   2.4620                    4.956              1  \n",
      "6                   3.5860                    5.219              1  \n",
      "7                   2.7000                    5.000              1  \n",
      "8                   2.0400                    5.877              1  \n",
      "9                   1.9690                    5.533              1  \n",
      "10                  4.5430                    5.314              1  \n",
      "11                  1.7170                    5.001              1  \n",
      "12                  3.9860                    4.738              1  \n",
      "13                  3.1360                    4.872              1  \n",
      "14                  2.9320                    4.825              1  \n",
      "15                  4.1850                    4.781              1  \n",
      "16                  5.2340                    4.781              1  \n",
      "17                  1.5990                    5.046              1  \n",
      "18                  1.7670                    4.649              1  \n",
      "19                  4.1020                    4.914              1  \n",
      "20                  3.0720                    5.176              1  \n",
      "21                  2.6880                    5.219              1  \n",
      "22                  0.7651                    5.091              1  \n",
      "23                  1.4150                    4.961              1  \n",
      "24                  1.7910                    5.001              1  \n",
      "25                  0.9030                    5.307              1  \n",
      "26                  3.3730                    4.825              1  \n",
      "27                  2.5040                    4.869              1  \n",
      "28                  2.7540                    5.038              1  \n",
      "29                  3.5310                    5.097              1  \n",
      "..                     ...                      ...            ...  \n",
      "180                 4.9570                    4.825              3  \n",
      "181                 4.9870                    5.147              3  \n",
      "182                 4.8570                    5.158              3  \n",
      "183                 5.2090                    5.135              3  \n",
      "184                 6.1850                    5.316              3  \n",
      "185                 4.0620                    5.182              3  \n",
      "186                 4.8980                    5.352              3  \n",
      "187                 4.1790                    4.956              3  \n",
      "188                 7.5240                    4.957              3  \n",
      "189                 4.9750                    4.794              3  \n",
      "190                 5.3980                    5.045              3  \n",
      "191                 3.9850                    5.001              3  \n",
      "192                 3.5970                    5.132              3  \n",
      "193                 4.8530                    5.089              3  \n",
      "194                 4.1320                    5.012              3  \n",
      "195                 4.8730                    4.914              3  \n",
      "196                 5.4830                    4.958              3  \n",
      "197                 4.6700                    5.091              3  \n",
      "198                 3.3060                    5.231              3  \n",
      "199                 2.8280                    4.830              3  \n",
      "200                 5.4720                    5.045              3  \n",
      "201                 2.3000                    4.745              3  \n",
      "202                 4.0510                    4.828              3  \n",
      "203                 8.4560                    5.000              3  \n",
      "204                 3.9190                    5.001              3  \n",
      "205                 3.6310                    4.870              3  \n",
      "206                 4.3250                    5.003              3  \n",
      "207                 8.3150                    5.056              3  \n",
      "208                 3.5980                    5.044              3  \n",
      "209                 5.6370                    5.063              3  \n",
      "\n",
      "[210 rows x 8 columns]\n"
     ]
    }
   ],
   "source": [
    "#turn dataframe into Numpy Array with shape (n_samples, n_features)\n",
    "\n",
    "print(df)"
   ]
  },
  {
   "cell_type": "code",
   "execution_count": null,
   "metadata": {},
   "outputs": [],
   "source": [
    "#load sklearn pca, reduce dimension from 7 to 3\n",
    "\n",
    "\n",
    "#project\n",
    "\n",
    "\n",
    "#check shape\n"
   ]
  },
  {
   "cell_type": "code",
   "execution_count": null,
   "metadata": {},
   "outputs": [],
   "source": [
    "#check explained variance by each principal directions\n"
   ]
  },
  {
   "cell_type": "code",
   "execution_count": null,
   "metadata": {},
   "outputs": [],
   "source": [
    "#plot \n",
    "\n",
    "import matplotlib.pyplot as plt\n",
    "\n",
    "colors = ['red', 'green', 'blue']\n",
    "cls = ['Kama', 'Rosa', 'Canadian']\n",
    "\n",
    "for i in range(len(cls)):\n",
    "    ix = np.where(df['wheat_variety'].values == i + 1)\n",
    "    plt.scatter(X_proj[ix, 0], X_proj[ix, 1], c = colors[i] , label = cls[i])\n",
    "plt.legend()"
   ]
  },
  {
   "cell_type": "markdown",
   "metadata": {},
   "source": [
    "### 3 (B): Clustering with K-means \n",
    "[SKlearn K-means Documents](https://scikit-learn.org/stable/modules/generated/sklearn.cluster.k_means.html)\n"
   ]
  },
  {
   "cell_type": "code",
   "execution_count": null,
   "metadata": {},
   "outputs": [],
   "source": [
    "from sklearn import metrics\n",
    "from sklearn.cluster import KMeans"
   ]
  },
  {
   "cell_type": "code",
   "execution_count": 3,
   "metadata": {},
   "outputs": [],
   "source": [
    "#decide number of clusters by inertia (the 'elbow' method)\n",
    "#inertia: sum of squared distances to the closest centroid for all observations in the training set\n",
    "\n",
    "num_cluster = []\n",
    "inertia = []\n",
    "for i in range(1,6):\n",
    "    \n",
    "    \n",
    "    \n",
    "\n",
    "#plot\n"
   ]
  },
  {
   "cell_type": "code",
   "execution_count": null,
   "metadata": {},
   "outputs": [],
   "source": [
    "chosen_cluster = \n",
    "clf = KMeans(init='k-means++', n_clusters = chosen_cluster, n_init=10)\n",
    "clf.fit(X)\n",
    "clf.labels_"
   ]
  },
  {
   "cell_type": "code",
   "execution_count": null,
   "metadata": {},
   "outputs": [],
   "source": [
    "#plot k-means clustering results\n",
    "\n",
    "## centroids\n",
    "centroids = clf.cluster_centers_\n",
    "centroids_proj = pca.transform(centroids)\n",
    "\n",
    "## scatter plot\n",
    "colors = ['red', 'green', 'blue']\n",
    "cls = ['Kama', 'Rosa', 'Canadian']\n",
    "\n",
    "for i in range(len(cls)):\n",
    "    ix = np.where(clf.labels_ == i)\n",
    "    plt.scatter(X_proj[ix, 0], X_proj[ix, 1], c = colors[i] , label = cls[i])\n",
    "    plt.scatter(centroids_proj[:, 0], centroids_proj[:, 1],\n",
    "            marker='x', s=169, linewidths=3,\n",
    "            color='black', zorder=10)\n",
    "\n",
    "plt.legend()\n",
    "plt.title('K-means clustering; centroids are black crosses.')"
   ]
  }
 ],
 "metadata": {
  "kernelspec": {
   "display_name": "Python 3",
   "language": "python",
   "name": "python3"
  },
  "language_info": {
   "codemirror_mode": {
    "name": "ipython",
    "version": 3
   },
   "file_extension": ".py",
   "mimetype": "text/x-python",
   "name": "python",
   "nbconvert_exporter": "python",
   "pygments_lexer": "ipython3",
   "version": "3.7.1"
  }
 },
 "nbformat": 4,
 "nbformat_minor": 2
}
